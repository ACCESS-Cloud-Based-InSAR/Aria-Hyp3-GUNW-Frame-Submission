{
 "cells": [
  {
   "cell_type": "markdown",
   "id": "61d520ce",
   "metadata": {},
   "source": [
    "Frame enumuration and submission to Hyp3 with Tropo, Iono, SET corrections."
   ]
  },
  {
   "cell_type": "code",
   "execution_count": 1,
   "id": "756918c1",
   "metadata": {
    "ExecuteTime": {
     "end_time": "2023-03-31T15:54:24.192073Z",
     "start_time": "2023-03-31T15:54:22.680120Z"
    },
    "tags": []
   },
   "outputs": [],
   "source": [
    "from s1_frame_enumerator import (get_s1_stack, \n",
    "                                 filter_s1_stack_by_geometric_coverage_per_pass, \n",
    "                                 get_global_s1_frames, \n",
    "                                 get_overlapping_s1_frames, \n",
    "                                 enumerate_dates, \n",
    "                                 frames2gdf, \n",
    "                                 enumerate_gunw_time_series,\n",
    "                                 gdf2frames)\n",
    "from shapely.geometry import Point\n",
    "import geopandas as gpd\n",
    "from rasterio.crs import CRS\n",
    "import matplotlib.pyplot as plt\n",
    "import warnings\n",
    "import json\n",
    "import pandas as pd\n",
    "import datetime\n",
    "from tqdm import tqdm\n",
    "from pathlib import Path\n",
    "from itertools import starmap"
   ]
  },
  {
   "cell_type": "markdown",
   "id": "47b6b316-af9a-49fe-81ab-0357b1a475fd",
   "metadata": {},
   "source": [
    "# Paramaters"
   ]
  },
  {
   "cell_type": "code",
   "execution_count": 5,
   "id": "d283e7d7-742e-4732-bc61-2a2670398b3d",
   "metadata": {
    "tags": []
   },
   "outputs": [],
   "source": [
    "# AOI Name\n",
    "AOI_NAME = 'mainland_us_coast'\n",
    "STACK_DIR = None\n",
    "\n",
    "# Hyp3 Paramaters\n",
    "TEMPORAL_BASELINES_DAYS = [0, 180, 365]\n",
    "NEIGHBORS = 2\n",
    "IONOSPHERE = True\n",
    "SET = True\n",
    "WEATHER_MODEL = 'HRRR'\n",
    "\n",
    "# Notebook Parameters\n",
    "RECOMPUTE_STACKS = False"
   ]
  },
  {
   "cell_type": "code",
   "execution_count": null,
   "id": "60b1d539",
   "metadata": {},
   "outputs": [],
   "source": [
    "stack_dir = STACK_DIR or Path('stacks') / AOI_NAME\n",
    "stack_dir.mkdir(exist_ok=True, parents=True)"
   ]
  },
  {
   "cell_type": "markdown",
   "id": "ca6800f8",
   "metadata": {},
   "source": [
    "# Load AOI"
   ]
  },
  {
   "cell_type": "code",
   "execution_count": 6,
   "id": "b567ddb5",
   "metadata": {
    "ExecuteTime": {
     "end_time": "2023-03-31T15:54:24.545604Z",
     "start_time": "2023-03-31T15:54:24.193813Z"
    },
    "tags": []
   },
   "outputs": [
    {
     "data": {
      "text/plain": [
       "<Axes: >"
      ]
     },
     "execution_count": 6,
     "metadata": {},
     "output_type": "execute_result"
    },
    {
     "data": {
      "image/png": "[encoded data removed]",
      "text/plain": [
       "<Figure size 640x480 with 1 Axes>"
      ]
     },
     "metadata": {},
     "output_type": "display_data"
    }
   ],
   "source": [
    "df_coastal_us = gpd.read_file(f'AOIs/{AOI_NAME}.geojson')\n",
    "# This ensures we only get the mainland part\n",
    "df_coastal_us.plot()"
   ]
  },
  {
   "cell_type": "markdown",
   "id": "8e781f27-aef4-4ccc-afa5-15240cb5f84f",
   "metadata": {},
   "source": [
    "# Get Frames overlapping AOI"
   ]
  },
  {
   "cell_type": "code",
   "execution_count": 7,
   "id": "f3634314",
   "metadata": {
    "ExecuteTime": {
     "end_time": "2023-03-31T15:54:33.551574Z",
     "start_time": "2023-03-31T15:54:24.599754Z"
    },
    "tags": []
   },
   "outputs": [
    {
     "data": {
      "text/html": [
       "<div>\n",
       "<style scoped>\n",
       "    .dataframe tbody tr th:only-of-type {\n",
       "        vertical-align: middle;\n",
       "    }\n",
       "\n",
       "    .dataframe tbody tr th {\n",
       "        vertical-align: top;\n",
       "    }\n",
       "\n",
       "    .dataframe thead th {\n",
       "        text-align: right;\n",
       "    }\n",
       "</style>\n",
       "<table border=\"1\" class=\"dataframe\">\n",
       "  <thead>\n",
       "    <tr style=\"text-align: right;\">\n",
       "      <th></th>\n",
       "      <th>frame_id</th>\n",
       "      <th>hemisphere</th>\n",
       "      <th>track_number_min</th>\n",
       "      <th>track_number_max</th>\n",
       "      <th>geometry</th>\n",
       "    </tr>\n",
       "  </thead>\n",
       "  <tbody>\n",
       "    <tr>\n",
       "      <th>0</th>\n",
       "      <td>491</td>\n",
       "      <td>west</td>\n",
       "      <td>4</td>\n",
       "      <td>4</td>\n",
       "      <td>POLYGON Z ((-77.55802 33.30969 0.00000, -77.71...</td>\n",
       "    </tr>\n",
       "    <tr>\n",
       "      <th>1</th>\n",
       "      <td>492</td>\n",
       "      <td>west</td>\n",
       "      <td>4</td>\n",
       "      <td>4</td>\n",
       "      <td>POLYGON Z ((-77.82534 34.47332 0.00000, -78.06...</td>\n",
       "    </tr>\n",
       "    <tr>\n",
       "      <th>2</th>\n",
       "      <td>493</td>\n",
       "      <td>west</td>\n",
       "      <td>4</td>\n",
       "      <td>4</td>\n",
       "      <td>POLYGON Z ((-78.09591 35.63539 0.00000, -78.33...</td>\n",
       "    </tr>\n",
       "    <tr>\n",
       "      <th>3</th>\n",
       "      <td>494</td>\n",
       "      <td>west</td>\n",
       "      <td>4</td>\n",
       "      <td>4</td>\n",
       "      <td>POLYGON Z ((-78.37797 36.81111 0.00000, -78.41...</td>\n",
       "    </tr>\n",
       "    <tr>\n",
       "      <th>4</th>\n",
       "      <td>495</td>\n",
       "      <td>west</td>\n",
       "      <td>4</td>\n",
       "      <td>4</td>\n",
       "      <td>POLYGON Z ((-78.65322 37.95742 0.00000, -78.73...</td>\n",
       "    </tr>\n",
       "  </tbody>\n",
       "</table>\n",
       "</div>"
      ],
      "text/plain": [
       "   frame_id hemisphere  track_number_min  track_number_max   \n",
       "0       491       west                 4                 4  \\\n",
       "1       492       west                 4                 4   \n",
       "2       493       west                 4                 4   \n",
       "3       494       west                 4                 4   \n",
       "4       495       west                 4                 4   \n",
       "\n",
       "                                            geometry  \n",
       "0  POLYGON Z ((-77.55802 33.30969 0.00000, -77.71...  \n",
       "1  POLYGON Z ((-77.82534 34.47332 0.00000, -78.06...  \n",
       "2  POLYGON Z ((-78.09591 35.63539 0.00000, -78.33...  \n",
       "3  POLYGON Z ((-78.37797 36.81111 0.00000, -78.41...  \n",
       "4  POLYGON Z ((-78.65322 37.95742 0.00000, -78.73...  "
      ]
     },
     "execution_count": 7,
     "metadata": {},
     "output_type": "execute_result"
    }
   ],
   "source": [
    "aoi_geo = df_coastal_us.geometry.unary_union\n",
    "frames = get_overlapping_s1_frames(aoi_geo)\n",
    "df_frames_all = frames2gdf(frames)\n",
    "df_frames_all.head()"
   ]
  },
  {
   "cell_type": "markdown",
   "id": "62071e48-c385-47fd-92b0-ef5c6d57c9a6",
   "metadata": {},
   "source": [
    "Let's remove frames that have less than 25% overlap with our AOI. This ensures ISCE2 will have roughly enough area to process."
   ]
  },
  {
   "cell_type": "code",
   "execution_count": 8,
   "id": "b8f627f9-65f9-428f-a533-5b44b47a7e0f",
   "metadata": {
    "tags": []
   },
   "outputs": [
    {
     "name": "stderr",
     "output_type": "stream",
     "text": [
      "/var/folders/0p/d5x2m4tx5kg1246bplsvyfyh0000gq/T/ipykernel_11342/3762525945.py:7: FutureWarning: Currently, index_parts defaults to True, but in the future, it will default to False to be consistent with Pandas. Use `index_parts=True` to keep the current behavior and True/False to silence the warning.\n",
      "  df_frames = df_frames.explode()\n"
     ]
    }
   ],
   "source": [
    "intersection_geo = df_frames_all.geometry.intersection(aoi_geo)\n",
    "with warnings.catch_warnings():\n",
    "    # yes, we are computing areas in lat/lon - that's ok at these latitudes\n",
    "    warnings.simplefilter(\"ignore\", category=UserWarning)\n",
    "    percent_overlap = intersection_geo.area / df_frames_all.geometry.area\n",
    "df_frames = df_frames_all[percent_overlap >= .2].reset_index(drop=True)\n",
    "df_frames = df_frames.explode()\n",
    "frames = gdf2frames(df_frames)"
   ]
  },
  {
   "cell_type": "code",
   "execution_count": 9,
   "id": "ba8524af",
   "metadata": {
    "ExecuteTime": {
     "end_time": "2023-03-31T15:54:33.964751Z",
     "start_time": "2023-03-31T15:54:33.592836Z"
    },
    "tags": []
   },
   "outputs": [
    {
     "data": {
      "text/plain": [
       "(23.70927522851776, 50.61472809039068)"
      ]
     },
     "execution_count": 9,
     "metadata": {},
     "output_type": "execute_result"
    },
    {
     "data": {
      "image/png": "[encoded data removed]",
      "text/plain": [
       "<Figure size 640x480 with 1 Axes>"
      ]
     },
     "metadata": {},
     "output_type": "display_data"
    }
   ],
   "source": [
    "fig, ax = plt.subplots()\n",
    "df_coastal_us.geometry.boundary.plot(ax=ax)\n",
    "df_frames_by_track = df_frames.dissolve(by='track_number_min').reset_index(drop=False)\n",
    "df_frames_by_track.plot(ax=ax, \n",
    "                        column='track_number_min',\n",
    "                        categorical=True,\n",
    "                        alpha=.25, \n",
    "                        #legend=True\n",
    "                       )\n",
    "xmin, ymin, xmax, ymax = df_frames_by_track.total_bounds\n",
    "ax.set_xlim(xmin - 1, xmax + 1)\n",
    "ax.set_ylim(ymin - 1, ymax + 1)"
   ]
  },
  {
   "cell_type": "markdown",
   "id": "425464a2",
   "metadata": {},
   "source": [
    "# Get Stack from Frame\n",
    "\n",
    "If `RECOMPUTE_STACKS` is True, then will overwrite existing stack"
   ]
  },
  {
   "cell_type": "code",
   "execution_count": 11,
   "id": "7e382ed7-2fd7-4d5e-a45b-c2db36023f86",
   "metadata": {
    "tags": []
   },
   "outputs": [],
   "source": [
    "all_tracks = df_frames.track_number_min.unique().tolist()"
   ]
  },
  {
   "cell_type": "code",
   "execution_count": 12,
   "id": "d43dbb04-c05d-410a-9ee8-7135399b03b2",
   "metadata": {
    "tags": []
   },
   "outputs": [
    {
     "name": "stderr",
     "output_type": "stream",
     "text": [
      "/var/folders/0p/d5x2m4tx5kg1246bplsvyfyh0000gq/T/ipykernel_11342/2628663778.py:8: FutureWarning: Currently, index_parts defaults to True, but in the future, it will default to False to be consistent with Pandas. Use `index_parts=True` to keep the current behavior and True/False to silence the warning.\n",
      "  df_track_aois = df_frames_by_track.explode().reset_index(drop=False)\n"
     ]
    },
    {
     "data": {
      "text/html": [
       "<div>\n",
       "<style scoped>\n",
       "    .dataframe tbody tr th:only-of-type {\n",
       "        vertical-align: middle;\n",
       "    }\n",
       "\n",
       "    .dataframe tbody tr th {\n",
       "        vertical-align: top;\n",
       "    }\n",
       "\n",
       "    .dataframe thead th {\n",
       "        text-align: right;\n",
       "    }\n",
       "</style>\n",
       "<table border=\"1\" class=\"dataframe\">\n",
       "  <thead>\n",
       "    <tr style=\"text-align: right;\">\n",
       "      <th></th>\n",
       "      <th>level_0</th>\n",
       "      <th>level_1</th>\n",
       "      <th>track_number_min</th>\n",
       "      <th>frame_id</th>\n",
       "      <th>hemisphere</th>\n",
       "      <th>track_number_max</th>\n",
       "      <th>geometry</th>\n",
       "      <th>track_aoi_id</th>\n",
       "    </tr>\n",
       "  </thead>\n",
       "  <tbody>\n",
       "    <tr>\n",
       "      <th>0</th>\n",
       "      <td>0</td>\n",
       "      <td>0</td>\n",
       "      <td>4</td>\n",
       "      <td>492</td>\n",
       "      <td>west</td>\n",
       "      <td>4</td>\n",
       "      <td>POLYGON Z ((-78.06076 35.48755 0.00000, -78.06...</td>\n",
       "      <td>track4</td>\n",
       "    </tr>\n",
       "    <tr>\n",
       "      <th>1</th>\n",
       "      <td>1</td>\n",
       "      <td>0</td>\n",
       "      <td>5</td>\n",
       "      <td>649</td>\n",
       "      <td>west</td>\n",
       "      <td>5</td>\n",
       "      <td>POLYGON Z ((-100.95129 27.52268 0.00000, -100....</td>\n",
       "      <td>track5</td>\n",
       "    </tr>\n",
       "    <tr>\n",
       "      <th>2</th>\n",
       "      <td>2</td>\n",
       "      <td>0</td>\n",
       "      <td>11</td>\n",
       "      <td>1624</td>\n",
       "      <td>west</td>\n",
       "      <td>11</td>\n",
       "      <td>POLYGON Z ((-77.75658 35.26745 0.00000, -77.75...</td>\n",
       "      <td>track11</td>\n",
       "    </tr>\n",
       "    <tr>\n",
       "      <th>3</th>\n",
       "      <td>3</td>\n",
       "      <td>0</td>\n",
       "      <td>12</td>\n",
       "      <td>1798</td>\n",
       "      <td>west</td>\n",
       "      <td>12</td>\n",
       "      <td>POLYGON Z ((-103.39264 30.44650 0.00000, -103....</td>\n",
       "      <td>track12</td>\n",
       "    </tr>\n",
       "    <tr>\n",
       "      <th>4</th>\n",
       "      <td>4</td>\n",
       "      <td>0</td>\n",
       "      <td>13</td>\n",
       "      <td>1924</td>\n",
       "      <td>west</td>\n",
       "      <td>13</td>\n",
       "      <td>POLYGON Z ((-126.01699 40.73057 0.00000, -126....</td>\n",
       "      <td>track13</td>\n",
       "    </tr>\n",
       "  </tbody>\n",
       "</table>\n",
       "</div>"
      ],
      "text/plain": [
       "   level_0  level_1  track_number_min  frame_id hemisphere  track_number_max   \n",
       "0        0        0                 4       492       west                 4  \\\n",
       "1        1        0                 5       649       west                 5   \n",
       "2        2        0                11      1624       west                11   \n",
       "3        3        0                12      1798       west                12   \n",
       "4        4        0                13      1924       west                13   \n",
       "\n",
       "                                            geometry track_aoi_id  \n",
       "0  POLYGON Z ((-78.06076 35.48755 0.00000, -78.06...       track4  \n",
       "1  POLYGON Z ((-100.95129 27.52268 0.00000, -100....       track5  \n",
       "2  POLYGON Z ((-77.75658 35.26745 0.00000, -77.75...      track11  \n",
       "3  POLYGON Z ((-103.39264 30.44650 0.00000, -103....      track12  \n",
       "4  POLYGON Z ((-126.01699 40.73057 0.00000, -126....      track13  "
      ]
     },
     "execution_count": 12,
     "metadata": {},
     "output_type": "execute_result"
    }
   ],
   "source": [
    "def id_formatter(row: pd.Series):\n",
    "    \"\"\"Returns 'track<track_number>' for first instance and then 'track<track_number>_k' for each subsequent k index\"\"\"\n",
    "    if row['level_1']:\n",
    "        return f\"track{row['track_number_min']}_{row['level_1']}\"\n",
    "    else:\n",
    "        return f\"track{row['track_number_min']}\"\n",
    "\n",
    "df_track_aois = df_frames_by_track.explode().reset_index(drop=False)\n",
    "df_track_aois['track_aoi_id'] = df_track_aois.apply(id_formatter, axis=1)\n",
    "df_track_aois.head()"
   ]
  },
  {
   "cell_type": "code",
   "execution_count": 13,
   "id": "cd6e0b83",
   "metadata": {
    "ExecuteTime": {
     "end_time": "2023-03-31T15:54:34.039716Z",
     "start_time": "2023-03-31T15:54:34.003815Z"
    },
    "tags": []
   },
   "outputs": [
    {
     "data": {
      "text/plain": [
       "[S1Frame(frame_id=492, hemisphere='west', track_numbers=[4], frame_geometry=<POLYGON Z ((-77.825 34.473 0, -78.064 35.483 0, -78.06 35.484 0, -78.061 35...>, footprint_geometry=<POLYGON ((-77.744 34.126, -78.064 35.483, -78.06 35.484, -78.099 35.65, -77...>),\n",
       " S1Frame(frame_id=493, hemisphere='west', track_numbers=[4], frame_geometry=<POLYGON Z ((-78.096 35.635 0, -78.339 36.651 0, -75.472 36.651 0, -75.298 3...>, footprint_geometry=<POLYGON ((-75.238 35.485, -75.2 35.298, -76.07 35.183, -76.093 35.292, -76....>),\n",
       " S1Frame(frame_id=494, hemisphere='west', track_numbers=[4], frame_geometry=<POLYGON Z ((-78.378 36.811 0, -78.414 36.977 0, -78.618 37.813 0, -75.706 3...>, footprint_geometry=<POLYGON ((-77.308 36.32, -77.368 36.585, -78.291 36.45, -78.378 36.811, -78...>),\n",
       " S1Frame(frame_id=495, hemisphere='west', track_numbers=[4], frame_geometry=<POLYGON Z ((-78.653 37.957 0, -78.739 38.304 0, -78.734 38.305 0, -78.901 3...>, footprint_geometry=<POLYGON ((-77.57 37.482, -77.632 37.746, -78.067 37.685, -78.569 37.612, -7...>),\n",
       " S1Frame(frame_id=496, hemisphere='west', track_numbers=[4], frame_geometry=<POLYGON Z ((-78.937 39.119 0, -79.107 39.797 0, -79.103 39.798 0, -79.188 4...>, footprint_geometry=<POLYGON ((-79.062 39.616, -79.108 39.797, -79.103 39.798, -79.229 40.295, -...>),\n",
       " S1Frame(frame_id=497, hemisphere='west', track_numbers=[4], frame_geometry=<POLYGON Z ((-79.225 40.281 0, -79.442 41.123 0, -79.481 41.294 0, -76.425 4...>, footprint_geometry=<POLYGON ((-76.143 39.939, -77.069 39.827, -77.094 39.936, -77.572 39.875, -...>),\n",
       " S1Frame(frame_id=498, hemisphere='west', track_numbers=[4], frame_geometry=<POLYGON Z ((-79.519 41.441 0, -79.785 42.454 0, -76.668 42.454 0, -76.486 4...>, footprint_geometry=<POLYGON ((-76.461 41.469, -76.383 41.098, -76.846 41.045, -77.326 40.987, -...>),\n",
       " S1Frame(frame_id=499, hemisphere='west', track_numbers=[4], frame_geometry=<POLYGON Z ((-79.827 42.614 0, -79.822 42.614 0, -80.09 43.613 0, -76.914 43...>, footprint_geometry=<POLYGON ((-76.74 42.794, -76.626 42.258, -77.097 42.204, -77.586 42.146, -7...>)]"
      ]
     },
     "execution_count": 13,
     "metadata": {},
     "output_type": "execute_result"
    }
   ],
   "source": [
    "track2frames = {row['track_aoi_id']: [f for f in frames \n",
    "                                      if row['track_number_min'] in f.track_numbers \n",
    "                                      if row['geometry'].intersects(f.frame_geometry)\n",
    "                       ] \n",
    "                for _, row in df_track_aois.iterrows()}\n",
    "track2frames['track4']"
   ]
  },
  {
   "cell_type": "code",
   "execution_count": 16,
   "id": "7d07c2f8-fca8-4062-b480-ccde69e7868f",
   "metadata": {
    "tags": []
   },
   "outputs": [
    {
     "name": "stderr",
     "output_type": "stream",
     "text": [
      "\r"
     ]
    }
   ],
   "source": [
    "track_log = tqdm(total=0, position=0, bar_format='{desc}')\n",
    "\n",
    "def get_s1_stack_and_serialize(track_aoi_id, frames, recompute_stack=RECOMPUTE_STACKS):\n",
    "    if not frames:\n",
    "        warnings.warn('No frames submitted')\n",
    "        return\n",
    "    track_stack_path = stack_dir / f'{track_aoi_id}-{AOI_NAME}.geojson'\n",
    "    track_log.set_description_str(f'Current track: {track_stack_path}')\n",
    "    \n",
    "    if track_stack_path.exists() and (not recompute_stack):\n",
    "        return track_stack_path\n",
    "    df_stack = get_s1_stack(frames, minimum_coverage_ratio_per_frame=.2, minimum_coverage_ratio_per_pass=.8)\n",
    "    if df_stack.empty:\n",
    "        warnings.warn(f'Empty stack - still writing for records - check {track_aoi_id} on asf_search')\n",
    "    df_stack.to_file(track_stack_path, driver='GeoJSON')\n",
    "    return track_stack_path"
   ]
  },
  {
   "cell_type": "code",
   "execution_count": null,
   "id": "34f93c8d-b36b-4664-9293-3d19bfb02b75",
   "metadata": {
    "jupyter": {
     "outputs_hidden": true
    },
    "tags": []
   },
   "outputs": [
    {
     "name": "stderr",
     "output_type": "stream",
     "text": [
      "\n",
      "Current track: stacks/mainland_us_coast/track4-mainland_us_coast.geojson                                                                                                                                                                                 | 0/65 [00:00<?, ?it/s]\u001b[A\n",
      "\n",
      "Downloading stack from 8 frame geometries:   0%|                                                                                                                                                                                                          | 0/8 [00:00<?, ?it/s]\u001b[A\u001b[A\n",
      "\n",
      "Downloading stack from 8 frame geometries:  12%|████████████████████████▎                                                                                                                                                                         | 1/8 [00:05<00:39,  5.62s/it]\u001b[A\u001b[A\n",
      "\n",
      "Downloading stack from 8 frame geometries:  25%|████████████████████████████████████████████████▌                                                                                                                                                 | 2/8 [00:18<01:00, 10.02s/it]\u001b[A\u001b[A\n",
      "\n",
      "Downloading stack from 8 frame geometries:  38%|████████████████████████████████████████████████████████████████████████▊                                                                                                                         | 3/8 [00:26<00:45,  9.19s/it]\u001b[A\u001b[A\n",
      "\n",
      "Downloading stack from 8 frame geometries:  50%|█████████████████████████████████████████████████████████████████████████████████████████████████                                                                                                 | 4/8 [00:33<00:32,  8.06s/it]\u001b[A\u001b[A\n",
      "\n",
      "Downloading stack from 8 frame geometries:  62%|█████████████████████████████████████████████████████████████████████████████████████████████████████████████████████████▎                                                                        | 5/8 [00:43<00:26,  8.72s/it]\u001b[A\u001b[A\n",
      "\n",
      "Downloading stack from 8 frame geometries:  75%|█████████████████████████████████████████████████████████████████████████████████████████████████████████████████████████████████████████████████▌                                                | 6/8 [00:49<00:15,  7.97s/it]\u001b[A\u001b[A\n",
      "\n",
      "Downloading stack from 8 frame geometries:  88%|█████████████████████████████████████████████████████████████████████████████████████████████████████████████████████████████████████████████████████████████████████████▊                        | 7/8 [00:59<00:08,  8.44s/it]\u001b[A\u001b[A\n",
      "\n",
      "Downloading stack from 8 frame geometries: 100%|██████████████████████████████████████████████████████████████████████████████████████████████████████████████████████████████████████████████████████████████████████████████████████████████████| 8/8 [01:06<00:00,  8.29s/it]\u001b[A\u001b[A\n",
      "/Users/cmarshak/bekaert-team/s1-frame-enumerator/s1_frame_enumerator/s1_stack.py:80: UserWarning: Frame 496 did not have enough coverage on 2016-09-24 (ratio of coverage was 0.18)\n",
      "  warn(f'Frame {frame.frame_id} did not have enough coverage '\n",
      "\n",
      "Current track: stacks/mainland_us_coast/track5-mainland_us_coast.geojson                                                                                                                                                                       | 1/65 [01:06<1:11:06, 66.67s/it]\u001b[A\n",
      "\n",
      "Downloading stack from 9 frame geometries:   0%|                                                                                                                                                                                                          | 0/9 [00:00<?, ?it/s]\u001b[A\u001b[A\n",
      "\n",
      "Downloading stack from 9 frame geometries:  11%|█████████████████████▌                                                                                                                                                                            | 1/9 [00:08<01:04,  8.06s/it]\u001b[A\u001b[A\n",
      "\n",
      "Downloading stack from 9 frame geometries:  22%|███████████████████████████████████████████                                                                                                                                                       | 2/9 [00:16<00:56,  8.02s/it]\u001b[A\u001b[A\n",
      "\n",
      "Downloading stack from 9 frame geometries:  33%|████████████████████████████████████████████████████████████████▋                                                                                                                                 | 3/9 [00:23<00:47,  7.96s/it]\u001b[A\u001b[A\n",
      "\n",
      "Downloading stack from 9 frame geometries:  44%|██████████████████████████████████████████████████████████████████████████████████████▏                                                                                                           | 4/9 [00:35<00:46,  9.26s/it]\u001b[A\u001b[A\n",
      "\n",
      "Downloading stack from 9 frame geometries:  56%|███████████████████████████████████████████████████████████████████████████████████████████████████████████▊                                                                                      | 5/9 [00:41<00:32,  8.21s/it]\u001b[A\u001b[A\n",
      "\n",
      "Downloading stack from 9 frame geometries:  67%|█████████████████████████████████████████████████████████████████████████████████████████████████████████████████████████████████▎                                                                | 6/9 [00:50<00:25,  8.49s/it]\u001b[A\u001b[A\n",
      "\n",
      "Downloading stack from 9 frame geometries:  78%|██████████████████████████████████████████████████████████████████████████████████████████████████████████████████████████████████████████████████████▉                                           | 7/9 [00:56<00:15,  7.72s/it]\u001b[A\u001b[A\n",
      "\n",
      "Downloading stack from 9 frame geometries:  89%|████████████████████████████████████████████████████████████████████████████████████████████████████████████████████████████████████████████████████████████████████████████▍                     | 8/9 [01:03<00:07,  7.32s/it]\u001b[A\u001b[A\n",
      "\n",
      "Downloading stack from 9 frame geometries: 100%|██████████████████████████████████████████████████████████████████████████████████████████████████████████████████████████████████████████████████████████████████████████████████████████████████| 9/9 [01:09<00:00,  7.68s/it]\u001b[A\u001b[A\n",
      "\n",
      "Current track: stacks/mainland_us_coast/track11-mainland_us_coast.geojson                                                                                                                                                                      | 2/65 [02:16<1:11:42, 68.29s/it]\u001b[A\n",
      "\n",
      "Downloading stack from 10 frame geometries:   0%|                                                                                                                                                                                                        | 0/10 [00:00<?, ?it/s]\u001b[A\u001b[A\n",
      "\n",
      "Downloading stack from 10 frame geometries:  10%|███████████████████▏                                                                                                                                                                            | 1/10 [00:03<00:32,  3.66s/it]\u001b[A\u001b[A\n",
      "\n",
      "Downloading stack from 10 frame geometries:  20%|██████████████████████████████████████▍                                                                                                                                                         | 2/10 [00:06<00:23,  2.99s/it]\u001b[A\u001b[A\n",
      "\n",
      "Downloading stack from 10 frame geometries:  30%|█████████████████████████████████████████████████████████▌                                                                                                                                      | 3/10 [00:09<00:20,  2.97s/it]\u001b[A\u001b[A\n",
      "\n",
      "Downloading stack from 10 frame geometries:  40%|████████████████████████████████████████████████████████████████████████████▊                                                                                                                   | 4/10 [00:11<00:15,  2.61s/it]\u001b[A\u001b[A\n",
      "\n",
      "Downloading stack from 10 frame geometries:  50%|████████████████████████████████████████████████████████████████████████████████████████████████                                                                                                | 5/10 [00:15<00:15,  3.17s/it]\u001b[A\u001b[A\n",
      "\n"
     ]
    },
    {
     "name": "stderr",
     "output_type": "stream",
     "text": [
      "Downloading stack from 10 frame geometries:  60%|███████████████████████████████████████████████████████████████████████████████████████████████████████████████████▏                                                                            | 6/10 [00:17<00:11,  2.96s/it]\u001b[A\u001b[A\n",
      "\n",
      "Downloading stack from 10 frame geometries:  70%|██████████████████████████████████████████████████████████████████████████████████████████████████████████████████████████████████████▍                                                         | 7/10 [00:20<00:08,  2.79s/it]\u001b[A\u001b[A\n",
      "\n",
      "Downloading stack from 10 frame geometries:  80%|█████████████████████████████████████████████████████████████████████████████████████████████████████████████████████████████████████████████████████████▌                                      | 8/10 [00:22<00:05,  2.62s/it]\u001b[A\u001b[A\n",
      "\n",
      "Downloading stack from 10 frame geometries:  90%|████████████████████████████████████████████████████████████████████████████████████████████████████████████████████████████████████████████████████████████████████████████▊                   | 9/10 [00:25<00:02,  2.67s/it]\u001b[A\u001b[A\n",
      "\n",
      "Downloading stack from 10 frame geometries: 100%|███████████████████████████████████████████████████████████████████████████████████████████████████████████████████████████████████████████████████████████████████████████████████████████████| 10/10 [00:27<00:00,  2.74s/it]\u001b[A\u001b[A\n",
      "/Users/cmarshak/bekaert-team/s1-frame-enumerator/s1_frame_enumerator/s1_stack.py:137: UserWarning: Ensuring per pass coverage of 0.8 left no available images in the stack\n",
      "  warn(f'Ensuring per pass coverage of {ratio} left no available images in the stack',\n",
      "/Users/cmarshak/bekaert-team/s1-frame-enumerator/s1_frame_enumerator/s1_stack.py:146: UserWarning: Ensuring per frame coverage of 0.2 left no available images in the stack\n",
      "  warn(f'Ensuring per frame coverage of {ratio} left no available images in the stack',\n",
      "/var/folders/0p/d5x2m4tx5kg1246bplsvyfyh0000gq/T/ipykernel_11342/498282542.py:14: UserWarning: Empty stack - still writing for records - check track11 on asf_search\n",
      "  warnings.warn(f'Empty stack - still writing for records - check {track_aoi_id} on asf_search')\n",
      "/Users/cmarshak/mambaforge/envs/s1-frame-enumerator/lib/python3.11/site-packages/geopandas/io/file.py:545: UserWarning: You are attempting to write an empty DataFrame to file. For some drivers, this operation may fail.\n",
      "  _to_file_fiona(df, filename, driver, schema, crs, mode, **kwargs)\n",
      "\n",
      "Current track: stacks/mainland_us_coast/track12-mainland_us_coast.geojson                                                                                                                                                                        | 3/65 [02:43<51:18, 49.65s/it]\u001b[A\n",
      "\n",
      "Downloading stack from 6 frame geometries:   0%|                                                                 | 0/6 [00:00<?, ?it/s]\u001b[A\u001b[A\n",
      "\n",
      "Downloading stack from 6 frame geometries:  17%|█████████▌                                               | 1/6 [00:05<00:25,  5.20s/it]\u001b[A\u001b[A\n",
      "\n",
      "Downloading stack from 6 frame geometries:  33%|███████████████████                                      | 2/6 [00:07<00:14,  3.70s/it]\u001b[A\u001b[A\n",
      "\n",
      "Downloading stack from 6 frame geometries:  50%|████████████████████████████▌                            | 3/6 [00:12<00:12,  4.09s/it]\u001b[A\u001b[A\n",
      "\n",
      "Downloading stack from 6 frame geometries:  67%|██████████████████████████████████████                   | 4/6 [00:14<00:06,  3.34s/it]\u001b[A\u001b[A\n",
      "\n",
      "Downloading stack from 6 frame geometries:  83%|███████████████████████████████████████████████▌         | 5/6 [00:20<00:04,  4.36s/it]\u001b[A\u001b[A\n",
      "\n",
      "Downloading stack from 6 frame geometries: 100%|█████████████████████████████████████████████████████████| 6/6 [00:26<00:00,  4.41s/it]\u001b[A\u001b[A\n",
      "\n",
      "Current track: stacks/mainland_us_coast/track13-mainland_us_coast.geojson                                                                                                                                                                        | 4/65 [03:10<41:13, 40.55s/it]\u001b[A\n",
      "\n",
      "Downloading stack from 8 frame geometries:   0%|                                                                 | 0/8 [00:00<?, ?it/s]\u001b[A\u001b[A\n",
      "\n",
      "Downloading stack from 8 frame geometries:  12%|███████▏                                                 | 1/8 [00:15<01:50, 15.81s/it]\u001b[A\u001b[A\n",
      "\n",
      "Downloading stack from 8 frame geometries:  25%|██████████████▎                                          | 2/8 [00:28<01:22, 13.73s/it]\u001b[A\u001b[A\n",
      "\n",
      "Downloading stack from 8 frame geometries:  38%|█████████████████████▍                                   | 3/8 [00:43<01:12, 14.54s/it]\u001b[A\u001b[A\n",
      "\n",
      "Downloading stack from 8 frame geometries:  50%|████████████████████████████▌                            | 4/8 [00:57<00:57, 14.39s/it]\u001b[A\u001b[A\n",
      "\n",
      "Downloading stack from 8 frame geometries:  62%|███████████████████████████████████▋                     | 5/8 [01:07<00:37, 12.66s/it]\u001b[A\u001b[A\n",
      "\n",
      "Downloading stack from 8 frame geometries:  75%|██████████████████████████████████████████▊              | 6/8 [01:17<00:23, 11.89s/it]\u001b[A\u001b[A\n",
      "\n",
      "Downloading stack from 8 frame geometries:  88%|█████████████████████████████████████████████████▉       | 7/8 [01:28<00:11, 11.49s/it]\u001b[A\u001b[A\n",
      "\n",
      "Downloading stack from 8 frame geometries: 100%|█████████████████████████████████████████████████████████| 8/8 [01:41<00:00, 12.64s/it]\u001b[A\u001b[A\n",
      "/Users/cmarshak/bekaert-team/s1-frame-enumerator/s1_frame_enumerator/s1_stack.py:80: UserWarning: Frame 1931 did not have enough coverage on 2016-04-10 (ratio of coverage was 0.17)\n",
      "  warn(f'Frame {frame.frame_id} did not have enough coverage '\n",
      "\n",
      "Current track: stacks/mainland_us_coast/track19-mainland_us_coast.geojson                                                                                                                                                                      | 5/65 [04:51<1:02:28, 62.47s/it]\u001b[A\n",
      "\n",
      "Downloading stack from 5 frame geometries:   0%|                                                                 | 0/5 [00:00<?, ?it/s]\u001b[A\u001b[A\n",
      "\n",
      "Downloading stack from 5 frame geometries:  20%|███████████▍                                             | 1/5 [00:07<00:28,  7.11s/it]\u001b[A\u001b[A\n",
      "\n",
      "Downloading stack from 5 frame geometries:  40%|██████████████████████▊                                  | 2/5 [00:16<00:25,  8.54s/it]\u001b[A\u001b[A\n",
      "\n",
      "Downloading stack from 5 frame geometries:  60%|██████████████████████████████████▏                      | 3/5 [00:37<00:28, 14.26s/it]\u001b[A\u001b[A\n",
      "\n",
      "Downloading stack from 5 frame geometries:  80%|█████████████████████████████████████████████▌           | 4/5 [00:53<00:14, 14.79s/it]\u001b[A\u001b[A\n",
      "\n",
      "Downloading stack from 5 frame geometries: 100%|█████████████████████████████████████████████████████████| 5/5 [01:05<00:00, 13.09s/it]\u001b[A\u001b[A\n",
      "\n",
      "Current track: stacks/mainland_us_coast/track20-mainland_us_coast.geojson                                                                                                                                                                      | 6/65 [05:57<1:02:30, 63.57s/it]\u001b[A\n",
      "\n",
      "Downloading stack from 5 frame geometries:   0%|                                                                 | 0/5 [00:00<?, ?it/s]\u001b[A\u001b[A\n",
      "\n",
      "Downloading stack from 5 frame geometries:  20%|███████████▍                                             | 1/5 [00:10<00:41, 10.32s/it]\u001b[A\u001b[A\n",
      "\n",
      "Downloading stack from 5 frame geometries:  40%|██████████████████████▊                                  | 2/5 [00:18<00:27,  9.01s/it]\u001b[A\u001b[A\n",
      "\n",
      "Downloading stack from 5 frame geometries:  60%|██████████████████████████████████▏                      | 3/5 [00:34<00:24, 12.14s/it]\u001b[A\u001b[A\n",
      "\n",
      "Downloading stack from 5 frame geometries:  80%|█████████████████████████████████████████████▌           | 4/5 [00:44<00:11, 11.19s/it]\u001b[A\u001b[A\n",
      "\n",
      "Downloading stack from 5 frame geometries: 100%|█████████████████████████████████████████████████████████| 5/5 [00:52<00:00, 10.52s/it]\u001b[A\u001b[A\n",
      "\n",
      "Current track: stacks/mainland_us_coast/track26-mainland_us_coast.geojson                                                                                                                                                                        | 7/65 [06:49<58:02, 60.04s/it]\u001b[A\n",
      "\n"
     ]
    },
    {
     "name": "stderr",
     "output_type": "stream",
     "text": [
      "Downloading stack from 4 frame geometries:   0%|                                                                 | 0/4 [00:00<?, ?it/s]\u001b[A\u001b[A\n",
      "\n",
      "Downloading stack from 4 frame geometries:  25%|██████████████▎                                          | 1/4 [00:03<00:11,  3.90s/it]\u001b[A\u001b[A\n",
      "\n",
      "Downloading stack from 4 frame geometries:  50%|████████████████████████████▌                            | 2/4 [00:06<00:06,  3.12s/it]\u001b[A\u001b[A\n",
      "\n",
      "Downloading stack from 4 frame geometries:  75%|██████████████████████████████████████████▊              | 3/4 [00:08<00:02,  2.50s/it]\u001b[A\u001b[A\n",
      "\n",
      "Downloading stack from 4 frame geometries: 100%|█████████████████████████████████████████████████████████| 4/4 [00:09<00:00,  2.42s/it]\u001b[A\u001b[A\n",
      "\n",
      "Current track: stacks/mainland_us_coast/track27-mainland_us_coast.geojson                                                                                                                                                                        | 8/65 [06:59<41:49, 44.03s/it]\u001b[A\n",
      "\n",
      "Downloading stack from 5 frame geometries:   0%|                                                                 | 0/5 [00:00<?, ?it/s]\u001b[A\u001b[A\n",
      "\n",
      "Downloading stack from 5 frame geometries:  20%|███████████▍                                             | 1/5 [00:11<00:47, 11.93s/it]\u001b[A\u001b[A\n",
      "\n",
      "Downloading stack from 5 frame geometries:  40%|██████████████████████▊                                  | 2/5 [00:20<00:30, 10.22s/it]\u001b[A\u001b[A\n",
      "\n",
      "Downloading stack from 5 frame geometries:  60%|██████████████████████████████████▏                      | 3/5 [00:30<00:19, 10.00s/it]\u001b[A\u001b[A\n",
      "\n",
      "Downloading stack from 5 frame geometries:  80%|█████████████████████████████████████████████▌           | 4/5 [00:38<00:09,  9.02s/it]\u001b[A\u001b[A\n",
      "\n",
      "Downloading stack from 5 frame geometries: 100%|█████████████████████████████████████████████████████████| 5/5 [00:50<00:00, 10.04s/it]\u001b[A\u001b[A\n",
      "\n",
      "Current track: stacks/mainland_us_coast/track33-mainland_us_coast.geojson                                                                                                                                                                        | 9/65 [07:50<42:57, 46.02s/it]\u001b[A\n",
      "\n",
      "Downloading stack from 5 frame geometries:   0%|                                                                 | 0/5 [00:00<?, ?it/s]\u001b[A\u001b[A\n",
      "\n",
      "Downloading stack from 5 frame geometries:  20%|███████████▍                                             | 1/5 [00:07<00:29,  7.31s/it]\u001b[A\u001b[A\n",
      "\n",
      "Downloading stack from 5 frame geometries:  40%|██████████████████████▊                                  | 2/5 [00:25<00:41, 13.71s/it]\u001b[A\u001b[A\n",
      "\n",
      "Downloading stack from 5 frame geometries:  60%|██████████████████████████████████▏                      | 3/5 [00:34<00:23, 11.52s/it]\u001b[A\u001b[A\n",
      "\n",
      "Downloading stack from 5 frame geometries:  80%|█████████████████████████████████████████████▌           | 4/5 [00:41<00:09,  9.87s/it]\u001b[A\u001b[A\n",
      "\n",
      "Downloading stack from 5 frame geometries: 100%|█████████████████████████████████████████████████████████| 5/5 [00:55<00:00, 11.11s/it]\u001b[A\u001b[A\n",
      "\n",
      "Current track: stacks/mainland_us_coast/track34-mainland_us_coast.geojson                                                                                                                                                                       | 10/65 [08:45<44:56, 49.03s/it]\u001b[A\n",
      "\n",
      "Downloading stack from 5 frame geometries:   0%|                                                                 | 0/5 [00:00<?, ?it/s]\u001b[A\u001b[A\n",
      "\n",
      "Downloading stack from 5 frame geometries:  20%|███████████▍                                             | 1/5 [00:10<00:42, 10.74s/it]\u001b[A\u001b[A\n",
      "\n",
      "Downloading stack from 5 frame geometries:  40%|██████████████████████▊                                  | 2/5 [00:20<00:30, 10.14s/it]\u001b[A\u001b[A\n",
      "\n",
      "Downloading stack from 5 frame geometries:  60%|██████████████████████████████████▏                      | 3/5 [00:29<00:19,  9.53s/it]\u001b[A\u001b[A"
     ]
    }
   ],
   "source": [
    "input_frame_data = list(track2frames.items())\n",
    "stack_paths = list(starmap(get_s1_stack_and_serialize, tqdm(input_frame_data)))"
   ]
  },
  {
   "cell_type": "markdown",
   "id": "f658c827",
   "metadata": {
    "tags": []
   },
   "source": [
    "# Generate IFG Pairs"
   ]
  },
  {
   "cell_type": "code",
   "execution_count": null,
   "id": "d738c842-5234-412f-9d18-1ede52c012ff",
   "metadata": {
    "tags": []
   },
   "outputs": [],
   "source": [
    "submission_data_dir = Path('submission_data')\n",
    "submission_data_dir.mkdir(exist_ok=True, parents=True)"
   ]
  },
  {
   "cell_type": "code",
   "execution_count": null,
   "id": "b99bc85a-97d4-4a6d-bf72-c9779e9b9309",
   "metadata": {
    "tags": []
   },
   "outputs": [],
   "source": [
    "IFG_COLUMNS = ['reference', 'secondary', 'reference_date', 'secondary_date', 'frame_id', 'geometry']\n",
    "def encode_dataframe_for_serialization(df_ifg: gpd.GeoDataFrame) -> gpd.GeoDataFrame:\n",
    "    df_ifg['reference_date'] = df_ifg['reference_date'].dt.date.astype(str)\n",
    "    df_ifg['secondary_date'] = df_ifg['secondary_date'].dt.date.astype(str)\n",
    "    \n",
    "    df_ifg['reference'] = df_ifg['reference'].map(lambda l: ' '.join(l))\n",
    "    df_ifg['secondary'] = df_ifg['secondary'].map(lambda l: ' '.join(l))\n",
    "    \n",
    "    df_ifg.crs = CRS.from_epsg(4326)\n",
    "    return df_ifg  \n",
    "\n",
    "\n",
    "def enumerate_one_stack(stack_path: Path, \n",
    "                        temporal_baselines_days: list = None, \n",
    "                        neighbors=NEIGHBORS):\n",
    "    temporal_baselines_days = temporal_baselines_days or TEMPORAL_BASELINES_DAYS\n",
    "    df_stack = gpd.read_file(stack_path)\n",
    "    \n",
    "    stack_path_stem = stack_path.stem\n",
    "    track_aoi_key, aoi_name = stack_path_stem.split('-')\n",
    "    \n",
    "    frames = track2frames[track_aoi_key]\n",
    "    submission_data_path = submission_data_dir / f'{track_aoi_key}.geojson'\n",
    "    \n",
    "    if submission_data_path.exists():\n",
    "        return submission_data_path\n",
    "    \n",
    "    # We prepare an empty output dataframe in case any steps yeild empty frames\n",
    "    df_ifg = gpd.GeoDataFrame(columns=IFG_COLUMNS)\n",
    "    df_ifg.crs = CRS.from_epsg(4326)\n",
    "    \n",
    "    # ## Only check if HRRR and nonempty stack\n",
    "    # if WEATHER_MODEL == 'HRRR' and (not df_stack.empty):\n",
    "    #    cond = df_stack.repeat_pass_timestamp < (pd.Timestamp.today(tz='UTC') - pd.Timedelta(days=93))\n",
    "    #    df_stack = df_stack[cond].reset_index(drop=True)\n",
    "\n",
    "    all_data = []\n",
    "    # Only enumerate if stack non-empty\n",
    "    if not df_stack.empty:\n",
    "        for tb in temporal_baselines_days:\n",
    "            data = enumerate_gunw_time_series(df_stack, \n",
    "                                              tb, \n",
    "                                              n_secondary_scenes_per_ref=NEIGHBORS,\n",
    "                                              frames=frames \n",
    "                                              )\n",
    "            all_data += data\n",
    "\n",
    "    # There are situations when the stack is non-empty and we have no pairs (literally one pass - see track 55)\n",
    "    if all_data:\n",
    "        df_ifg = gpd.GeoDataFrame(all_data)\n",
    "        df_ifg = df_ifg.drop_duplicates(subset=['reference_date', \n",
    "                                                'secondary_date', \n",
    "                                                'frame_id']).reset_index(drop=True)\n",
    "        df_ifg = encode_dataframe_for_serialization(df_ifg)\n",
    "    \n",
    "    df_ifg.to_file(submission_data_path, driver='GeoJSON')\n",
    "    return submission_data_path"
   ]
  },
  {
   "cell_type": "code",
   "execution_count": null,
   "id": "50310acd-2586-4f43-ba3a-1b92fa814217",
   "metadata": {
    "jupyter": {
     "outputs_hidden": true
    },
    "tags": []
   },
   "outputs": [],
   "source": [
    "ifg_data_paths = list(map(enumerate_one_stack, tqdm(stack_paths[:])))"
   ]
  },
  {
   "cell_type": "markdown",
   "id": "ba2b35a9-a74e-43b1-b9c0-a70ca9f45acf",
   "metadata": {},
   "source": [
    "## Preliminary Checks\n",
    "\n",
    "### Visualize Spatial Coverage\n"
   ]
  },
  {
   "cell_type": "code",
   "execution_count": null,
   "id": "a2e64b64-5231-4bb9-9994-01ce6a2c9fd0",
   "metadata": {},
   "outputs": [],
   "source": []
  },
  {
   "cell_type": "markdown",
   "id": "5ea668ff-b6e1-4a4f-8c61-077ac66294d3",
   "metadata": {
    "tags": []
   },
   "source": [
    "### Total IFGs"
   ]
  },
  {
   "cell_type": "code",
   "execution_count": null,
   "id": "eeb7c6e3-3512-4b95-9d4c-041631105281",
   "metadata": {},
   "outputs": [],
   "source": []
  },
  {
   "cell_type": "markdown",
   "id": "75965097",
   "metadata": {},
   "source": [
    "# Check CMR and final De-Duplication"
   ]
  },
  {
   "cell_type": "code",
   "execution_count": null,
   "id": "cecb0570",
   "metadata": {},
   "outputs": [],
   "source": []
  },
  {
   "cell_type": "code",
   "execution_count": null,
   "id": "d12a1af4",
   "metadata": {},
   "outputs": [],
   "source": []
  },
  {
   "cell_type": "markdown",
   "id": "a69ca534",
   "metadata": {},
   "source": [
    "# Hyp3 Submission"
   ]
  },
  {
   "cell_type": "code",
   "execution_count": null,
   "id": "0a2462c4",
   "metadata": {},
   "outputs": [],
   "source": [
    "job_parameters =  [{'granules': ifg_data['reference'],\n",
    "                    'secondary_granules': ifg_data['secondary'],\n",
    "                    'weather_model': WEATHER_MODEL,\n",
    "                    'estimate_ionosphere_delay': True,\n",
    "                    'compute_solid_earth_tide': True,\n",
    "                    'frame_id': ifg_data['frame_id'],\n",
    "                     } for ifg_data in data]"
   ]
  },
  {
   "cell_type": "code",
   "execution_count": null,
   "id": "8e00ba49",
   "metadata": {},
   "outputs": [],
   "source": []
  }
 ],
 "metadata": {
  "kernelspec": {
   "display_name": "s1-frame-enumerator",
   "language": "python",
   "name": "s1-frame-enumerator"
  },
  "language_info": {
   "codemirror_mode": {
    "name": "ipython",
    "version": 3
   },
   "file_extension": ".py",
   "mimetype": "text/x-python",
   "name": "python",
   "nbconvert_exporter": "python",
   "pygments_lexer": "ipython3",
   "version": "3.11.3"
  }
 },
 "nbformat": 4,
 "nbformat_minor": 5
}
