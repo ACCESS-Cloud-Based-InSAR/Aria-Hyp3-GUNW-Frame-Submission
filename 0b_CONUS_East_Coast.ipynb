{
 "cells": [
  {
   "cell_type": "markdown",
   "id": "92fd0752-cbb3-4c19-8b23-cca33e1ed350",
   "metadata": {},
   "source": [
    "This notebook creates an AOI over which GUNWs will be generated. Once an AOI is serialized, the AOI is used in the subsequent enumeration workflow. In this case, we are focused on the coastal US excluding Alaska and Hawaii. It is important to name an AOI descriptively both so it can be identified for later use and since the AOI name will be used to group job submissions to Hyp3."
   ]
  },
  {
   "cell_type": "code",
   "execution_count": 2,
   "id": "956668a9-8766-44b8-8635-5dca039d6abe",
   "metadata": {
    "tags": []
   },
   "outputs": [],
   "source": [
    "import geopandas as gpd"
   ]
  },
  {
   "cell_type": "markdown",
   "id": "561ad392-ff80-440c-bc19-c1007d124730",
   "metadata": {},
   "source": [
    "# Create Coastal US geojson\n",
    "\n",
    "We are going to do the operations to get our geojson:\n",
    "\n",
    "- read public US state data\n",
    "- select coastal states"
   ]
  },
  {
   "cell_type": "code",
   "execution_count": 5,
   "id": "ba68ea2e-3b90-4e9d-a316-d7897d4f33c2",
   "metadata": {
    "tags": []
   },
   "outputs": [
    {
     "data": {
      "text/html": [
       "<div>\n",
       "<style scoped>\n",
       "    .dataframe tbody tr th:only-of-type {\n",
       "        vertical-align: middle;\n",
       "    }\n",
       "\n",
       "    .dataframe tbody tr th {\n",
       "        vertical-align: top;\n",
       "    }\n",
       "\n",
       "    .dataframe thead th {\n",
       "        text-align: right;\n",
       "    }\n",
       "</style>\n",
       "<table border=\"1\" class=\"dataframe\">\n",
       "  <thead>\n",
       "    <tr style=\"text-align: right;\">\n",
       "      <th></th>\n",
       "      <th>GEO_ID</th>\n",
       "      <th>STATE</th>\n",
       "      <th>NAME</th>\n",
       "      <th>LSAD</th>\n",
       "      <th>CENSUSAREA</th>\n",
       "      <th>geometry</th>\n",
       "    </tr>\n",
       "  </thead>\n",
       "  <tbody>\n",
       "    <tr>\n",
       "      <th>0</th>\n",
       "      <td>0400000US23</td>\n",
       "      <td>23</td>\n",
       "      <td>Maine</td>\n",
       "      <td></td>\n",
       "      <td>30842.923</td>\n",
       "      <td>MULTIPOLYGON (((-67.61976 44.51975, -67.61541 ...</td>\n",
       "    </tr>\n",
       "    <tr>\n",
       "      <th>1</th>\n",
       "      <td>0400000US25</td>\n",
       "      <td>25</td>\n",
       "      <td>Massachusetts</td>\n",
       "      <td></td>\n",
       "      <td>7800.058</td>\n",
       "      <td>MULTIPOLYGON (((-70.83204 41.60650, -70.82373 ...</td>\n",
       "    </tr>\n",
       "    <tr>\n",
       "      <th>2</th>\n",
       "      <td>0400000US26</td>\n",
       "      <td>26</td>\n",
       "      <td>Michigan</td>\n",
       "      <td></td>\n",
       "      <td>56538.901</td>\n",
       "      <td>MULTIPOLYGON (((-88.68443 48.11579, -88.67563 ...</td>\n",
       "    </tr>\n",
       "    <tr>\n",
       "      <th>3</th>\n",
       "      <td>0400000US30</td>\n",
       "      <td>30</td>\n",
       "      <td>Montana</td>\n",
       "      <td></td>\n",
       "      <td>145545.801</td>\n",
       "      <td>POLYGON ((-104.05770 44.99743, -104.25015 44.9...</td>\n",
       "    </tr>\n",
       "    <tr>\n",
       "      <th>4</th>\n",
       "      <td>0400000US32</td>\n",
       "      <td>32</td>\n",
       "      <td>Nevada</td>\n",
       "      <td></td>\n",
       "      <td>109781.180</td>\n",
       "      <td>POLYGON ((-114.05060 37.00040, -114.04999 36.9...</td>\n",
       "    </tr>\n",
       "  </tbody>\n",
       "</table>\n",
       "</div>"
      ],
      "text/plain": [
       "        GEO_ID STATE           NAME LSAD  CENSUSAREA   \n",
       "0  0400000US23    23          Maine        30842.923  \\\n",
       "1  0400000US25    25  Massachusetts         7800.058   \n",
       "2  0400000US26    26       Michigan        56538.901   \n",
       "3  0400000US30    30        Montana       145545.801   \n",
       "4  0400000US32    32         Nevada       109781.180   \n",
       "\n",
       "                                            geometry  \n",
       "0  MULTIPOLYGON (((-67.61976 44.51975, -67.61541 ...  \n",
       "1  MULTIPOLYGON (((-70.83204 41.60650, -70.82373 ...  \n",
       "2  MULTIPOLYGON (((-88.68443 48.11579, -88.67563 ...  \n",
       "3  POLYGON ((-104.05770 44.99743, -104.25015 44.9...  \n",
       "4  POLYGON ((-114.05060 37.00040, -114.04999 36.9...  "
      ]
     },
     "execution_count": 5,
     "metadata": {},
     "output_type": "execute_result"
    }
   ],
   "source": [
    "df_us_east = gpd.read_file('https://eric.clst.org/assets/wiki/uploads/Stuff/gz_2010_us_040_00_500k.json')\n",
    "df_us_east.head()"
   ]
  },
  {
   "cell_type": "markdown",
   "id": "de4594cf",
   "metadata": {},
   "source": [
    "Select states manually."
   ]
  },
  {
   "cell_type": "code",
   "execution_count": 8,
   "id": "3a7e3dd4-de90-49b4-9ff6-5a274fc68c9d",
   "metadata": {},
   "outputs": [
    {
     "data": {
      "text/plain": [
       "<Axes: >"
      ]
     },
     "execution_count": 8,
     "metadata": {},
     "output_type": "execute_result"
    },
    {
     "data": {
      "image/png": "[encoded data removed]",
      "text/plain": [
       "<Figure size 640x480 with 1 Axes>"
      ]
     },
     "metadata": {},
     "output_type": "display_data"
    }
   ],
   "source": [
    "east_coast_states = ['Georgia',\n",
    "                     'North Carolina',\n",
    "                     'South Carolina',\n",
    "                     'Maryland',\n",
    "                     'Virginia',\n",
    "                     'New Jersey',\n",
    "                     'Massachusetts',\n",
    "                     'Rhode Island',\n",
    "                     'New York',\n",
    "                     'Pennsylvania',\n",
    "                     'Maine',\n",
    "                     'Connecticut',\n",
    "                     'Vermont',\n",
    "                     'New Hampshire',\n",
    "                     'Florida']\n",
    "\n",
    "df_us_east = df_us_east[df_us_east.NAME.isin(east_coast_states)].reset_index(drop=True)\n",
    "df_us_east.plot()"
   ]
  },
  {
   "cell_type": "markdown",
   "id": "936c3c10-5e2b-44a0-aa56-bfbd5f728be9",
   "metadata": {},
   "source": [
    "# Serialize"
   ]
  },
  {
   "cell_type": "code",
   "execution_count": 9,
   "id": "5229ee2c-e8fd-4d98-913d-9a70adde7056",
   "metadata": {},
   "outputs": [],
   "source": [
    "df_us_east.to_file('AOIs/us_east.geojson', driver='GeoJSON')"
   ]
  }
 ],
 "metadata": {
  "kernelspec": {
   "display_name": "aria_hyp3_env",
   "language": "python",
   "name": "aria_hyp3_env"
  },
  "language_info": {
   "codemirror_mode": {
    "name": "ipython",
    "version": 3
   },
   "file_extension": ".py",
   "mimetype": "text/x-python",
   "name": "python",
   "nbconvert_exporter": "python",
   "pygments_lexer": "ipython3",
   "version": "3.12.1"
  }
 },
 "nbformat": 4,
 "nbformat_minor": 5
}
