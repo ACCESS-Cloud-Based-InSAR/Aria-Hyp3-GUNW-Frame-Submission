{
 "cells": [
  {
   "cell_type": "markdown",
   "id": "8d98cf5b",
   "metadata": {},
   "source": [
    "This notebook"
   ]
  },
  {
   "cell_type": "code",
   "execution_count": 1,
   "id": "428752af",
   "metadata": {},
   "outputs": [],
   "source": [
    "import geopandas as gpd\n",
    "import yaml\n",
    "from tqdm import tqdm\n",
    "from pathlib import Path\n",
    "import pandas as pd\n",
    "import asf_search as asf\n",
    "from datetime import timedelta\n",
    "from dateparser import parse\n",
    "import concurrent.futures\n",
    "import hyp3_sdk\n",
    "import numpy as np"
   ]
  },
  {
   "cell_type": "markdown",
   "id": "3f097c61",
   "metadata": {},
   "source": [
    "# Setup"
   ]
  },
  {
   "cell_type": "code",
   "execution_count": 2,
   "id": "7cf5b30d",
   "metadata": {},
   "outputs": [],
   "source": [
    "YAML_FILE = 'enumeration_parameters.yml'\n",
    "with open(YAML_FILE) as f:\n",
    "    enum_params = yaml.safe_load(f)['enumeration_parameters']"
   ]
  },
  {
   "cell_type": "code",
   "execution_count": 3,
   "id": "5beaae44",
   "metadata": {},
   "outputs": [],
   "source": [
    "# AOI Name\n",
    "AOI_NAME = enum_params['aoi_name']\n",
    "ENUM_DIR = enum_params['enum_directory']"
   ]
  },
  {
   "cell_type": "code",
   "execution_count": 4,
   "id": "14ae9b92",
   "metadata": {},
   "outputs": [],
   "source": [
    "enum_dir = Path(ENUM_DIR)\n",
    "assert enum_dir.exists()"
   ]
  },
  {
   "cell_type": "code",
   "execution_count": 5,
   "id": "32f07ae2",
   "metadata": {},
   "outputs": [
    {
     "data": {
      "text/plain": [
       "('mainland_us_coast', 'out/enum/mainland_us_coast_thru_202305_n2')"
      ]
     },
     "execution_count": 5,
     "metadata": {},
     "output_type": "execute_result"
    }
   ],
   "source": [
    "AOI_NAME, ENUM_DIR"
   ]
  },
  {
   "cell_type": "markdown",
   "id": "da4f2622",
   "metadata": {},
   "source": [
    "# Read enumeration data"
   ]
  },
  {
   "cell_type": "code",
   "execution_count": 6,
   "id": "7157c26d",
   "metadata": {},
   "outputs": [
    {
     "name": "stderr",
     "output_type": "stream",
     "text": [
      "100%|███████████████████████████████████████████████████████████████████████████████████████| 65/65 [00:11<00:00,  5.56it/s]\n"
     ]
    },
    {
     "data": {
      "text/html": [
       "<div>\n",
       "<style scoped>\n",
       "    .dataframe tbody tr th:only-of-type {\n",
       "        vertical-align: middle;\n",
       "    }\n",
       "\n",
       "    .dataframe tbody tr th {\n",
       "        vertical-align: top;\n",
       "    }\n",
       "\n",
       "    .dataframe thead th {\n",
       "        text-align: right;\n",
       "    }\n",
       "</style>\n",
       "<table border=\"1\" class=\"dataframe\">\n",
       "  <thead>\n",
       "    <tr style=\"text-align: right;\">\n",
       "      <th></th>\n",
       "      <th>reference</th>\n",
       "      <th>secondary</th>\n",
       "      <th>reference_date</th>\n",
       "      <th>secondary_date</th>\n",
       "      <th>frame_id</th>\n",
       "      <th>track_key</th>\n",
       "      <th>aoi_name</th>\n",
       "      <th>neighbors</th>\n",
       "      <th>geometry</th>\n",
       "    </tr>\n",
       "  </thead>\n",
       "  <tbody>\n",
       "    <tr>\n",
       "      <th>0</th>\n",
       "      <td>S1B_IW_SLC__1SDV_20211213T010745_20211213T0108...</td>\n",
       "      <td>S1B_IW_SLC__1SDV_20211201T010746_20211201T0108...</td>\n",
       "      <td>2021-12-13</td>\n",
       "      <td>2021-12-01</td>\n",
       "      <td>7489.0</td>\n",
       "      <td>track49</td>\n",
       "      <td>mainland_us_coast</td>\n",
       "      <td>2.0</td>\n",
       "      <td>POLYGON Z ((-107.85434 30.85203 0.00000, -107....</td>\n",
       "    </tr>\n",
       "    <tr>\n",
       "      <th>1</th>\n",
       "      <td>S1B_IW_SLC__1SDV_20211213T010745_20211213T0108...</td>\n",
       "      <td>S1B_IW_SLC__1SDV_20211201T010746_20211201T0108...</td>\n",
       "      <td>2021-12-13</td>\n",
       "      <td>2021-12-01</td>\n",
       "      <td>7490.0</td>\n",
       "      <td>track49</td>\n",
       "      <td>mainland_us_coast</td>\n",
       "      <td>2.0</td>\n",
       "      <td>POLYGON Z ((-108.11447 32.01369 0.00000, -108....</td>\n",
       "    </tr>\n",
       "    <tr>\n",
       "      <th>2</th>\n",
       "      <td>S1B_IW_SLC__1SDV_20211213T010810_20211213T0108...</td>\n",
       "      <td>S1B_IW_SLC__1SDV_20211201T010811_20211201T0108...</td>\n",
       "      <td>2021-12-13</td>\n",
       "      <td>2021-12-01</td>\n",
       "      <td>7491.0</td>\n",
       "      <td>track49</td>\n",
       "      <td>mainland_us_coast</td>\n",
       "      <td>2.0</td>\n",
       "      <td>POLYGON Z ((-108.37802 33.17707 0.00000, -108....</td>\n",
       "    </tr>\n",
       "    <tr>\n",
       "      <th>3</th>\n",
       "      <td>S1B_IW_SLC__1SDV_20211213T010835_20211213T0109...</td>\n",
       "      <td>S1B_IW_SLC__1SDV_20211201T010835_20211201T0109...</td>\n",
       "      <td>2021-12-13</td>\n",
       "      <td>2021-12-01</td>\n",
       "      <td>7492.0</td>\n",
       "      <td>track49</td>\n",
       "      <td>mainland_us_coast</td>\n",
       "      <td>2.0</td>\n",
       "      <td>POLYGON Z ((-108.64460 34.33971 0.00000, -108....</td>\n",
       "    </tr>\n",
       "    <tr>\n",
       "      <th>4</th>\n",
       "      <td>S1B_IW_SLC__1SDV_20211213T010900_20211213T0109...</td>\n",
       "      <td>S1B_IW_SLC__1SDV_20211201T010900_20211201T0109...</td>\n",
       "      <td>2021-12-13</td>\n",
       "      <td>2021-12-01</td>\n",
       "      <td>7493.0</td>\n",
       "      <td>track49</td>\n",
       "      <td>mainland_us_coast</td>\n",
       "      <td>2.0</td>\n",
       "      <td>POLYGON Z ((-108.91826 35.51715 0.00000, -109....</td>\n",
       "    </tr>\n",
       "  </tbody>\n",
       "</table>\n",
       "</div>"
      ],
      "text/plain": [
       "                                           reference   \n",
       "0  S1B_IW_SLC__1SDV_20211213T010745_20211213T0108...  \\\n",
       "1  S1B_IW_SLC__1SDV_20211213T010745_20211213T0108...   \n",
       "2  S1B_IW_SLC__1SDV_20211213T010810_20211213T0108...   \n",
       "3  S1B_IW_SLC__1SDV_20211213T010835_20211213T0109...   \n",
       "4  S1B_IW_SLC__1SDV_20211213T010900_20211213T0109...   \n",
       "\n",
       "                                           secondary reference_date   \n",
       "0  S1B_IW_SLC__1SDV_20211201T010746_20211201T0108...     2021-12-13  \\\n",
       "1  S1B_IW_SLC__1SDV_20211201T010746_20211201T0108...     2021-12-13   \n",
       "2  S1B_IW_SLC__1SDV_20211201T010811_20211201T0108...     2021-12-13   \n",
       "3  S1B_IW_SLC__1SDV_20211201T010835_20211201T0109...     2021-12-13   \n",
       "4  S1B_IW_SLC__1SDV_20211201T010900_20211201T0109...     2021-12-13   \n",
       "\n",
       "  secondary_date  frame_id track_key           aoi_name  neighbors   \n",
       "0     2021-12-01    7489.0   track49  mainland_us_coast        2.0  \\\n",
       "1     2021-12-01    7490.0   track49  mainland_us_coast        2.0   \n",
       "2     2021-12-01    7491.0   track49  mainland_us_coast        2.0   \n",
       "3     2021-12-01    7492.0   track49  mainland_us_coast        2.0   \n",
       "4     2021-12-01    7493.0   track49  mainland_us_coast        2.0   \n",
       "\n",
       "                                            geometry  \n",
       "0  POLYGON Z ((-107.85434 30.85203 0.00000, -107....  \n",
       "1  POLYGON Z ((-108.11447 32.01369 0.00000, -108....  \n",
       "2  POLYGON Z ((-108.37802 33.17707 0.00000, -108....  \n",
       "3  POLYGON Z ((-108.64460 34.33971 0.00000, -108....  \n",
       "4  POLYGON Z ((-108.91826 35.51715 0.00000, -109....  "
      ]
     },
     "execution_count": 6,
     "metadata": {},
     "output_type": "execute_result"
    }
   ],
   "source": [
    "dfs = [gpd.read_file(p) for p in tqdm(list(enum_dir.glob('*.geojson')))]\n",
    "df_ifg = pd.concat(dfs, axis=0)\n",
    "df_ifg.head()"
   ]
  },
  {
   "cell_type": "markdown",
   "id": "2196a0aa",
   "metadata": {},
   "source": [
    "# Deduplication of IFGs CMR\n",
    "\n",
    "See this [PR]() for the generation of this feature.\n",
    "\n",
    "The raw CMR command for a comparable query is:\n",
    "```\n",
    "https://cmr.uat.earthdata.nasa.gov/search/granules.umm_json?short_name=SENTINEL-1_INTERFEROGRAMS&temporal=2022-02-24T00:00:00Z,2022-02-25T00:00:00Z&attribute[]=int,FRAME_NUMBER,25502&attribute[]=int,TEMPORAL_BASELINE_DAYS,12\n",
    "```"
   ]
  },
  {
   "cell_type": "code",
   "execution_count": 10,
   "id": "bb2753ac",
   "metadata": {},
   "outputs": [],
   "source": [
    "def get_gunw_hits(record):\n",
    "\n",
    "    frame_id = int(record['frame_id'])\n",
    "    ref_date = parse(record['reference_date'])\n",
    "    sec_date = parse(record['secondary_date'])\n",
    "    \n",
    "    start = ref_date - timedelta(days=.5)\n",
    "    end = ref_date + timedelta(days=.5)\n",
    "    tb_days = (ref_date - sec_date).days\n",
    "    \n",
    "\n",
    "    opts = asf.ASFSearchOptions(host='cmr.uat.earthdata.nasa.gov', \n",
    "                                platform=asf.SENTINEL1,\n",
    "                                processingLevel=asf.constants.GUNW_STD,\n",
    "                                frame=frame_id, \n",
    "                                start=start, \n",
    "                                end=end, \n",
    "                                temporalBaselineDays=[tb_days],\n",
    "                                maxResults=5\n",
    "                                )\n",
    "    \n",
    "    results = asf.search(opts=opts)\n",
    "\n",
    "    return len(results)"
   ]
  },
  {
   "cell_type": "code",
   "execution_count": 11,
   "id": "541a2842",
   "metadata": {},
   "outputs": [],
   "source": [
    "submission_records = df_ifg.to_dict('records')\n",
    "#get_gunw_hits(submission_records[0])"
   ]
  },
  {
   "cell_type": "code",
   "execution_count": 12,
   "id": "0d7257fc",
   "metadata": {},
   "outputs": [
    {
     "name": "stderr",
     "output_type": "stream",
     "text": [
      "  0%|                                                                                | 100/149448 [00:19<8:02:42,  5.16it/s]\n"
     ]
    }
   ],
   "source": [
    "n = len(submission_records)\n",
    "with concurrent.futures.ThreadPoolExecutor(max_workers=5) as executor:\n",
    "    ifg_hits_cmr = list(tqdm(executor.map(get_gunw_hits, submission_records[:100]), total=n))"
   ]
  },
  {
   "cell_type": "code",
   "execution_count": 13,
   "id": "0fa23e3f",
   "metadata": {},
   "outputs": [
    {
     "data": {
      "text/plain": [
       "{'reference': 'S1B_IW_SLC__1SDV_20211213T010745_20211213T010812_030000_0394DC_75EC S1B_IW_SLC__1SDV_20211213T010810_20211213T010837_030000_0394DC_11D6',\n",
       " 'secondary': 'S1B_IW_SLC__1SDV_20211201T010746_20211201T010813_029825_038F5F_EC75 S1B_IW_SLC__1SDV_20211201T010811_20211201T010838_029825_038F5F_1F47',\n",
       " 'reference_date': '2021-12-13',\n",
       " 'secondary_date': '2021-12-01',\n",
       " 'frame_id': 7489.0,\n",
       " 'track_key': 'track49',\n",
       " 'aoi_name': 'mainland_us_coast',\n",
       " 'neighbors': 2.0,\n",
       " 'geometry': <POLYGON Z ((-107.854 30.852 0, -107.895 31.03 0, -107.929 31.197 0, -108.08...>}"
      ]
     },
     "execution_count": 13,
     "metadata": {},
     "output_type": "execute_result"
    }
   ],
   "source": [
    "submission_records[0]"
   ]
  },
  {
   "cell_type": "code",
   "execution_count": 14,
   "id": "3f226de6",
   "metadata": {},
   "outputs": [
    {
     "data": {
      "text/plain": [
       "[0, 0, 0, 0, 0, 0, 0, 0, 0, 0]"
      ]
     },
     "execution_count": 14,
     "metadata": {},
     "output_type": "execute_result"
    }
   ],
   "source": [
    "ifg_hits_cmr[:10]"
   ]
  },
  {
   "cell_type": "code",
   "execution_count": 15,
   "id": "3dccc001",
   "metadata": {},
   "outputs": [],
   "source": [
    "# TODO: set to ifg_hits_cmr\n",
    "df_ifg['cmr_hits'] = 0"
   ]
  },
  {
   "cell_type": "markdown",
   "id": "cb20cd42",
   "metadata": {},
   "source": [
    "# Format Job Parameters"
   ]
  },
  {
   "cell_type": "code",
   "execution_count": 16,
   "id": "efa3199f",
   "metadata": {},
   "outputs": [],
   "source": [
    "IONO_CORRECTION = True\n",
    "SET_CORRECTION = True\n",
    "weather_model = 'HRRR'"
   ]
  },
  {
   "cell_type": "code",
   "execution_count": 17,
   "id": "18a418d5",
   "metadata": {},
   "outputs": [],
   "source": [
    "def generate_job_name(record):\n",
    "    track_key = record['track_key']\n",
    "    aoi_name = record['aoi_name']\n",
    "    neighbor = str(int(record['neighbors']))\n",
    "    return f'{track_key}-n{neighbor}'"
   ]
  },
  {
   "cell_type": "code",
   "execution_count": 18,
   "id": "21f8d49e",
   "metadata": {},
   "outputs": [
    {
     "data": {
      "text/plain": [
       "['track92-n2', 'track158-n2', 'track86-n2', 'track165-n2', 'track173-n2']"
      ]
     },
     "execution_count": 18,
     "metadata": {},
     "output_type": "execute_result"
    }
   ],
   "source": [
    "job_names = list(map(generate_job_name, submission_records))\n",
    "job_names_unique = list(set(job_names))\n",
    "job_names_unique[:5]"
   ]
  },
  {
   "cell_type": "code",
   "execution_count": 19,
   "id": "261982df",
   "metadata": {},
   "outputs": [
    {
     "data": {
      "text/plain": [
       "[{'name': 'track49-n2',\n",
       "  'job_type': 'INSAR_ISCE_TEST',\n",
       "  'job_parameters': {'granules': ['S1B_IW_SLC__1SDV_20211213T010745_20211213T010812_030000_0394DC_75EC',\n",
       "    'S1B_IW_SLC__1SDV_20211213T010810_20211213T010837_030000_0394DC_11D6'],\n",
       "   'secondary_granules': ['S1B_IW_SLC__1SDV_20211201T010746_20211201T010813_029825_038F5F_EC75',\n",
       "    'S1B_IW_SLC__1SDV_20211201T010811_20211201T010838_029825_038F5F_1F47'],\n",
       "   'frame_id': 7489,\n",
       "   'weather_model': 'HRRR',\n",
       "   'estimate_ionosphere_delay': True,\n",
       "   'compute_solid_earth_tide': True}},\n",
       " {'name': 'track49-n2',\n",
       "  'job_type': 'INSAR_ISCE_TEST',\n",
       "  'job_parameters': {'granules': ['S1B_IW_SLC__1SDV_20211213T010745_20211213T010812_030000_0394DC_75EC',\n",
       "    'S1B_IW_SLC__1SDV_20211213T010810_20211213T010837_030000_0394DC_11D6'],\n",
       "   'secondary_granules': ['S1B_IW_SLC__1SDV_20211201T010746_20211201T010813_029825_038F5F_EC75',\n",
       "    'S1B_IW_SLC__1SDV_20211201T010811_20211201T010838_029825_038F5F_1F47'],\n",
       "   'frame_id': 7490,\n",
       "   'weather_model': 'HRRR',\n",
       "   'estimate_ionosphere_delay': True,\n",
       "   'compute_solid_earth_tide': True}}]"
      ]
     },
     "execution_count": 19,
     "metadata": {},
     "output_type": "execute_result"
    }
   ],
   "source": [
    "job_parameters = [{'granules': record['reference'].split(' '),\n",
    "                   'secondary_granules': record['secondary'].split(' '),\n",
    "                   'frame_id': int(record['frame_id']),\n",
    "                   'weather_model': weather_model,\n",
    "                   'estimate_ionosphere_delay': IONO_CORRECTION,\n",
    "                   'compute_solid_earth_tide': SET_CORRECTION,\n",
    "                  } for record in submission_records]\n",
    "\n",
    "job_dicts = [{'name': job_name,\n",
    "              # NOTE: we are still using the `dev` branch. Change this to \"INSAR_ISCE\" to use the `main` branch.\n",
    "              'job_type': 'INSAR_ISCE_TEST',\n",
    "              'job_parameters': parameters\n",
    "             }\n",
    "             for parameters, job_name in zip(job_parameters, job_names) ]\n",
    "job_dicts[:2]"
   ]
  },
  {
   "cell_type": "markdown",
   "id": "7beca279",
   "metadata": {},
   "source": [
    "# Submit Jobs to Hyp3"
   ]
  },
  {
   "cell_type": "code",
   "execution_count": 20,
   "id": "7a08fe18",
   "metadata": {},
   "outputs": [],
   "source": [
    "# uses .netrc; add `prompt=True` to prompt for credentials; \n",
    "hyp3_isce = hyp3_sdk.HyP3('https://hyp3-a19-jpl.asf.alaska.edu')"
   ]
  },
  {
   "cell_type": "code",
   "execution_count": 21,
   "id": "047664aa",
   "metadata": {},
   "outputs": [],
   "source": [
    "N_batches = int(np.ceil(len(job_dicts) / 200))\n",
    "job_dicts_batches = [job_dicts[200 * k : 200 * (k + 1)] for k in range(N_batches)]"
   ]
  },
  {
   "cell_type": "code",
   "execution_count": 22,
   "id": "6d03e599",
   "metadata": {},
   "outputs": [],
   "source": [
    "## For testing\n",
    "# submitted_jobs = hyp3_isce.submit_prepared_jobs(job_dicts_batches[0][:])"
   ]
  },
  {
   "cell_type": "code",
   "execution_count": 23,
   "id": "2dc02480",
   "metadata": {},
   "outputs": [
    {
     "name": "stderr",
     "output_type": "stream",
     "text": [
      "100%|████████████████████████████████████████████████████████████████████████████████| 748/748 [00:00<00:00, 2586429.84it/s]\n"
     ]
    }
   ],
   "source": [
    "# for job_dict in tqdm(job_dicts_batches):\n",
    "#     submitted_jobs = hyp3_isce.submit_prepared_jobs(job_dicts[:])\n",
    "#     continue"
   ]
  },
  {
   "cell_type": "markdown",
   "id": "818689d9",
   "metadata": {},
   "source": [
    "Check status"
   ]
  },
  {
   "cell_type": "code",
   "execution_count": 25,
   "id": "dc96c110",
   "metadata": {
    "scrolled": false
   },
   "outputs": [
    {
     "name": "stdout",
     "output_type": "stream",
     "text": [
      "##########\n",
      "track92-n2\n",
      "0 HyP3 Jobs: 0 succeeded, 0 failed, 0 running, 0 pending.\n",
      "##########\n",
      "track158-n2\n",
      "0 HyP3 Jobs: 0 succeeded, 0 failed, 0 running, 0 pending.\n",
      "##########\n",
      "track86-n2\n",
      "0 HyP3 Jobs: 0 succeeded, 0 failed, 0 running, 0 pending.\n",
      "##########\n",
      "track165-n2\n",
      "0 HyP3 Jobs: 0 succeeded, 0 failed, 0 running, 0 pending.\n",
      "##########\n",
      "track173-n2\n",
      "0 HyP3 Jobs: 0 succeeded, 0 failed, 0 running, 0 pending.\n"
     ]
    }
   ],
   "source": [
    "for job_name in job_names_unique[:5]:\n",
    "    jobs = hyp3_isce.find_jobs(name=job_name)\n",
    "    print('#' * 10)\n",
    "    print(job_name)\n",
    "    print(jobs)"
   ]
  }
 ],
 "metadata": {
  "kernelspec": {
   "display_name": "aria_hyp3_env",
   "language": "python",
   "name": "aria_hyp3_env"
  },
  "language_info": {
   "codemirror_mode": {
    "name": "ipython",
    "version": 3
   },
   "file_extension": ".py",
   "mimetype": "text/x-python",
   "name": "python",
   "nbconvert_exporter": "python",
   "pygments_lexer": "ipython3",
   "version": "3.11.3"
  }
 },
 "nbformat": 4,
 "nbformat_minor": 5
}
