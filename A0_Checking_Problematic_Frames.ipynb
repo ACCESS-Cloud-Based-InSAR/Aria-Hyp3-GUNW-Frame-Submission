{
 "cells": [
  {
   "cell_type": "code",
   "execution_count": 1,
   "id": "0d5be511-ca67-4e82-91e3-735743304ffe",
   "metadata": {
    "tags": []
   },
   "outputs": [],
   "source": [
    "from s1_frame_enumerator import S1Frame\n",
    "from pathlib import Path"
   ]
  },
  {
   "cell_type": "code",
   "execution_count": 2,
   "id": "7bc4d6f6-f23c-4c40-a42b-7b1c904481c4",
   "metadata": {
    "tags": []
   },
   "outputs": [],
   "source": [
    "out_dir = Path('problematic_frames')\n",
    "out_dir.mkdir(exist_ok=True, parents=True)"
   ]
  },
  {
   "cell_type": "code",
   "execution_count": 3,
   "id": "3c8043c5-402c-4540-b449-70f97097677b",
   "metadata": {
    "tags": []
   },
   "outputs": [],
   "source": [
    "PROBLEMATIC_FRAME = 6443"
   ]
  },
  {
   "cell_type": "code",
   "execution_count": 4,
   "id": "60827a71-bed9-4745-bc89-a5d3725eaa20",
   "metadata": {
    "tags": []
   },
   "outputs": [],
   "source": [
    "f = S1Frame(PROBLEMATIC_FRAME)"
   ]
  },
  {
   "cell_type": "code",
   "execution_count": 5,
   "id": "0e6e7568-140f-4620-9d94-1035d24b0a54",
   "metadata": {
    "tags": []
   },
   "outputs": [],
   "source": [
    "df_frame = f.to_gdf()\n",
    "df_frame.to_file(out_dir / f'{str(PROBLEMATIC_FRAME)}.geojson', driver='GeoJSON')"
   ]
  }
 ],
 "metadata": {
  "kernelspec": {
   "display_name": "aria_hyp3_env",
   "language": "python",
   "name": "aria_hyp3_env"
  },
  "language_info": {
   "codemirror_mode": {
    "name": "ipython",
    "version": 3
   },
   "file_extension": ".py",
   "mimetype": "text/x-python",
   "name": "python",
   "nbconvert_exporter": "python",
   "pygments_lexer": "ipython3",
   "version": "3.11.3"
  }
 },
 "nbformat": 4,
 "nbformat_minor": 5
}
