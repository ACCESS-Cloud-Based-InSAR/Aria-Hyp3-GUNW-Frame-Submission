{
 "cells": [
  {
   "cell_type": "code",
   "execution_count": 3,
   "id": "6ce44039-a24f-4f94-8555-4b4860919b55",
   "metadata": {},
   "outputs": [],
   "source": [
    "import geopandas as gpd\n",
    "import asf_search as asf\n",
    "import requests"
   ]
  },
  {
   "cell_type": "code",
   "execution_count": 4,
   "id": "0b6a44fd-a7e5-4039-9324-6b45d3760189",
   "metadata": {},
   "outputs": [],
   "source": [
    "track_number = 136\n"
   ]
  },
  {
   "cell_type": "code",
   "execution_count": 5,
   "id": "2502819e-ea7e-4a6a-88ff-3be26c021963",
   "metadata": {},
   "outputs": [],
   "source": [
    "df_aoi = gpd.read_file('AOIs/tibet.geojson')"
   ]
  },
  {
   "cell_type": "code",
   "execution_count": 6,
   "id": "2652015b-14ab-4f1d-9dde-c32b60249609",
   "metadata": {},
   "outputs": [],
   "source": [
    "def get_hits_for_track(track):\n",
    "    url = f'https://cmr.uat.earthdata.nasa.gov/search/granules.umm_json?short_name=SENTINEL-1_INTERFEROGRAMS&attribute[]=int,PATH_NUMBER,{track}'\n",
    "    resp = requests.get(url).json()\n",
    "    return resp['hits']"
   ]
  },
  {
   "cell_type": "code",
   "execution_count": 8,
   "id": "57ece94d-d91f-4785-950a-45749392a59c",
   "metadata": {},
   "outputs": [
    {
     "data": {
      "text/plain": [
       "6754"
      ]
     },
     "execution_count": 8,
     "metadata": {},
     "output_type": "execute_result"
    }
   ],
   "source": [
    "get_hits_for_track(track_number)"
   ]
  },
  {
   "cell_type": "code",
   "execution_count": 9,
   "id": "f1152df1-9d8b-4f8f-b205-8ed6f5734e0a",
   "metadata": {},
   "outputs": [],
   "source": [
    "opts = asf.ASFSearchOptions(host='cmr.uat.earthdata.nasa.gov', \n",
    "                            platform=asf.PLATFORM.SENTINEL1,\n",
    "                            processingLevel=asf.constants.GUNW_STD,\n",
    "                            relativeOrbit=[track_number],\n",
    "                            maxResults=100,\n",
    "                            intersectsWith=df_aoi.geometry.unary_union.wkt\n",
    "                            )\n",
    "\n",
    "results = asf.search(opts=opts)"
   ]
  },
  {
   "cell_type": "code",
   "execution_count": 10,
   "id": "f76aebe8-5eb6-4586-92dc-e9fa3cd5016b",
   "metadata": {},
   "outputs": [
    {
     "data": {
      "text/plain": [
       "100"
      ]
     },
     "execution_count": 10,
     "metadata": {},
     "output_type": "execute_result"
    }
   ],
   "source": [
    "len(results)"
   ]
  }
 ],
 "metadata": {
  "kernelspec": {
   "display_name": "aria_hyp3_env",
   "language": "python",
   "name": "aria_hyp3_env"
  },
  "language_info": {
   "codemirror_mode": {
    "name": "ipython",
    "version": 3
   },
   "file_extension": ".py",
   "mimetype": "text/x-python",
   "name": "python",
   "nbconvert_exporter": "python",
   "pygments_lexer": "ipython3",
   "version": "3.12.2"
  }
 },
 "nbformat": 4,
 "nbformat_minor": 5
}
