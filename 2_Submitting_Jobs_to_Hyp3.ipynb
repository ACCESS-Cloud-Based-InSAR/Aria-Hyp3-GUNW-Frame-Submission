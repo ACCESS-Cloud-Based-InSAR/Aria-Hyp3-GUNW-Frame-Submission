{
 "cells": [
  {
   "cell_type": "markdown",
   "id": "8d98cf5b",
   "metadata": {},
   "source": [
    "This notebook takes the enumerated jobs in the previous notebook and makes ure"
   ]
  },
  {
   "cell_type": "code",
   "execution_count": 1,
   "id": "428752af",
   "metadata": {},
   "outputs": [],
   "source": [
    "import geopandas as gpd\n",
    "import yaml\n",
    "from tqdm import tqdm\n",
    "from pathlib import Path\n",
    "import pandas as pd\n",
    "import asf_search as asf\n",
    "from datetime import timedelta\n",
    "from dateparser import parse\n",
    "import concurrent.futures\n",
    "import hyp3_sdk\n",
    "import numpy as np\n",
    "from enum_utils import get_enum_dir, get_stack_dir"
   ]
  },
  {
   "cell_type": "markdown",
   "id": "3f097c61",
   "metadata": {},
   "source": [
    "# Setup"
   ]
  },
  {
   "cell_type": "code",
   "execution_count": 2,
   "id": "7cf5b30d",
   "metadata": {},
   "outputs": [],
   "source": [
    "YAML_FILE = 'enumeration_parameters.yml'\n",
    "with open(YAML_FILE) as f:\n",
    "    enum_params = yaml.safe_load(f)['enumeration_parameters']"
   ]
  },
  {
   "cell_type": "code",
   "execution_count": 3,
   "id": "5beaae44",
   "metadata": {},
   "outputs": [],
   "source": [
    "AOI_NAME = enum_params['aoi_name']\n",
    "NEIGHBORS = enum_params['neighbors']"
   ]
  },
  {
   "cell_type": "code",
   "execution_count": 6,
   "id": "14ae9b92",
   "metadata": {},
   "outputs": [],
   "source": [
    "stack_dir = get_stack_dir(AOI_NAME)\n",
    "enum_dir = get_enum_dir(AOI_NAME, NEIGHBORS)\n",
    "assert enum_dir.exists()"
   ]
  },
  {
   "cell_type": "code",
   "execution_count": 7,
   "id": "32f07ae2",
   "metadata": {},
   "outputs": [
    {
     "data": {
      "text/plain": [
       "('us_east',\n",
       " PosixPath('out/us_east/enum/neighbors_3'),\n",
       " PosixPath('out/us_east/stack'))"
      ]
     },
     "execution_count": 7,
     "metadata": {},
     "output_type": "execute_result"
    }
   ],
   "source": [
    "AOI_NAME, enum_dir, stack_dir"
   ]
  },
  {
   "cell_type": "markdown",
   "id": "da4f2622",
   "metadata": {},
   "source": [
    "# Read enumeration data"
   ]
  },
  {
   "cell_type": "code",
   "execution_count": 8,
   "id": "7157c26d",
   "metadata": {},
   "outputs": [
    {
     "name": "stderr",
     "output_type": "stream",
     "text": [
      "100%|███████████████████████████████████████████████████████████████████████████████████████| 23/23 [00:05<00:00,  4.16it/s]\n"
     ]
    },
    {
     "data": {
      "text/html": [
       "<div>\n",
       "<style scoped>\n",
       "    .dataframe tbody tr th:only-of-type {\n",
       "        vertical-align: middle;\n",
       "    }\n",
       "\n",
       "    .dataframe tbody tr th {\n",
       "        vertical-align: top;\n",
       "    }\n",
       "\n",
       "    .dataframe thead th {\n",
       "        text-align: right;\n",
       "    }\n",
       "</style>\n",
       "<table border=\"1\" class=\"dataframe\">\n",
       "  <thead>\n",
       "    <tr style=\"text-align: right;\">\n",
       "      <th></th>\n",
       "      <th>reference</th>\n",
       "      <th>secondary</th>\n",
       "      <th>reference_date</th>\n",
       "      <th>secondary_date</th>\n",
       "      <th>frame_id</th>\n",
       "      <th>track_aoi_key</th>\n",
       "      <th>aoi_name</th>\n",
       "      <th>neighbors</th>\n",
       "      <th>geometry</th>\n",
       "    </tr>\n",
       "  </thead>\n",
       "  <tbody>\n",
       "    <tr>\n",
       "      <th>0</th>\n",
       "      <td>S1A_IW_SLC__1SDV_20230721T225841_20230721T2259...</td>\n",
       "      <td>S1A_IW_SLC__1SDV_20230709T225840_20230709T2259...</td>\n",
       "      <td>2023-07-21</td>\n",
       "      <td>2023-07-09</td>\n",
       "      <td>16417.0</td>\n",
       "      <td>track106</td>\n",
       "      <td>us_east</td>\n",
       "      <td>3.0</td>\n",
       "      <td>POLYGON Z ((-76.48738 37.52033 0.00000, -76.69...</td>\n",
       "    </tr>\n",
       "    <tr>\n",
       "      <th>1</th>\n",
       "      <td>S1A_IW_SLC__1SDV_20230721T225907_20230721T2259...</td>\n",
       "      <td>S1A_IW_SLC__1SDV_20230709T225906_20230709T2259...</td>\n",
       "      <td>2023-07-21</td>\n",
       "      <td>2023-07-09</td>\n",
       "      <td>16418.0</td>\n",
       "      <td>track106</td>\n",
       "      <td>us_east</td>\n",
       "      <td>3.0</td>\n",
       "      <td>POLYGON Z ((-76.76865 38.68045 0.00000, -77.02...</td>\n",
       "    </tr>\n",
       "    <tr>\n",
       "      <th>2</th>\n",
       "      <td>S1A_IW_SLC__1SDV_20230721T225907_20230721T2259...</td>\n",
       "      <td>S1A_IW_SLC__1SDV_20230709T225906_20230709T2259...</td>\n",
       "      <td>2023-07-21</td>\n",
       "      <td>2023-07-09</td>\n",
       "      <td>16419.0</td>\n",
       "      <td>track106</td>\n",
       "      <td>us_east</td>\n",
       "      <td>3.0</td>\n",
       "      <td>POLYGON Z ((-77.05876 39.85632 0.00000, -77.31...</td>\n",
       "    </tr>\n",
       "    <tr>\n",
       "      <th>3</th>\n",
       "      <td>S1A_IW_SLC__1SDV_20230721T225932_20230721T2259...</td>\n",
       "      <td>S1A_IW_SLC__1SDV_20230709T225931_20230709T2259...</td>\n",
       "      <td>2023-07-21</td>\n",
       "      <td>2023-07-09</td>\n",
       "      <td>16420.0</td>\n",
       "      <td>track106</td>\n",
       "      <td>us_east</td>\n",
       "      <td>3.0</td>\n",
       "      <td>POLYGON Z ((-77.35151 41.00204 0.00000, -77.39...</td>\n",
       "    </tr>\n",
       "    <tr>\n",
       "      <th>4</th>\n",
       "      <td>S1A_IW_SLC__1SDV_20230721T225956_20230721T2300...</td>\n",
       "      <td>S1A_IW_SLC__1SDV_20230709T225956_20230709T2300...</td>\n",
       "      <td>2023-07-21</td>\n",
       "      <td>2023-07-09</td>\n",
       "      <td>16421.0</td>\n",
       "      <td>track106</td>\n",
       "      <td>us_east</td>\n",
       "      <td>3.0</td>\n",
       "      <td>POLYGON Z ((-77.64872 42.16093 0.00000, -77.78...</td>\n",
       "    </tr>\n",
       "  </tbody>\n",
       "</table>\n",
       "</div>"
      ],
      "text/plain": [
       "                                           reference   \n",
       "0  S1A_IW_SLC__1SDV_20230721T225841_20230721T2259...  \\\n",
       "1  S1A_IW_SLC__1SDV_20230721T225907_20230721T2259...   \n",
       "2  S1A_IW_SLC__1SDV_20230721T225907_20230721T2259...   \n",
       "3  S1A_IW_SLC__1SDV_20230721T225932_20230721T2259...   \n",
       "4  S1A_IW_SLC__1SDV_20230721T225956_20230721T2300...   \n",
       "\n",
       "                                           secondary reference_date   \n",
       "0  S1A_IW_SLC__1SDV_20230709T225840_20230709T2259...     2023-07-21  \\\n",
       "1  S1A_IW_SLC__1SDV_20230709T225906_20230709T2259...     2023-07-21   \n",
       "2  S1A_IW_SLC__1SDV_20230709T225906_20230709T2259...     2023-07-21   \n",
       "3  S1A_IW_SLC__1SDV_20230709T225931_20230709T2259...     2023-07-21   \n",
       "4  S1A_IW_SLC__1SDV_20230709T225956_20230709T2300...     2023-07-21   \n",
       "\n",
       "  secondary_date  frame_id track_aoi_key aoi_name  neighbors   \n",
       "0     2023-07-09   16417.0      track106  us_east        3.0  \\\n",
       "1     2023-07-09   16418.0      track106  us_east        3.0   \n",
       "2     2023-07-09   16419.0      track106  us_east        3.0   \n",
       "3     2023-07-09   16420.0      track106  us_east        3.0   \n",
       "4     2023-07-09   16421.0      track106  us_east        3.0   \n",
       "\n",
       "                                            geometry  \n",
       "0  POLYGON Z ((-76.48738 37.52033 0.00000, -76.69...  \n",
       "1  POLYGON Z ((-76.76865 38.68045 0.00000, -77.02...  \n",
       "2  POLYGON Z ((-77.05876 39.85632 0.00000, -77.31...  \n",
       "3  POLYGON Z ((-77.35151 41.00204 0.00000, -77.39...  \n",
       "4  POLYGON Z ((-77.64872 42.16093 0.00000, -77.78...  "
      ]
     },
     "execution_count": 8,
     "metadata": {},
     "output_type": "execute_result"
    }
   ],
   "source": [
    "dfs = [gpd.read_file(p) for p in tqdm(list(enum_dir.glob('*.geojson')))]\n",
    "df_ifg = pd.concat(dfs, axis=0)\n",
    "df_ifg.head()"
   ]
  },
  {
   "cell_type": "markdown",
   "id": "824695f7",
   "metadata": {},
   "source": [
    "# Filtering Jobs (Optional)\n",
    "\n",
    "When first submitting jobs, you may just want to submit one track at a time. Easiest to filter on the dataframe with all the IFGs. That's what we will do. Below shows how to filter on a single \"track_aoi_id\"."
   ]
  },
  {
   "cell_type": "code",
   "execution_count": 36,
   "id": "5c1f7e6e",
   "metadata": {},
   "outputs": [],
   "source": [
    "# df_ifg_submission = df_ifg.copy()"
   ]
  },
  {
   "cell_type": "code",
   "execution_count": 48,
   "id": "d5096c10",
   "metadata": {},
   "outputs": [
    {
     "data": {
      "text/html": [
       "<div>\n",
       "<style scoped>\n",
       "    .dataframe tbody tr th:only-of-type {\n",
       "        vertical-align: middle;\n",
       "    }\n",
       "\n",
       "    .dataframe tbody tr th {\n",
       "        vertical-align: top;\n",
       "    }\n",
       "\n",
       "    .dataframe thead th {\n",
       "        text-align: right;\n",
       "    }\n",
       "</style>\n",
       "<table border=\"1\" class=\"dataframe\">\n",
       "  <thead>\n",
       "    <tr style=\"text-align: right;\">\n",
       "      <th></th>\n",
       "      <th>reference</th>\n",
       "      <th>secondary</th>\n",
       "      <th>reference_date</th>\n",
       "      <th>secondary_date</th>\n",
       "      <th>frame_id</th>\n",
       "      <th>track_aoi_key</th>\n",
       "      <th>aoi_name</th>\n",
       "      <th>neighbors</th>\n",
       "      <th>geometry</th>\n",
       "      <th>cmr_hits</th>\n",
       "    </tr>\n",
       "  </thead>\n",
       "  <tbody>\n",
       "    <tr>\n",
       "      <th>0</th>\n",
       "      <td>S1A_IW_SLC__1SDV_20230807T230554_20230807T2306...</td>\n",
       "      <td>S1A_IW_SLC__1SDV_20230714T230553_20230714T2306...</td>\n",
       "      <td>2023-08-07</td>\n",
       "      <td>2023-07-14</td>\n",
       "      <td>492.0</td>\n",
       "      <td>track4</td>\n",
       "      <td>us_east</td>\n",
       "      <td>3.0</td>\n",
       "      <td>POLYGON Z ((-77.82534 34.47332 0.00000, -78.06...</td>\n",
       "      <td>0</td>\n",
       "    </tr>\n",
       "    <tr>\n",
       "      <th>1</th>\n",
       "      <td>S1A_IW_SLC__1SDV_20230807T230619_20230807T2306...</td>\n",
       "      <td>S1A_IW_SLC__1SDV_20230714T230618_20230714T2306...</td>\n",
       "      <td>2023-08-07</td>\n",
       "      <td>2023-07-14</td>\n",
       "      <td>493.0</td>\n",
       "      <td>track4</td>\n",
       "      <td>us_east</td>\n",
       "      <td>3.0</td>\n",
       "      <td>POLYGON Z ((-78.09591 35.63539 0.00000, -78.33...</td>\n",
       "      <td>0</td>\n",
       "    </tr>\n",
       "    <tr>\n",
       "      <th>2</th>\n",
       "      <td>S1A_IW_SLC__1SDV_20230807T230644_20230807T2307...</td>\n",
       "      <td>S1A_IW_SLC__1SDV_20230714T230643_20230714T2307...</td>\n",
       "      <td>2023-08-07</td>\n",
       "      <td>2023-07-14</td>\n",
       "      <td>494.0</td>\n",
       "      <td>track4</td>\n",
       "      <td>us_east</td>\n",
       "      <td>3.0</td>\n",
       "      <td>POLYGON Z ((-78.37797 36.81111 0.00000, -78.41...</td>\n",
       "      <td>0</td>\n",
       "    </tr>\n",
       "    <tr>\n",
       "      <th>3</th>\n",
       "      <td>S1A_IW_SLC__1SDV_20230807T230709_20230807T2307...</td>\n",
       "      <td>S1A_IW_SLC__1SDV_20230714T230708_20230714T2307...</td>\n",
       "      <td>2023-08-07</td>\n",
       "      <td>2023-07-14</td>\n",
       "      <td>495.0</td>\n",
       "      <td>track4</td>\n",
       "      <td>us_east</td>\n",
       "      <td>3.0</td>\n",
       "      <td>POLYGON Z ((-78.65322 37.95742 0.00000, -78.73...</td>\n",
       "      <td>0</td>\n",
       "    </tr>\n",
       "    <tr>\n",
       "      <th>4</th>\n",
       "      <td>S1A_IW_SLC__1SDV_20230807T230709_20230807T2307...</td>\n",
       "      <td>S1A_IW_SLC__1SDV_20230714T230708_20230714T2307...</td>\n",
       "      <td>2023-08-07</td>\n",
       "      <td>2023-07-14</td>\n",
       "      <td>496.0</td>\n",
       "      <td>track4</td>\n",
       "      <td>us_east</td>\n",
       "      <td>3.0</td>\n",
       "      <td>POLYGON Z ((-78.93684 39.11929 0.00000, -79.10...</td>\n",
       "      <td>0</td>\n",
       "    </tr>\n",
       "  </tbody>\n",
       "</table>\n",
       "</div>"
      ],
      "text/plain": [
       "                                           reference   \n",
       "0  S1A_IW_SLC__1SDV_20230807T230554_20230807T2306...  \\\n",
       "1  S1A_IW_SLC__1SDV_20230807T230619_20230807T2306...   \n",
       "2  S1A_IW_SLC__1SDV_20230807T230644_20230807T2307...   \n",
       "3  S1A_IW_SLC__1SDV_20230807T230709_20230807T2307...   \n",
       "4  S1A_IW_SLC__1SDV_20230807T230709_20230807T2307...   \n",
       "\n",
       "                                           secondary reference_date   \n",
       "0  S1A_IW_SLC__1SDV_20230714T230553_20230714T2306...     2023-08-07  \\\n",
       "1  S1A_IW_SLC__1SDV_20230714T230618_20230714T2306...     2023-08-07   \n",
       "2  S1A_IW_SLC__1SDV_20230714T230643_20230714T2307...     2023-08-07   \n",
       "3  S1A_IW_SLC__1SDV_20230714T230708_20230714T2307...     2023-08-07   \n",
       "4  S1A_IW_SLC__1SDV_20230714T230708_20230714T2307...     2023-08-07   \n",
       "\n",
       "  secondary_date  frame_id track_aoi_key aoi_name  neighbors   \n",
       "0     2023-07-14     492.0        track4  us_east        3.0  \\\n",
       "1     2023-07-14     493.0        track4  us_east        3.0   \n",
       "2     2023-07-14     494.0        track4  us_east        3.0   \n",
       "3     2023-07-14     495.0        track4  us_east        3.0   \n",
       "4     2023-07-14     496.0        track4  us_east        3.0   \n",
       "\n",
       "                                            geometry  cmr_hits  \n",
       "0  POLYGON Z ((-77.82534 34.47332 0.00000, -78.06...         0  \n",
       "1  POLYGON Z ((-78.09591 35.63539 0.00000, -78.33...         0  \n",
       "2  POLYGON Z ((-78.37797 36.81111 0.00000, -78.41...         0  \n",
       "3  POLYGON Z ((-78.65322 37.95742 0.00000, -78.73...         0  \n",
       "4  POLYGON Z ((-78.93684 39.11929 0.00000, -79.10...         0  "
      ]
     },
     "execution_count": 48,
     "metadata": {},
     "output_type": "execute_result"
    }
   ],
   "source": [
    "df_ifg_submission = df_ifg[df_ifg.track_aoi_key == 'track4'].reset_index(drop=True)\n",
    "df_ifg_submission.head()"
   ]
  },
  {
   "cell_type": "code",
   "execution_count": 92,
   "id": "668e2bdb",
   "metadata": {},
   "outputs": [
    {
     "data": {
      "text/plain": [
       "(9416, 10)"
      ]
     },
     "execution_count": 92,
     "metadata": {},
     "output_type": "execute_result"
    }
   ],
   "source": [
    "df_ifg_submission.shape"
   ]
  },
  {
   "cell_type": "markdown",
   "id": "2196a0aa",
   "metadata": {},
   "source": [
    "# Deduplication of IFGs CMR - WIP - Requires CMR Ingest\n",
    "\n",
    "Once we have CMR ingesting jobs, we can use this as the reference for data has been processed. We will use the fixed frames. See this [PR](https://github.com/asfadmin/Discovery-asf_search/issues/198) for more details about how this feature is access through ASF Search.\n",
    "\n",
    "The raw CMR command for a comparable query is:\n",
    "```\n",
    "https://cmr.uat.earthdata.nasa.gov/search/granules.umm_json?short_name=SENTINEL-1_INTERFEROGRAMS&temporal=2022-02-24T00:00:00Z,2022-02-25T00:00:00Z&attribute[]=int,FRAME_NUMBER,25502&attribute[]=int,TEMPORAL_BASELINE_DAYS,12\n",
    "```"
   ]
  },
  {
   "cell_type": "code",
   "execution_count": 50,
   "id": "bb2753ac",
   "metadata": {},
   "outputs": [],
   "source": [
    "def get_gunw_hits(record):\n",
    "\n",
    "    frame_id = int(record['frame_id'])\n",
    "    ref_date = parse(record['reference_date'])\n",
    "    sec_date = parse(record['secondary_date'])\n",
    "    \n",
    "    start = ref_date - timedelta(days=.5)\n",
    "    end = ref_date + timedelta(days=.5)\n",
    "    tb_days = (ref_date - sec_date).days\n",
    "    \n",
    "\n",
    "    opts = asf.ASFSearchOptions(host='cmr.uat.earthdata.nasa.gov', \n",
    "                                platform=asf.SENTINEL1,\n",
    "                                processingLevel=asf.constants.GUNW_STD,\n",
    "                                frame=frame_id, \n",
    "                                start=start, \n",
    "                                end=end, \n",
    "                                temporalBaselineDays=[tb_days],\n",
    "                                maxResults=5\n",
    "                                )\n",
    "    \n",
    "    results = asf.search(opts=opts)\n",
    "    return len(results)"
   ]
  },
  {
   "cell_type": "code",
   "execution_count": 51,
   "id": "541a2842",
   "metadata": {},
   "outputs": [],
   "source": [
    "submission_records = df_ifg_submission.to_dict('records')\n",
    "#get_gunw_hits(submission_records[0])"
   ]
  },
  {
   "cell_type": "code",
   "execution_count": 52,
   "id": "0d7257fc",
   "metadata": {},
   "outputs": [],
   "source": [
    "# n = len(submission_records)\n",
    "# with concurrent.futures.ThreadPoolExecutor(max_workers=5) as executor:\n",
    "#     ifg_hits_cmr = list(tqdm(executor.map(get_gunw_hits, submission_records[:100]), total=n))"
   ]
  },
  {
   "cell_type": "code",
   "execution_count": 53,
   "id": "0fa23e3f",
   "metadata": {},
   "outputs": [
    {
     "data": {
      "text/plain": [
       "{'reference': 'S1A_IW_SLC__1SDV_20230807T230554_20230807T230621_049776_05FC51_A90F S1A_IW_SLC__1SDV_20230807T230619_20230807T230646_049776_05FC51_59B8',\n",
       " 'secondary': 'S1A_IW_SLC__1SDV_20230714T230553_20230714T230620_049426_05F188_7C0A S1A_IW_SLC__1SDV_20230714T230618_20230714T230645_049426_05F188_7317',\n",
       " 'reference_date': '2023-08-07',\n",
       " 'secondary_date': '2023-07-14',\n",
       " 'frame_id': 492.0,\n",
       " 'track_aoi_key': 'track4',\n",
       " 'aoi_name': 'us_east',\n",
       " 'neighbors': 3.0,\n",
       " 'geometry': <POLYGON Z ((-77.825 34.473 0, -78.064 35.483 0, -78.06 35.484 0, -78.061 35...>,\n",
       " 'cmr_hits': 0}"
      ]
     },
     "execution_count": 53,
     "metadata": {},
     "output_type": "execute_result"
    }
   ],
   "source": [
    "submission_records[0]"
   ]
  },
  {
   "cell_type": "code",
   "execution_count": 54,
   "id": "3dccc001",
   "metadata": {},
   "outputs": [],
   "source": [
    "# TODO: set to ifg_hits_cmr\n",
    "df_ifg_submission['cmr_hits'] = 0"
   ]
  },
  {
   "cell_type": "markdown",
   "id": "cb20cd42",
   "metadata": {},
   "source": [
    "# Format Job Parameters"
   ]
  },
  {
   "cell_type": "code",
   "execution_count": 55,
   "id": "efa3199f",
   "metadata": {},
   "outputs": [],
   "source": [
    "IONO_CORRECTION = True\n",
    "SET_CORRECTION = True\n",
    "weather_model = 'HRRR'"
   ]
  },
  {
   "cell_type": "code",
   "execution_count": 62,
   "id": "5a208312",
   "metadata": {},
   "outputs": [
    {
     "data": {
      "text/plain": [
       "{'reference': 'S1A_IW_SLC__1SDV_20230807T230554_20230807T230621_049776_05FC51_A90F S1A_IW_SLC__1SDV_20230807T230619_20230807T230646_049776_05FC51_59B8',\n",
       " 'secondary': 'S1A_IW_SLC__1SDV_20230714T230553_20230714T230620_049426_05F188_7C0A S1A_IW_SLC__1SDV_20230714T230618_20230714T230645_049426_05F188_7317',\n",
       " 'reference_date': '2023-08-07',\n",
       " 'secondary_date': '2023-07-14',\n",
       " 'frame_id': 492.0,\n",
       " 'track_aoi_key': 'track4',\n",
       " 'aoi_name': 'us_east',\n",
       " 'neighbors': 3.0,\n",
       " 'geometry': <POLYGON Z ((-77.825 34.473 0, -78.064 35.483 0, -78.06 35.484 0, -78.061 35...>,\n",
       " 'cmr_hits': 0}"
      ]
     },
     "execution_count": 62,
     "metadata": {},
     "output_type": "execute_result"
    }
   ],
   "source": [
    "submission_records[0]"
   ]
  },
  {
   "cell_type": "code",
   "execution_count": 68,
   "id": "18a418d5",
   "metadata": {},
   "outputs": [],
   "source": [
    "def generate_job_name(record):\n",
    "    track_key = record['track_aoi_key']\n",
    "    aoi_name = record['aoi_name']\n",
    "    neighbor = str(int(record['neighbors']))\n",
    "    # frame_id = str(int(record['frame_id']))\n",
    "    return f'{track_key}-n{neighbor}'"
   ]
  },
  {
   "cell_type": "code",
   "execution_count": 69,
   "id": "21f8d49e",
   "metadata": {},
   "outputs": [
    {
     "data": {
      "text/plain": [
       "['track4-n3']"
      ]
     },
     "execution_count": 69,
     "metadata": {},
     "output_type": "execute_result"
    }
   ],
   "source": [
    "job_names = list(map(generate_job_name, submission_records))\n",
    "job_names_unique = sorted(list(set(job_names)))\n",
    "job_names_unique[:5]"
   ]
  },
  {
   "cell_type": "code",
   "execution_count": 71,
   "id": "261982df",
   "metadata": {},
   "outputs": [
    {
     "data": {
      "text/plain": [
       "[{'name': 'track4-n3',\n",
       "  'job_type': 'INSAR_ISCE_TEST',\n",
       "  'job_parameters': {'granules': ['S1A_IW_SLC__1SDV_20230807T230554_20230807T230621_049776_05FC51_A90F',\n",
       "    'S1A_IW_SLC__1SDV_20230807T230619_20230807T230646_049776_05FC51_59B8'],\n",
       "   'secondary_granules': ['S1A_IW_SLC__1SDV_20230714T230553_20230714T230620_049426_05F188_7C0A',\n",
       "    'S1A_IW_SLC__1SDV_20230714T230618_20230714T230645_049426_05F188_7317'],\n",
       "   'frame_id': 492,\n",
       "   'weather_model': 'HRRR',\n",
       "   'estimate_ionosphere_delay': True,\n",
       "   'compute_solid_earth_tide': True}},\n",
       " {'name': 'track4-n3',\n",
       "  'job_type': 'INSAR_ISCE_TEST',\n",
       "  'job_parameters': {'granules': ['S1A_IW_SLC__1SDV_20230807T230619_20230807T230646_049776_05FC51_59B8',\n",
       "    'S1A_IW_SLC__1SDV_20230807T230644_20230807T230711_049776_05FC51_52AC'],\n",
       "   'secondary_granules': ['S1A_IW_SLC__1SDV_20230714T230618_20230714T230645_049426_05F188_7317',\n",
       "    'S1A_IW_SLC__1SDV_20230714T230643_20230714T230710_049426_05F188_8808'],\n",
       "   'frame_id': 493,\n",
       "   'weather_model': 'HRRR',\n",
       "   'estimate_ionosphere_delay': True,\n",
       "   'compute_solid_earth_tide': True}}]"
      ]
     },
     "execution_count": 71,
     "metadata": {},
     "output_type": "execute_result"
    }
   ],
   "source": [
    "job_parameters = [{'granules': record['reference'].split(' '),\n",
    "                   'secondary_granules': record['secondary'].split(' '),\n",
    "                   'frame_id': int(record['frame_id']),\n",
    "                   'weather_model': weather_model,\n",
    "                   'estimate_ionosphere_delay': IONO_CORRECTION,\n",
    "                   'compute_solid_earth_tide': SET_CORRECTION,\n",
    "                  } for record in submission_records]\n",
    "\n",
    "job_dicts = [{'name': job_name,\n",
    "              # NOTE: we are still using the `dev` branch. Change this to \"INSAR_ISCE\" to use the `main` branch.\n",
    "              'job_type': 'INSAR_ISCE_TEST',\n",
    "              'job_parameters': parameters\n",
    "             }\n",
    "             for parameters, job_name in zip(job_parameters, job_names) ]\n",
    "job_dicts[:2]"
   ]
  },
  {
   "cell_type": "markdown",
   "id": "7beca279",
   "metadata": {},
   "source": [
    "# Submit Jobs to Hyp3"
   ]
  },
  {
   "cell_type": "code",
   "execution_count": 124,
   "id": "7a08fe18",
   "metadata": {},
   "outputs": [],
   "source": [
    "# uses .netrc; add `prompt=True` to prompt for credentials; \n",
    "#hyp3_isce = hyp3_sdk.HyP3('https://hyp3-a19-jpl.asf.alaska.edu')\n",
    "hyp3_isce = hyp3_sdk.HyP3('https://hyp3-tibet-jpl.asf.alaska.edu')"
   ]
  },
  {
   "cell_type": "code",
   "execution_count": 79,
   "id": "047664aa",
   "metadata": {},
   "outputs": [],
   "source": [
    "N_batches = int(np.ceil(len(job_dicts) / 200))\n",
    "job_dicts_batches = [job_dicts[200 * k : 200 * (k + 1)] for k in range(N_batches)]"
   ]
  },
  {
   "cell_type": "code",
   "execution_count": 96,
   "id": "4404fdd8",
   "metadata": {},
   "outputs": [
    {
     "data": {
      "text/plain": [
       "[Job.from_dict({'job_id': '743d8649-37cc-4ae5-96b0-635070c2ba4e', 'job_type': 'INSAR_ISCE_TEST', 'request_time': '2023-08-17T20:30:41+00:00', 'status_code': 'PENDING', 'user_id': 'cmarshak', 'name': 'track4-n3', 'job_parameters': {'compute_solid_earth_tide': True, 'estimate_ionosphere_delay': True, 'frame_id': 492, 'granules': ['S1A_IW_SLC__1SDV_20230807T230554_20230807T230621_049776_05FC51_A90F', 'S1A_IW_SLC__1SDV_20230807T230619_20230807T230646_049776_05FC51_59B8'], 'secondary_granules': ['S1A_IW_SLC__1SDV_20230714T230553_20230714T230620_049426_05F188_7C0A', 'S1A_IW_SLC__1SDV_20230714T230618_20230714T230645_049426_05F188_7317'], 'weather_model': 'HRRR'}}),\n",
       " Job.from_dict({'job_id': '6426bb30-3179-4156-b3f3-03c4194ad90f', 'job_type': 'INSAR_ISCE_TEST', 'request_time': '2023-08-17T20:30:41+00:00', 'status_code': 'PENDING', 'user_id': 'cmarshak', 'name': 'track4-n3', 'job_parameters': {'compute_solid_earth_tide': True, 'estimate_ionosphere_delay': True, 'frame_id': 493, 'granules': ['S1A_IW_SLC__1SDV_20230807T230619_20230807T230646_049776_05FC51_59B8', 'S1A_IW_SLC__1SDV_20230807T230644_20230807T230711_049776_05FC51_52AC'], 'secondary_granules': ['S1A_IW_SLC__1SDV_20230714T230618_20230714T230645_049426_05F188_7317', 'S1A_IW_SLC__1SDV_20230714T230643_20230714T230710_049426_05F188_8808'], 'weather_model': 'HRRR'}}),\n",
       " Job.from_dict({'job_id': 'a897b1f7-0a0d-41ac-b6c7-f3b09644c7e9', 'job_type': 'INSAR_ISCE_TEST', 'request_time': '2023-08-17T20:30:41+00:00', 'status_code': 'PENDING', 'user_id': 'cmarshak', 'name': 'track4-n3', 'job_parameters': {'compute_solid_earth_tide': True, 'estimate_ionosphere_delay': True, 'frame_id': 494, 'granules': ['S1A_IW_SLC__1SDV_20230807T230644_20230807T230711_049776_05FC51_52AC', 'S1A_IW_SLC__1SDV_20230807T230709_20230807T230736_049776_05FC51_0329'], 'secondary_granules': ['S1A_IW_SLC__1SDV_20230714T230643_20230714T230710_049426_05F188_8808', 'S1A_IW_SLC__1SDV_20230714T230708_20230714T230735_049426_05F188_5416'], 'weather_model': 'HRRR'}}),\n",
       " Job.from_dict({'job_id': '5bb10177-9085-46d9-b01e-219700408ab9', 'job_type': 'INSAR_ISCE_TEST', 'request_time': '2023-08-17T20:30:41+00:00', 'status_code': 'PENDING', 'user_id': 'cmarshak', 'name': 'track4-n3', 'job_parameters': {'compute_solid_earth_tide': True, 'estimate_ionosphere_delay': True, 'frame_id': 495, 'granules': ['S1A_IW_SLC__1SDV_20230807T230709_20230807T230736_049776_05FC51_0329', 'S1A_IW_SLC__1SDV_20230807T230734_20230807T230801_049776_05FC51_7667'], 'secondary_granules': ['S1A_IW_SLC__1SDV_20230714T230708_20230714T230735_049426_05F188_5416', 'S1A_IW_SLC__1SDV_20230714T230733_20230714T230800_049426_05F188_A9B5'], 'weather_model': 'HRRR'}}),\n",
       " Job.from_dict({'job_id': '0c0a11e2-1c27-4be5-b0c0-0c3d36c1699c', 'job_type': 'INSAR_ISCE_TEST', 'request_time': '2023-08-17T20:30:41+00:00', 'status_code': 'PENDING', 'user_id': 'cmarshak', 'name': 'track4-n3', 'job_parameters': {'compute_solid_earth_tide': True, 'estimate_ionosphere_delay': True, 'frame_id': 496, 'granules': ['S1A_IW_SLC__1SDV_20230807T230709_20230807T230736_049776_05FC51_0329', 'S1A_IW_SLC__1SDV_20230807T230734_20230807T230801_049776_05FC51_7667'], 'secondary_granules': ['S1A_IW_SLC__1SDV_20230714T230708_20230714T230735_049426_05F188_5416', 'S1A_IW_SLC__1SDV_20230714T230733_20230714T230800_049426_05F188_A9B5'], 'weather_model': 'HRRR'}}),\n",
       " Job.from_dict({'job_id': '19a993e0-ee59-4405-8505-1217eb114d02', 'job_type': 'INSAR_ISCE_TEST', 'request_time': '2023-08-17T20:30:41+00:00', 'status_code': 'PENDING', 'user_id': 'cmarshak', 'name': 'track4-n3', 'job_parameters': {'compute_solid_earth_tide': True, 'estimate_ionosphere_delay': True, 'frame_id': 497, 'granules': ['S1A_IW_SLC__1SDV_20230807T230734_20230807T230801_049776_05FC51_7667', 'S1A_IW_SLC__1SDV_20230807T230759_20230807T230826_049776_05FC51_A60F'], 'secondary_granules': ['S1A_IW_SLC__1SDV_20230714T230733_20230714T230800_049426_05F188_A9B5', 'S1A_IW_SLC__1SDV_20230714T230758_20230714T230825_049426_05F188_D898'], 'weather_model': 'HRRR'}}),\n",
       " Job.from_dict({'job_id': '4343b1af-1f7b-4e32-9d90-6d752e6b0e3f', 'job_type': 'INSAR_ISCE_TEST', 'request_time': '2023-08-17T20:30:41+00:00', 'status_code': 'PENDING', 'user_id': 'cmarshak', 'name': 'track4-n3', 'job_parameters': {'compute_solid_earth_tide': True, 'estimate_ionosphere_delay': True, 'frame_id': 498, 'granules': ['S1A_IW_SLC__1SDV_20230807T230759_20230807T230826_049776_05FC51_A60F', 'S1A_IW_SLC__1SDV_20230807T230824_20230807T230852_049776_05FC51_4C24'], 'secondary_granules': ['S1A_IW_SLC__1SDV_20230714T230758_20230714T230825_049426_05F188_D898', 'S1A_IW_SLC__1SDV_20230714T230823_20230714T230851_049426_05F188_40C8'], 'weather_model': 'HRRR'}}),\n",
       " Job.from_dict({'job_id': '08a6707b-88a3-4774-9473-d7084220c024', 'job_type': 'INSAR_ISCE_TEST', 'request_time': '2023-08-17T20:30:41+00:00', 'status_code': 'PENDING', 'user_id': 'cmarshak', 'name': 'track4-n3', 'job_parameters': {'compute_solid_earth_tide': True, 'estimate_ionosphere_delay': True, 'frame_id': 499, 'granules': ['S1A_IW_SLC__1SDV_20230807T230824_20230807T230852_049776_05FC51_4C24', 'S1A_IW_SLC__1SDV_20230807T230849_20230807T230916_049776_05FC51_55A1'], 'secondary_granules': ['S1A_IW_SLC__1SDV_20230714T230823_20230714T230851_049426_05F188_40C8', 'S1A_IW_SLC__1SDV_20230714T230848_20230714T230915_049426_05F188_3D2C'], 'weather_model': 'HRRR'}}),\n",
       " Job.from_dict({'job_id': '7533fd81-4ec4-4837-af12-756cd534e7ce', 'job_type': 'INSAR_ISCE_TEST', 'request_time': '2023-08-17T20:30:41+00:00', 'status_code': 'PENDING', 'user_id': 'cmarshak', 'name': 'track4-n3', 'job_parameters': {'compute_solid_earth_tide': True, 'estimate_ionosphere_delay': True, 'frame_id': 492, 'granules': ['S1A_IW_SLC__1SDV_20230807T230554_20230807T230621_049776_05FC51_A90F', 'S1A_IW_SLC__1SDV_20230807T230619_20230807T230646_049776_05FC51_59B8'], 'secondary_granules': ['S1A_IW_SLC__1SDV_20230620T230551_20230620T230618_049076_05E6CC_981E', 'S1A_IW_SLC__1SDV_20230620T230616_20230620T230644_049076_05E6CC_78ED'], 'weather_model': 'HRRR'}}),\n",
       " Job.from_dict({'job_id': 'fdccbffb-6696-49d3-8c96-c05008740263', 'job_type': 'INSAR_ISCE_TEST', 'request_time': '2023-08-17T20:30:41+00:00', 'status_code': 'PENDING', 'user_id': 'cmarshak', 'name': 'track4-n3', 'job_parameters': {'compute_solid_earth_tide': True, 'estimate_ionosphere_delay': True, 'frame_id': 493, 'granules': ['S1A_IW_SLC__1SDV_20230807T230619_20230807T230646_049776_05FC51_59B8', 'S1A_IW_SLC__1SDV_20230807T230644_20230807T230711_049776_05FC51_52AC'], 'secondary_granules': ['S1A_IW_SLC__1SDV_20230620T230616_20230620T230644_049076_05E6CC_78ED', 'S1A_IW_SLC__1SDV_20230620T230641_20230620T230708_049076_05E6CC_3659'], 'weather_model': 'HRRR'}}),\n",
       " Job.from_dict({'job_id': '6e85345b-700b-46a6-93c8-4ac25dd477a2', 'job_type': 'INSAR_ISCE_TEST', 'request_time': '2023-08-17T20:30:41+00:00', 'status_code': 'PENDING', 'user_id': 'cmarshak', 'name': 'track4-n3', 'job_parameters': {'compute_solid_earth_tide': True, 'estimate_ionosphere_delay': True, 'frame_id': 494, 'granules': ['S1A_IW_SLC__1SDV_20230807T230644_20230807T230711_049776_05FC51_52AC', 'S1A_IW_SLC__1SDV_20230807T230709_20230807T230736_049776_05FC51_0329'], 'secondary_granules': ['S1A_IW_SLC__1SDV_20230620T230641_20230620T230708_049076_05E6CC_3659', 'S1A_IW_SLC__1SDV_20230620T230706_20230620T230733_049076_05E6CC_D149'], 'weather_model': 'HRRR'}}),\n",
       " Job.from_dict({'job_id': 'f05083bf-659e-4c01-a621-7d4a107004fc', 'job_type': 'INSAR_ISCE_TEST', 'request_time': '2023-08-17T20:30:41+00:00', 'status_code': 'PENDING', 'user_id': 'cmarshak', 'name': 'track4-n3', 'job_parameters': {'compute_solid_earth_tide': True, 'estimate_ionosphere_delay': True, 'frame_id': 495, 'granules': ['S1A_IW_SLC__1SDV_20230807T230709_20230807T230736_049776_05FC51_0329', 'S1A_IW_SLC__1SDV_20230807T230734_20230807T230801_049776_05FC51_7667'], 'secondary_granules': ['S1A_IW_SLC__1SDV_20230620T230706_20230620T230733_049076_05E6CC_D149', 'S1A_IW_SLC__1SDV_20230620T230731_20230620T230758_049076_05E6CC_F82A'], 'weather_model': 'HRRR'}}),\n",
       " Job.from_dict({'job_id': '592ced0a-ffbd-4887-95e5-9154a0132e6b', 'job_type': 'INSAR_ISCE_TEST', 'request_time': '2023-08-17T20:30:41+00:00', 'status_code': 'PENDING', 'user_id': 'cmarshak', 'name': 'track4-n3', 'job_parameters': {'compute_solid_earth_tide': True, 'estimate_ionosphere_delay': True, 'frame_id': 496, 'granules': ['S1A_IW_SLC__1SDV_20230807T230709_20230807T230736_049776_05FC51_0329', 'S1A_IW_SLC__1SDV_20230807T230734_20230807T230801_049776_05FC51_7667'], 'secondary_granules': ['S1A_IW_SLC__1SDV_20230620T230706_20230620T230733_049076_05E6CC_D149', 'S1A_IW_SLC__1SDV_20230620T230731_20230620T230758_049076_05E6CC_F82A'], 'weather_model': 'HRRR'}}),\n",
       " Job.from_dict({'job_id': 'e40ba6f4-82b6-4b4a-8d2e-9df9aae961a5', 'job_type': 'INSAR_ISCE_TEST', 'request_time': '2023-08-17T20:30:41+00:00', 'status_code': 'PENDING', 'user_id': 'cmarshak', 'name': 'track4-n3', 'job_parameters': {'compute_solid_earth_tide': True, 'estimate_ionosphere_delay': True, 'frame_id': 497, 'granules': ['S1A_IW_SLC__1SDV_20230807T230734_20230807T230801_049776_05FC51_7667', 'S1A_IW_SLC__1SDV_20230807T230759_20230807T230826_049776_05FC51_A60F'], 'secondary_granules': ['S1A_IW_SLC__1SDV_20230620T230731_20230620T230758_049076_05E6CC_F82A', 'S1A_IW_SLC__1SDV_20230620T230756_20230620T230823_049076_05E6CC_8269'], 'weather_model': 'HRRR'}}),\n",
       " Job.from_dict({'job_id': '96473d6f-d41e-4950-a510-7d1d0e53dc75', 'job_type': 'INSAR_ISCE_TEST', 'request_time': '2023-08-17T20:30:41+00:00', 'status_code': 'PENDING', 'user_id': 'cmarshak', 'name': 'track4-n3', 'job_parameters': {'compute_solid_earth_tide': True, 'estimate_ionosphere_delay': True, 'frame_id': 498, 'granules': ['S1A_IW_SLC__1SDV_20230807T230759_20230807T230826_049776_05FC51_A60F', 'S1A_IW_SLC__1SDV_20230807T230824_20230807T230852_049776_05FC51_4C24'], 'secondary_granules': ['S1A_IW_SLC__1SDV_20230620T230756_20230620T230823_049076_05E6CC_8269', 'S1A_IW_SLC__1SDV_20230620T230821_20230620T230849_049076_05E6CC_4BC4'], 'weather_model': 'HRRR'}}),\n",
       " Job.from_dict({'job_id': 'ffb0206b-a9d4-4e6b-8dd5-860eb5e09f01', 'job_type': 'INSAR_ISCE_TEST', 'request_time': '2023-08-17T20:30:41+00:00', 'status_code': 'PENDING', 'user_id': 'cmarshak', 'name': 'track4-n3', 'job_parameters': {'compute_solid_earth_tide': True, 'estimate_ionosphere_delay': True, 'frame_id': 499, 'granules': ['S1A_IW_SLC__1SDV_20230807T230824_20230807T230852_049776_05FC51_4C24', 'S1A_IW_SLC__1SDV_20230807T230849_20230807T230916_049776_05FC51_55A1'], 'secondary_granules': ['S1A_IW_SLC__1SDV_20230620T230821_20230620T230849_049076_05E6CC_4BC4', 'S1A_IW_SLC__1SDV_20230620T230847_20230620T230914_049076_05E6CC_63F7'], 'weather_model': 'HRRR'}}),\n",
       " Job.from_dict({'job_id': 'ca0b7a19-02fc-4a13-b45d-74a390d87f70', 'job_type': 'INSAR_ISCE_TEST', 'request_time': '2023-08-17T20:30:41+00:00', 'status_code': 'PENDING', 'user_id': 'cmarshak', 'name': 'track4-n3', 'job_parameters': {'compute_solid_earth_tide': True, 'estimate_ionosphere_delay': True, 'frame_id': 492, 'granules': ['S1A_IW_SLC__1SDV_20230807T230554_20230807T230621_049776_05FC51_A90F', 'S1A_IW_SLC__1SDV_20230807T230619_20230807T230646_049776_05FC51_59B8'], 'secondary_granules': ['S1A_IW_SLC__1SDV_20230608T230550_20230608T230617_048901_05E173_3358', 'S1A_IW_SLC__1SDV_20230608T230615_20230608T230643_048901_05E173_7831'], 'weather_model': 'HRRR'}}),\n",
       " Job.from_dict({'job_id': '4d44b5be-d0c0-4338-9225-3e8d26500b11', 'job_type': 'INSAR_ISCE_TEST', 'request_time': '2023-08-17T20:30:41+00:00', 'status_code': 'PENDING', 'user_id': 'cmarshak', 'name': 'track4-n3', 'job_parameters': {'compute_solid_earth_tide': True, 'estimate_ionosphere_delay': True, 'frame_id': 493, 'granules': ['S1A_IW_SLC__1SDV_20230807T230619_20230807T230646_049776_05FC51_59B8', 'S1A_IW_SLC__1SDV_20230807T230644_20230807T230711_049776_05FC51_52AC'], 'secondary_granules': ['S1A_IW_SLC__1SDV_20230608T230615_20230608T230643_048901_05E173_7831', 'S1A_IW_SLC__1SDV_20230608T230641_20230608T230708_048901_05E173_827B'], 'weather_model': 'HRRR'}}),\n",
       " Job.from_dict({'job_id': '5af23493-5b2e-440f-86f0-7b0cd77442ff', 'job_type': 'INSAR_ISCE_TEST', 'request_time': '2023-08-17T20:30:41+00:00', 'status_code': 'PENDING', 'user_id': 'cmarshak', 'name': 'track4-n3', 'job_parameters': {'compute_solid_earth_tide': True, 'estimate_ionosphere_delay': True, 'frame_id': 494, 'granules': ['S1A_IW_SLC__1SDV_20230807T230644_20230807T230711_049776_05FC51_52AC', 'S1A_IW_SLC__1SDV_20230807T230709_20230807T230736_049776_05FC51_0329'], 'secondary_granules': ['S1A_IW_SLC__1SDV_20230608T230641_20230608T230708_048901_05E173_827B', 'S1A_IW_SLC__1SDV_20230608T230705_20230608T230732_048901_05E173_82F6'], 'weather_model': 'HRRR'}}),\n",
       " Job.from_dict({'job_id': '3adae689-52ee-4d56-a97e-08ff9789f251', 'job_type': 'INSAR_ISCE_TEST', 'request_time': '2023-08-17T20:30:41+00:00', 'status_code': 'PENDING', 'user_id': 'cmarshak', 'name': 'track4-n3', 'job_parameters': {'compute_solid_earth_tide': True, 'estimate_ionosphere_delay': True, 'frame_id': 495, 'granules': ['S1A_IW_SLC__1SDV_20230807T230709_20230807T230736_049776_05FC51_0329', 'S1A_IW_SLC__1SDV_20230807T230734_20230807T230801_049776_05FC51_7667'], 'secondary_granules': ['S1A_IW_SLC__1SDV_20230608T230705_20230608T230732_048901_05E173_82F6', 'S1A_IW_SLC__1SDV_20230608T230730_20230608T230757_048901_05E173_21C5'], 'weather_model': 'HRRR'}}),\n",
       " Job.from_dict({'job_id': '38934b6c-9770-469f-b3fd-64852193fc75', 'job_type': 'INSAR_ISCE_TEST', 'request_time': '2023-08-17T20:30:41+00:00', 'status_code': 'PENDING', 'user_id': 'cmarshak', 'name': 'track4-n3', 'job_parameters': {'compute_solid_earth_tide': True, 'estimate_ionosphere_delay': True, 'frame_id': 496, 'granules': ['S1A_IW_SLC__1SDV_20230807T230709_20230807T230736_049776_05FC51_0329', 'S1A_IW_SLC__1SDV_20230807T230734_20230807T230801_049776_05FC51_7667'], 'secondary_granules': ['S1A_IW_SLC__1SDV_20230608T230705_20230608T230732_048901_05E173_82F6', 'S1A_IW_SLC__1SDV_20230608T230730_20230608T230757_048901_05E173_21C5'], 'weather_model': 'HRRR'}}),\n",
       " Job.from_dict({'job_id': 'b6ea7b82-71b5-4011-8513-7abe0ed8d393', 'job_type': 'INSAR_ISCE_TEST', 'request_time': '2023-08-17T20:30:41+00:00', 'status_code': 'PENDING', 'user_id': 'cmarshak', 'name': 'track4-n3', 'job_parameters': {'compute_solid_earth_tide': True, 'estimate_ionosphere_delay': True, 'frame_id': 497, 'granules': ['S1A_IW_SLC__1SDV_20230807T230734_20230807T230801_049776_05FC51_7667', 'S1A_IW_SLC__1SDV_20230807T230759_20230807T230826_049776_05FC51_A60F'], 'secondary_granules': ['S1A_IW_SLC__1SDV_20230608T230730_20230608T230757_048901_05E173_21C5', 'S1A_IW_SLC__1SDV_20230608T230755_20230608T230822_048901_05E173_EB56'], 'weather_model': 'HRRR'}}),\n",
       " Job.from_dict({'job_id': '1a0c72a4-0927-481b-a708-170fa75eb1ea', 'job_type': 'INSAR_ISCE_TEST', 'request_time': '2023-08-17T20:30:41+00:00', 'status_code': 'PENDING', 'user_id': 'cmarshak', 'name': 'track4-n3', 'job_parameters': {'compute_solid_earth_tide': True, 'estimate_ionosphere_delay': True, 'frame_id': 498, 'granules': ['S1A_IW_SLC__1SDV_20230807T230759_20230807T230826_049776_05FC51_A60F', 'S1A_IW_SLC__1SDV_20230807T230824_20230807T230852_049776_05FC51_4C24'], 'secondary_granules': ['S1A_IW_SLC__1SDV_20230608T230755_20230608T230822_048901_05E173_EB56', 'S1A_IW_SLC__1SDV_20230608T230820_20230608T230848_048901_05E173_6F2F'], 'weather_model': 'HRRR'}}),\n",
       " Job.from_dict({'job_id': 'dd2882c3-02fe-4a46-b51c-21dab7e564aa', 'job_type': 'INSAR_ISCE_TEST', 'request_time': '2023-08-17T20:30:41+00:00', 'status_code': 'PENDING', 'user_id': 'cmarshak', 'name': 'track4-n3', 'job_parameters': {'compute_solid_earth_tide': True, 'estimate_ionosphere_delay': True, 'frame_id': 499, 'granules': ['S1A_IW_SLC__1SDV_20230807T230824_20230807T230852_049776_05FC51_4C24', 'S1A_IW_SLC__1SDV_20230807T230849_20230807T230916_049776_05FC51_55A1'], 'secondary_granules': ['S1A_IW_SLC__1SDV_20230608T230820_20230608T230848_048901_05E173_6F2F', 'S1A_IW_SLC__1SDV_20230608T230846_20230608T230913_048901_05E173_8A5C'], 'weather_model': 'HRRR'}}),\n",
       " Job.from_dict({'job_id': '2802cb75-0edc-4d84-8464-b0a2112ed1c2', 'job_type': 'INSAR_ISCE_TEST', 'request_time': '2023-08-17T20:30:41+00:00', 'status_code': 'PENDING', 'user_id': 'cmarshak', 'name': 'track4-n3', 'job_parameters': {'compute_solid_earth_tide': True, 'estimate_ionosphere_delay': True, 'frame_id': 492, 'granules': ['S1A_IW_SLC__1SDV_20230714T230553_20230714T230620_049426_05F188_7C0A', 'S1A_IW_SLC__1SDV_20230714T230618_20230714T230645_049426_05F188_7317'], 'secondary_granules': ['S1A_IW_SLC__1SDV_20230620T230551_20230620T230618_049076_05E6CC_981E', 'S1A_IW_SLC__1SDV_20230620T230616_20230620T230644_049076_05E6CC_78ED'], 'weather_model': 'HRRR'}}),\n",
       " Job.from_dict({'job_id': 'ebd62098-8862-4b3c-8b77-f5cbe0921d18', 'job_type': 'INSAR_ISCE_TEST', 'request_time': '2023-08-17T20:30:41+00:00', 'status_code': 'PENDING', 'user_id': 'cmarshak', 'name': 'track4-n3', 'job_parameters': {'compute_solid_earth_tide': True, 'estimate_ionosphere_delay': True, 'frame_id': 493, 'granules': ['S1A_IW_SLC__1SDV_20230714T230618_20230714T230645_049426_05F188_7317', 'S1A_IW_SLC__1SDV_20230714T230643_20230714T230710_049426_05F188_8808'], 'secondary_granules': ['S1A_IW_SLC__1SDV_20230620T230616_20230620T230644_049076_05E6CC_78ED', 'S1A_IW_SLC__1SDV_20230620T230641_20230620T230708_049076_05E6CC_3659'], 'weather_model': 'HRRR'}}),\n",
       " Job.from_dict({'job_id': '30ce5b69-4361-4cc9-87e1-94452de3c4e5', 'job_type': 'INSAR_ISCE_TEST', 'request_time': '2023-08-17T20:30:41+00:00', 'status_code': 'PENDING', 'user_id': 'cmarshak', 'name': 'track4-n3', 'job_parameters': {'compute_solid_earth_tide': True, 'estimate_ionosphere_delay': True, 'frame_id': 494, 'granules': ['S1A_IW_SLC__1SDV_20230714T230643_20230714T230710_049426_05F188_8808', 'S1A_IW_SLC__1SDV_20230714T230708_20230714T230735_049426_05F188_5416'], 'secondary_granules': ['S1A_IW_SLC__1SDV_20230620T230641_20230620T230708_049076_05E6CC_3659', 'S1A_IW_SLC__1SDV_20230620T230706_20230620T230733_049076_05E6CC_D149'], 'weather_model': 'HRRR'}}),\n",
       " Job.from_dict({'job_id': 'cb5fc187-8dd0-47fd-953c-8e68bafd66dd', 'job_type': 'INSAR_ISCE_TEST', 'request_time': '2023-08-17T20:30:41+00:00', 'status_code': 'PENDING', 'user_id': 'cmarshak', 'name': 'track4-n3', 'job_parameters': {'compute_solid_earth_tide': True, 'estimate_ionosphere_delay': True, 'frame_id': 495, 'granules': ['S1A_IW_SLC__1SDV_20230714T230708_20230714T230735_049426_05F188_5416', 'S1A_IW_SLC__1SDV_20230714T230733_20230714T230800_049426_05F188_A9B5'], 'secondary_granules': ['S1A_IW_SLC__1SDV_20230620T230706_20230620T230733_049076_05E6CC_D149', 'S1A_IW_SLC__1SDV_20230620T230731_20230620T230758_049076_05E6CC_F82A'], 'weather_model': 'HRRR'}}),\n",
       " Job.from_dict({'job_id': '2a2406d9-b04a-4919-afa3-2596f8913e20', 'job_type': 'INSAR_ISCE_TEST', 'request_time': '2023-08-17T20:30:41+00:00', 'status_code': 'PENDING', 'user_id': 'cmarshak', 'name': 'track4-n3', 'job_parameters': {'compute_solid_earth_tide': True, 'estimate_ionosphere_delay': True, 'frame_id': 496, 'granules': ['S1A_IW_SLC__1SDV_20230714T230708_20230714T230735_049426_05F188_5416', 'S1A_IW_SLC__1SDV_20230714T230733_20230714T230800_049426_05F188_A9B5'], 'secondary_granules': ['S1A_IW_SLC__1SDV_20230620T230706_20230620T230733_049076_05E6CC_D149', 'S1A_IW_SLC__1SDV_20230620T230731_20230620T230758_049076_05E6CC_F82A'], 'weather_model': 'HRRR'}}),\n",
       " Job.from_dict({'job_id': 'fa23b74d-8536-4235-89bc-845e81073719', 'job_type': 'INSAR_ISCE_TEST', 'request_time': '2023-08-17T20:30:41+00:00', 'status_code': 'PENDING', 'user_id': 'cmarshak', 'name': 'track4-n3', 'job_parameters': {'compute_solid_earth_tide': True, 'estimate_ionosphere_delay': True, 'frame_id': 497, 'granules': ['S1A_IW_SLC__1SDV_20230714T230733_20230714T230800_049426_05F188_A9B5', 'S1A_IW_SLC__1SDV_20230714T230758_20230714T230825_049426_05F188_D898'], 'secondary_granules': ['S1A_IW_SLC__1SDV_20230620T230731_20230620T230758_049076_05E6CC_F82A', 'S1A_IW_SLC__1SDV_20230620T230756_20230620T230823_049076_05E6CC_8269'], 'weather_model': 'HRRR'}}),\n",
       " Job.from_dict({'job_id': 'fd4c596d-f255-48c2-a6e8-e2769f221a37', 'job_type': 'INSAR_ISCE_TEST', 'request_time': '2023-08-17T20:30:41+00:00', 'status_code': 'PENDING', 'user_id': 'cmarshak', 'name': 'track4-n3', 'job_parameters': {'compute_solid_earth_tide': True, 'estimate_ionosphere_delay': True, 'frame_id': 498, 'granules': ['S1A_IW_SLC__1SDV_20230714T230758_20230714T230825_049426_05F188_D898', 'S1A_IW_SLC__1SDV_20230714T230823_20230714T230851_049426_05F188_40C8'], 'secondary_granules': ['S1A_IW_SLC__1SDV_20230620T230756_20230620T230823_049076_05E6CC_8269', 'S1A_IW_SLC__1SDV_20230620T230821_20230620T230849_049076_05E6CC_4BC4'], 'weather_model': 'HRRR'}}),\n",
       " Job.from_dict({'job_id': '7d1974bc-b857-4f54-9c9b-5c8756bf4a3d', 'job_type': 'INSAR_ISCE_TEST', 'request_time': '2023-08-17T20:30:41+00:00', 'status_code': 'PENDING', 'user_id': 'cmarshak', 'name': 'track4-n3', 'job_parameters': {'compute_solid_earth_tide': True, 'estimate_ionosphere_delay': True, 'frame_id': 499, 'granules': ['S1A_IW_SLC__1SDV_20230714T230823_20230714T230851_049426_05F188_40C8', 'S1A_IW_SLC__1SDV_20230714T230848_20230714T230915_049426_05F188_3D2C'], 'secondary_granules': ['S1A_IW_SLC__1SDV_20230620T230821_20230620T230849_049076_05E6CC_4BC4', 'S1A_IW_SLC__1SDV_20230620T230847_20230620T230914_049076_05E6CC_63F7'], 'weather_model': 'HRRR'}}),\n",
       " Job.from_dict({'job_id': '6f21bf8d-5a33-47ab-904b-c5da51c78192', 'job_type': 'INSAR_ISCE_TEST', 'request_time': '2023-08-17T20:30:41+00:00', 'status_code': 'PENDING', 'user_id': 'cmarshak', 'name': 'track4-n3', 'job_parameters': {'compute_solid_earth_tide': True, 'estimate_ionosphere_delay': True, 'frame_id': 492, 'granules': ['S1A_IW_SLC__1SDV_20230714T230553_20230714T230620_049426_05F188_7C0A', 'S1A_IW_SLC__1SDV_20230714T230618_20230714T230645_049426_05F188_7317'], 'secondary_granules': ['S1A_IW_SLC__1SDV_20230608T230550_20230608T230617_048901_05E173_3358', 'S1A_IW_SLC__1SDV_20230608T230615_20230608T230643_048901_05E173_7831'], 'weather_model': 'HRRR'}}),\n",
       " Job.from_dict({'job_id': 'e92a1f33-d7ca-4057-970c-9649a9a90283', 'job_type': 'INSAR_ISCE_TEST', 'request_time': '2023-08-17T20:30:41+00:00', 'status_code': 'PENDING', 'user_id': 'cmarshak', 'name': 'track4-n3', 'job_parameters': {'compute_solid_earth_tide': True, 'estimate_ionosphere_delay': True, 'frame_id': 493, 'granules': ['S1A_IW_SLC__1SDV_20230714T230618_20230714T230645_049426_05F188_7317', 'S1A_IW_SLC__1SDV_20230714T230643_20230714T230710_049426_05F188_8808'], 'secondary_granules': ['S1A_IW_SLC__1SDV_20230608T230615_20230608T230643_048901_05E173_7831', 'S1A_IW_SLC__1SDV_20230608T230641_20230608T230708_048901_05E173_827B'], 'weather_model': 'HRRR'}}),\n",
       " Job.from_dict({'job_id': 'd1270a9c-6a00-4a72-8463-30382fd36557', 'job_type': 'INSAR_ISCE_TEST', 'request_time': '2023-08-17T20:30:41+00:00', 'status_code': 'PENDING', 'user_id': 'cmarshak', 'name': 'track4-n3', 'job_parameters': {'compute_solid_earth_tide': True, 'estimate_ionosphere_delay': True, 'frame_id': 494, 'granules': ['S1A_IW_SLC__1SDV_20230714T230643_20230714T230710_049426_05F188_8808', 'S1A_IW_SLC__1SDV_20230714T230708_20230714T230735_049426_05F188_5416'], 'secondary_granules': ['S1A_IW_SLC__1SDV_20230608T230641_20230608T230708_048901_05E173_827B', 'S1A_IW_SLC__1SDV_20230608T230705_20230608T230732_048901_05E173_82F6'], 'weather_model': 'HRRR'}}),\n",
       " Job.from_dict({'job_id': 'd0c2238d-cd54-4391-871b-382275c46114', 'job_type': 'INSAR_ISCE_TEST', 'request_time': '2023-08-17T20:30:41+00:00', 'status_code': 'PENDING', 'user_id': 'cmarshak', 'name': 'track4-n3', 'job_parameters': {'compute_solid_earth_tide': True, 'estimate_ionosphere_delay': True, 'frame_id': 495, 'granules': ['S1A_IW_SLC__1SDV_20230714T230708_20230714T230735_049426_05F188_5416', 'S1A_IW_SLC__1SDV_20230714T230733_20230714T230800_049426_05F188_A9B5'], 'secondary_granules': ['S1A_IW_SLC__1SDV_20230608T230705_20230608T230732_048901_05E173_82F6', 'S1A_IW_SLC__1SDV_20230608T230730_20230608T230757_048901_05E173_21C5'], 'weather_model': 'HRRR'}}),\n",
       " Job.from_dict({'job_id': 'df605e65-fc9f-4da4-8db1-0d7051b35fe1', 'job_type': 'INSAR_ISCE_TEST', 'request_time': '2023-08-17T20:30:41+00:00', 'status_code': 'PENDING', 'user_id': 'cmarshak', 'name': 'track4-n3', 'job_parameters': {'compute_solid_earth_tide': True, 'estimate_ionosphere_delay': True, 'frame_id': 496, 'granules': ['S1A_IW_SLC__1SDV_20230714T230708_20230714T230735_049426_05F188_5416', 'S1A_IW_SLC__1SDV_20230714T230733_20230714T230800_049426_05F188_A9B5'], 'secondary_granules': ['S1A_IW_SLC__1SDV_20230608T230705_20230608T230732_048901_05E173_82F6', 'S1A_IW_SLC__1SDV_20230608T230730_20230608T230757_048901_05E173_21C5'], 'weather_model': 'HRRR'}}),\n",
       " Job.from_dict({'job_id': '0d17738a-dc7d-449f-ae83-5a3b9a1c8024', 'job_type': 'INSAR_ISCE_TEST', 'request_time': '2023-08-17T20:30:41+00:00', 'status_code': 'PENDING', 'user_id': 'cmarshak', 'name': 'track4-n3', 'job_parameters': {'compute_solid_earth_tide': True, 'estimate_ionosphere_delay': True, 'frame_id': 497, 'granules': ['S1A_IW_SLC__1SDV_20230714T230733_20230714T230800_049426_05F188_A9B5', 'S1A_IW_SLC__1SDV_20230714T230758_20230714T230825_049426_05F188_D898'], 'secondary_granules': ['S1A_IW_SLC__1SDV_20230608T230730_20230608T230757_048901_05E173_21C5', 'S1A_IW_SLC__1SDV_20230608T230755_20230608T230822_048901_05E173_EB56'], 'weather_model': 'HRRR'}}),\n",
       " Job.from_dict({'job_id': '571409fc-6616-41a6-b3f6-0e8fdfae156a', 'job_type': 'INSAR_ISCE_TEST', 'request_time': '2023-08-17T20:30:41+00:00', 'status_code': 'PENDING', 'user_id': 'cmarshak', 'name': 'track4-n3', 'job_parameters': {'compute_solid_earth_tide': True, 'estimate_ionosphere_delay': True, 'frame_id': 498, 'granules': ['S1A_IW_SLC__1SDV_20230714T230758_20230714T230825_049426_05F188_D898', 'S1A_IW_SLC__1SDV_20230714T230823_20230714T230851_049426_05F188_40C8'], 'secondary_granules': ['S1A_IW_SLC__1SDV_20230608T230755_20230608T230822_048901_05E173_EB56', 'S1A_IW_SLC__1SDV_20230608T230820_20230608T230848_048901_05E173_6F2F'], 'weather_model': 'HRRR'}}),\n",
       " Job.from_dict({'job_id': '102b2c16-8a11-407e-85fc-57f8ae8a2a08', 'job_type': 'INSAR_ISCE_TEST', 'request_time': '2023-08-17T20:30:41+00:00', 'status_code': 'PENDING', 'user_id': 'cmarshak', 'name': 'track4-n3', 'job_parameters': {'compute_solid_earth_tide': True, 'estimate_ionosphere_delay': True, 'frame_id': 499, 'granules': ['S1A_IW_SLC__1SDV_20230714T230823_20230714T230851_049426_05F188_40C8', 'S1A_IW_SLC__1SDV_20230714T230848_20230714T230915_049426_05F188_3D2C'], 'secondary_granules': ['S1A_IW_SLC__1SDV_20230608T230820_20230608T230848_048901_05E173_6F2F', 'S1A_IW_SLC__1SDV_20230608T230846_20230608T230913_048901_05E173_8A5C'], 'weather_model': 'HRRR'}}),\n",
       " Job.from_dict({'job_id': '4be1ca9e-7e9d-4ca3-90cf-9d52a008c9ed', 'job_type': 'INSAR_ISCE_TEST', 'request_time': '2023-08-17T20:30:41+00:00', 'status_code': 'PENDING', 'user_id': 'cmarshak', 'name': 'track4-n3', 'job_parameters': {'compute_solid_earth_tide': True, 'estimate_ionosphere_delay': True, 'frame_id': 492, 'granules': ['S1A_IW_SLC__1SDV_20230714T230553_20230714T230620_049426_05F188_7C0A', 'S1A_IW_SLC__1SDV_20230714T230618_20230714T230645_049426_05F188_7317'], 'secondary_granules': ['S1A_IW_SLC__1SDV_20230527T230550_20230527T230617_048726_05DC30_C628', 'S1A_IW_SLC__1SDV_20230527T230615_20230527T230643_048726_05DC30_9D1B'], 'weather_model': 'HRRR'}}),\n",
       " Job.from_dict({'job_id': 'cb44f33d-e124-487c-aeeb-1312b0067fbf', 'job_type': 'INSAR_ISCE_TEST', 'request_time': '2023-08-17T20:30:41+00:00', 'status_code': 'PENDING', 'user_id': 'cmarshak', 'name': 'track4-n3', 'job_parameters': {'compute_solid_earth_tide': True, 'estimate_ionosphere_delay': True, 'frame_id': 493, 'granules': ['S1A_IW_SLC__1SDV_20230714T230618_20230714T230645_049426_05F188_7317', 'S1A_IW_SLC__1SDV_20230714T230643_20230714T230710_049426_05F188_8808'], 'secondary_granules': ['S1A_IW_SLC__1SDV_20230527T230615_20230527T230643_048726_05DC30_9D1B', 'S1A_IW_SLC__1SDV_20230527T230640_20230527T230707_048726_05DC30_2B77'], 'weather_model': 'HRRR'}}),\n",
       " Job.from_dict({'job_id': '152bcc1c-3c49-42da-bdcb-b93f318beef0', 'job_type': 'INSAR_ISCE_TEST', 'request_time': '2023-08-17T20:30:41+00:00', 'status_code': 'PENDING', 'user_id': 'cmarshak', 'name': 'track4-n3', 'job_parameters': {'compute_solid_earth_tide': True, 'estimate_ionosphere_delay': True, 'frame_id': 494, 'granules': ['S1A_IW_SLC__1SDV_20230714T230643_20230714T230710_049426_05F188_8808', 'S1A_IW_SLC__1SDV_20230714T230708_20230714T230735_049426_05F188_5416'], 'secondary_granules': ['S1A_IW_SLC__1SDV_20230527T230640_20230527T230707_048726_05DC30_2B77', 'S1A_IW_SLC__1SDV_20230527T230705_20230527T230732_048726_05DC30_BC70'], 'weather_model': 'HRRR'}}),\n",
       " Job.from_dict({'job_id': '41a4c2fc-4256-4aaa-8333-6d8790a27920', 'job_type': 'INSAR_ISCE_TEST', 'request_time': '2023-08-17T20:30:41+00:00', 'status_code': 'PENDING', 'user_id': 'cmarshak', 'name': 'track4-n3', 'job_parameters': {'compute_solid_earth_tide': True, 'estimate_ionosphere_delay': True, 'frame_id': 495, 'granules': ['S1A_IW_SLC__1SDV_20230714T230708_20230714T230735_049426_05F188_5416', 'S1A_IW_SLC__1SDV_20230714T230733_20230714T230800_049426_05F188_A9B5'], 'secondary_granules': ['S1A_IW_SLC__1SDV_20230527T230705_20230527T230732_048726_05DC30_BC70', 'S1A_IW_SLC__1SDV_20230527T230730_20230527T230757_048726_05DC30_1B94'], 'weather_model': 'HRRR'}}),\n",
       " Job.from_dict({'job_id': '6255ffdf-c021-4517-a217-dde33ad03651', 'job_type': 'INSAR_ISCE_TEST', 'request_time': '2023-08-17T20:30:41+00:00', 'status_code': 'PENDING', 'user_id': 'cmarshak', 'name': 'track4-n3', 'job_parameters': {'compute_solid_earth_tide': True, 'estimate_ionosphere_delay': True, 'frame_id': 496, 'granules': ['S1A_IW_SLC__1SDV_20230714T230708_20230714T230735_049426_05F188_5416', 'S1A_IW_SLC__1SDV_20230714T230733_20230714T230800_049426_05F188_A9B5'], 'secondary_granules': ['S1A_IW_SLC__1SDV_20230527T230705_20230527T230732_048726_05DC30_BC70', 'S1A_IW_SLC__1SDV_20230527T230730_20230527T230757_048726_05DC30_1B94'], 'weather_model': 'HRRR'}}),\n",
       " Job.from_dict({'job_id': 'daefa569-0586-4397-b7e7-d4e77456e7ee', 'job_type': 'INSAR_ISCE_TEST', 'request_time': '2023-08-17T20:30:41+00:00', 'status_code': 'PENDING', 'user_id': 'cmarshak', 'name': 'track4-n3', 'job_parameters': {'compute_solid_earth_tide': True, 'estimate_ionosphere_delay': True, 'frame_id': 497, 'granules': ['S1A_IW_SLC__1SDV_20230714T230733_20230714T230800_049426_05F188_A9B5', 'S1A_IW_SLC__1SDV_20230714T230758_20230714T230825_049426_05F188_D898'], 'secondary_granules': ['S1A_IW_SLC__1SDV_20230527T230730_20230527T230757_048726_05DC30_1B94', 'S1A_IW_SLC__1SDV_20230527T230755_20230527T230822_048726_05DC30_B26C'], 'weather_model': 'HRRR'}}),\n",
       " Job.from_dict({'job_id': 'ada5296c-e11c-47d5-a948-c4dc6d0147f9', 'job_type': 'INSAR_ISCE_TEST', 'request_time': '2023-08-17T20:30:41+00:00', 'status_code': 'PENDING', 'user_id': 'cmarshak', 'name': 'track4-n3', 'job_parameters': {'compute_solid_earth_tide': True, 'estimate_ionosphere_delay': True, 'frame_id': 498, 'granules': ['S1A_IW_SLC__1SDV_20230714T230758_20230714T230825_049426_05F188_D898', 'S1A_IW_SLC__1SDV_20230714T230823_20230714T230851_049426_05F188_40C8'], 'secondary_granules': ['S1A_IW_SLC__1SDV_20230527T230755_20230527T230822_048726_05DC30_B26C', 'S1A_IW_SLC__1SDV_20230527T230820_20230527T230848_048726_05DC30_2DF1'], 'weather_model': 'HRRR'}}),\n",
       " Job.from_dict({'job_id': 'e6c77fd5-8373-48e9-80be-597c821d6b14', 'job_type': 'INSAR_ISCE_TEST', 'request_time': '2023-08-17T20:30:41+00:00', 'status_code': 'PENDING', 'user_id': 'cmarshak', 'name': 'track4-n3', 'job_parameters': {'compute_solid_earth_tide': True, 'estimate_ionosphere_delay': True, 'frame_id': 499, 'granules': ['S1A_IW_SLC__1SDV_20230714T230823_20230714T230851_049426_05F188_40C8', 'S1A_IW_SLC__1SDV_20230714T230848_20230714T230915_049426_05F188_3D2C'], 'secondary_granules': ['S1A_IW_SLC__1SDV_20230527T230820_20230527T230848_048726_05DC30_2DF1', 'S1A_IW_SLC__1SDV_20230527T230846_20230527T230913_048726_05DC30_F73D'], 'weather_model': 'HRRR'}}),\n",
       " Job.from_dict({'job_id': '6ed36277-36a2-4749-9223-4554c116ff6a', 'job_type': 'INSAR_ISCE_TEST', 'request_time': '2023-08-17T20:30:41+00:00', 'status_code': 'PENDING', 'user_id': 'cmarshak', 'name': 'track4-n3', 'job_parameters': {'compute_solid_earth_tide': True, 'estimate_ionosphere_delay': True, 'frame_id': 492, 'granules': ['S1A_IW_SLC__1SDV_20230620T230551_20230620T230618_049076_05E6CC_981E', 'S1A_IW_SLC__1SDV_20230620T230616_20230620T230644_049076_05E6CC_78ED'], 'secondary_granules': ['S1A_IW_SLC__1SDV_20230608T230550_20230608T230617_048901_05E173_3358', 'S1A_IW_SLC__1SDV_20230608T230615_20230608T230643_048901_05E173_7831'], 'weather_model': 'HRRR'}}),\n",
       " Job.from_dict({'job_id': '21bbce62-eabc-441f-841c-c66b3e7ad7f6', 'job_type': 'INSAR_ISCE_TEST', 'request_time': '2023-08-17T20:30:41+00:00', 'status_code': 'PENDING', 'user_id': 'cmarshak', 'name': 'track4-n3', 'job_parameters': {'compute_solid_earth_tide': True, 'estimate_ionosphere_delay': True, 'frame_id': 493, 'granules': ['S1A_IW_SLC__1SDV_20230620T230616_20230620T230644_049076_05E6CC_78ED', 'S1A_IW_SLC__1SDV_20230620T230641_20230620T230708_049076_05E6CC_3659'], 'secondary_granules': ['S1A_IW_SLC__1SDV_20230608T230615_20230608T230643_048901_05E173_7831', 'S1A_IW_SLC__1SDV_20230608T230641_20230608T230708_048901_05E173_827B'], 'weather_model': 'HRRR'}}),\n",
       " Job.from_dict({'job_id': 'efb16c0d-a605-40e9-9e42-8fcac271e63c', 'job_type': 'INSAR_ISCE_TEST', 'request_time': '2023-08-17T20:30:41+00:00', 'status_code': 'PENDING', 'user_id': 'cmarshak', 'name': 'track4-n3', 'job_parameters': {'compute_solid_earth_tide': True, 'estimate_ionosphere_delay': True, 'frame_id': 494, 'granules': ['S1A_IW_SLC__1SDV_20230620T230641_20230620T230708_049076_05E6CC_3659', 'S1A_IW_SLC__1SDV_20230620T230706_20230620T230733_049076_05E6CC_D149'], 'secondary_granules': ['S1A_IW_SLC__1SDV_20230608T230641_20230608T230708_048901_05E173_827B', 'S1A_IW_SLC__1SDV_20230608T230705_20230608T230732_048901_05E173_82F6'], 'weather_model': 'HRRR'}}),\n",
       " Job.from_dict({'job_id': 'cf1584f4-a895-467a-b4d3-da5ae1c9fe8c', 'job_type': 'INSAR_ISCE_TEST', 'request_time': '2023-08-17T20:30:41+00:00', 'status_code': 'PENDING', 'user_id': 'cmarshak', 'name': 'track4-n3', 'job_parameters': {'compute_solid_earth_tide': True, 'estimate_ionosphere_delay': True, 'frame_id': 495, 'granules': ['S1A_IW_SLC__1SDV_20230620T230706_20230620T230733_049076_05E6CC_D149', 'S1A_IW_SLC__1SDV_20230620T230731_20230620T230758_049076_05E6CC_F82A'], 'secondary_granules': ['S1A_IW_SLC__1SDV_20230608T230705_20230608T230732_048901_05E173_82F6', 'S1A_IW_SLC__1SDV_20230608T230730_20230608T230757_048901_05E173_21C5'], 'weather_model': 'HRRR'}}),\n",
       " Job.from_dict({'job_id': '1021f703-cbfa-4f4b-9738-8767150c6455', 'job_type': 'INSAR_ISCE_TEST', 'request_time': '2023-08-17T20:30:41+00:00', 'status_code': 'PENDING', 'user_id': 'cmarshak', 'name': 'track4-n3', 'job_parameters': {'compute_solid_earth_tide': True, 'estimate_ionosphere_delay': True, 'frame_id': 496, 'granules': ['S1A_IW_SLC__1SDV_20230620T230706_20230620T230733_049076_05E6CC_D149', 'S1A_IW_SLC__1SDV_20230620T230731_20230620T230758_049076_05E6CC_F82A'], 'secondary_granules': ['S1A_IW_SLC__1SDV_20230608T230705_20230608T230732_048901_05E173_82F6', 'S1A_IW_SLC__1SDV_20230608T230730_20230608T230757_048901_05E173_21C5'], 'weather_model': 'HRRR'}}),\n",
       " Job.from_dict({'job_id': '6a158de7-1430-4f9f-a6af-28512b1374b4', 'job_type': 'INSAR_ISCE_TEST', 'request_time': '2023-08-17T20:30:41+00:00', 'status_code': 'PENDING', 'user_id': 'cmarshak', 'name': 'track4-n3', 'job_parameters': {'compute_solid_earth_tide': True, 'estimate_ionosphere_delay': True, 'frame_id': 497, 'granules': ['S1A_IW_SLC__1SDV_20230620T230731_20230620T230758_049076_05E6CC_F82A', 'S1A_IW_SLC__1SDV_20230620T230756_20230620T230823_049076_05E6CC_8269'], 'secondary_granules': ['S1A_IW_SLC__1SDV_20230608T230730_20230608T230757_048901_05E173_21C5', 'S1A_IW_SLC__1SDV_20230608T230755_20230608T230822_048901_05E173_EB56'], 'weather_model': 'HRRR'}}),\n",
       " Job.from_dict({'job_id': '26d54b58-a2cf-47ba-8557-2e40bac6bd35', 'job_type': 'INSAR_ISCE_TEST', 'request_time': '2023-08-17T20:30:41+00:00', 'status_code': 'PENDING', 'user_id': 'cmarshak', 'name': 'track4-n3', 'job_parameters': {'compute_solid_earth_tide': True, 'estimate_ionosphere_delay': True, 'frame_id': 498, 'granules': ['S1A_IW_SLC__1SDV_20230620T230756_20230620T230823_049076_05E6CC_8269', 'S1A_IW_SLC__1SDV_20230620T230821_20230620T230849_049076_05E6CC_4BC4'], 'secondary_granules': ['S1A_IW_SLC__1SDV_20230608T230755_20230608T230822_048901_05E173_EB56', 'S1A_IW_SLC__1SDV_20230608T230820_20230608T230848_048901_05E173_6F2F'], 'weather_model': 'HRRR'}}),\n",
       " Job.from_dict({'job_id': 'b965712b-627d-4531-9a7e-b2baa097fe59', 'job_type': 'INSAR_ISCE_TEST', 'request_time': '2023-08-17T20:30:41+00:00', 'status_code': 'PENDING', 'user_id': 'cmarshak', 'name': 'track4-n3', 'job_parameters': {'compute_solid_earth_tide': True, 'estimate_ionosphere_delay': True, 'frame_id': 499, 'granules': ['S1A_IW_SLC__1SDV_20230620T230821_20230620T230849_049076_05E6CC_4BC4', 'S1A_IW_SLC__1SDV_20230620T230847_20230620T230914_049076_05E6CC_63F7'], 'secondary_granules': ['S1A_IW_SLC__1SDV_20230608T230820_20230608T230848_048901_05E173_6F2F', 'S1A_IW_SLC__1SDV_20230608T230846_20230608T230913_048901_05E173_8A5C'], 'weather_model': 'HRRR'}}),\n",
       " Job.from_dict({'job_id': '810cc00b-43aa-4ed9-816b-ec66ca304ae1', 'job_type': 'INSAR_ISCE_TEST', 'request_time': '2023-08-17T20:30:41+00:00', 'status_code': 'PENDING', 'user_id': 'cmarshak', 'name': 'track4-n3', 'job_parameters': {'compute_solid_earth_tide': True, 'estimate_ionosphere_delay': True, 'frame_id': 492, 'granules': ['S1A_IW_SLC__1SDV_20230620T230551_20230620T230618_049076_05E6CC_981E', 'S1A_IW_SLC__1SDV_20230620T230616_20230620T230644_049076_05E6CC_78ED'], 'secondary_granules': ['S1A_IW_SLC__1SDV_20230527T230550_20230527T230617_048726_05DC30_C628', 'S1A_IW_SLC__1SDV_20230527T230615_20230527T230643_048726_05DC30_9D1B'], 'weather_model': 'HRRR'}}),\n",
       " Job.from_dict({'job_id': 'f034c9cf-07b3-4c15-8080-cce862d1478e', 'job_type': 'INSAR_ISCE_TEST', 'request_time': '2023-08-17T20:30:41+00:00', 'status_code': 'PENDING', 'user_id': 'cmarshak', 'name': 'track4-n3', 'job_parameters': {'compute_solid_earth_tide': True, 'estimate_ionosphere_delay': True, 'frame_id': 493, 'granules': ['S1A_IW_SLC__1SDV_20230620T230616_20230620T230644_049076_05E6CC_78ED', 'S1A_IW_SLC__1SDV_20230620T230641_20230620T230708_049076_05E6CC_3659'], 'secondary_granules': ['S1A_IW_SLC__1SDV_20230527T230615_20230527T230643_048726_05DC30_9D1B', 'S1A_IW_SLC__1SDV_20230527T230640_20230527T230707_048726_05DC30_2B77'], 'weather_model': 'HRRR'}}),\n",
       " Job.from_dict({'job_id': 'd863d516-e634-4d2d-a836-83a56228ba82', 'job_type': 'INSAR_ISCE_TEST', 'request_time': '2023-08-17T20:30:41+00:00', 'status_code': 'PENDING', 'user_id': 'cmarshak', 'name': 'track4-n3', 'job_parameters': {'compute_solid_earth_tide': True, 'estimate_ionosphere_delay': True, 'frame_id': 494, 'granules': ['S1A_IW_SLC__1SDV_20230620T230641_20230620T230708_049076_05E6CC_3659', 'S1A_IW_SLC__1SDV_20230620T230706_20230620T230733_049076_05E6CC_D149'], 'secondary_granules': ['S1A_IW_SLC__1SDV_20230527T230640_20230527T230707_048726_05DC30_2B77', 'S1A_IW_SLC__1SDV_20230527T230705_20230527T230732_048726_05DC30_BC70'], 'weather_model': 'HRRR'}}),\n",
       " Job.from_dict({'job_id': 'ee667f33-9f0e-4962-b8ba-a528cf9b829b', 'job_type': 'INSAR_ISCE_TEST', 'request_time': '2023-08-17T20:30:41+00:00', 'status_code': 'PENDING', 'user_id': 'cmarshak', 'name': 'track4-n3', 'job_parameters': {'compute_solid_earth_tide': True, 'estimate_ionosphere_delay': True, 'frame_id': 495, 'granules': ['S1A_IW_SLC__1SDV_20230620T230706_20230620T230733_049076_05E6CC_D149', 'S1A_IW_SLC__1SDV_20230620T230731_20230620T230758_049076_05E6CC_F82A'], 'secondary_granules': ['S1A_IW_SLC__1SDV_20230527T230705_20230527T230732_048726_05DC30_BC70', 'S1A_IW_SLC__1SDV_20230527T230730_20230527T230757_048726_05DC30_1B94'], 'weather_model': 'HRRR'}}),\n",
       " Job.from_dict({'job_id': '9f713be2-eddc-4513-bf5d-037f84b4feaa', 'job_type': 'INSAR_ISCE_TEST', 'request_time': '2023-08-17T20:30:41+00:00', 'status_code': 'PENDING', 'user_id': 'cmarshak', 'name': 'track4-n3', 'job_parameters': {'compute_solid_earth_tide': True, 'estimate_ionosphere_delay': True, 'frame_id': 496, 'granules': ['S1A_IW_SLC__1SDV_20230620T230706_20230620T230733_049076_05E6CC_D149', 'S1A_IW_SLC__1SDV_20230620T230731_20230620T230758_049076_05E6CC_F82A'], 'secondary_granules': ['S1A_IW_SLC__1SDV_20230527T230705_20230527T230732_048726_05DC30_BC70', 'S1A_IW_SLC__1SDV_20230527T230730_20230527T230757_048726_05DC30_1B94'], 'weather_model': 'HRRR'}}),\n",
       " Job.from_dict({'job_id': '5a95842a-005a-4b5d-bd4f-8a84d06af2ab', 'job_type': 'INSAR_ISCE_TEST', 'request_time': '2023-08-17T20:30:41+00:00', 'status_code': 'PENDING', 'user_id': 'cmarshak', 'name': 'track4-n3', 'job_parameters': {'compute_solid_earth_tide': True, 'estimate_ionosphere_delay': True, 'frame_id': 497, 'granules': ['S1A_IW_SLC__1SDV_20230620T230731_20230620T230758_049076_05E6CC_F82A', 'S1A_IW_SLC__1SDV_20230620T230756_20230620T230823_049076_05E6CC_8269'], 'secondary_granules': ['S1A_IW_SLC__1SDV_20230527T230730_20230527T230757_048726_05DC30_1B94', 'S1A_IW_SLC__1SDV_20230527T230755_20230527T230822_048726_05DC30_B26C'], 'weather_model': 'HRRR'}}),\n",
       " Job.from_dict({'job_id': '4eb7dc2b-b782-461a-8c1d-0474b74c9391', 'job_type': 'INSAR_ISCE_TEST', 'request_time': '2023-08-17T20:30:41+00:00', 'status_code': 'PENDING', 'user_id': 'cmarshak', 'name': 'track4-n3', 'job_parameters': {'compute_solid_earth_tide': True, 'estimate_ionosphere_delay': True, 'frame_id': 498, 'granules': ['S1A_IW_SLC__1SDV_20230620T230756_20230620T230823_049076_05E6CC_8269', 'S1A_IW_SLC__1SDV_20230620T230821_20230620T230849_049076_05E6CC_4BC4'], 'secondary_granules': ['S1A_IW_SLC__1SDV_20230527T230755_20230527T230822_048726_05DC30_B26C', 'S1A_IW_SLC__1SDV_20230527T230820_20230527T230848_048726_05DC30_2DF1'], 'weather_model': 'HRRR'}}),\n",
       " Job.from_dict({'job_id': '319a997a-2692-4172-9ddd-bf2d996681ae', 'job_type': 'INSAR_ISCE_TEST', 'request_time': '2023-08-17T20:30:41+00:00', 'status_code': 'PENDING', 'user_id': 'cmarshak', 'name': 'track4-n3', 'job_parameters': {'compute_solid_earth_tide': True, 'estimate_ionosphere_delay': True, 'frame_id': 499, 'granules': ['S1A_IW_SLC__1SDV_20230620T230821_20230620T230849_049076_05E6CC_4BC4', 'S1A_IW_SLC__1SDV_20230620T230847_20230620T230914_049076_05E6CC_63F7'], 'secondary_granules': ['S1A_IW_SLC__1SDV_20230527T230820_20230527T230848_048726_05DC30_2DF1', 'S1A_IW_SLC__1SDV_20230527T230846_20230527T230913_048726_05DC30_F73D'], 'weather_model': 'HRRR'}}),\n",
       " Job.from_dict({'job_id': 'ee191613-704a-4117-b7d0-aed26e2b4e3e', 'job_type': 'INSAR_ISCE_TEST', 'request_time': '2023-08-17T20:30:41+00:00', 'status_code': 'PENDING', 'user_id': 'cmarshak', 'name': 'track4-n3', 'job_parameters': {'compute_solid_earth_tide': True, 'estimate_ionosphere_delay': True, 'frame_id': 492, 'granules': ['S1A_IW_SLC__1SDV_20230620T230551_20230620T230618_049076_05E6CC_981E', 'S1A_IW_SLC__1SDV_20230620T230616_20230620T230644_049076_05E6CC_78ED'], 'secondary_granules': ['S1A_IW_SLC__1SDV_20230515T230549_20230515T230616_048551_05D700_C39F', 'S1A_IW_SLC__1SDV_20230515T230614_20230515T230642_048551_05D700_7D9C'], 'weather_model': 'HRRR'}}),\n",
       " Job.from_dict({'job_id': 'c81bfdc0-fa0a-4b1b-8012-1369a362c568', 'job_type': 'INSAR_ISCE_TEST', 'request_time': '2023-08-17T20:30:41+00:00', 'status_code': 'PENDING', 'user_id': 'cmarshak', 'name': 'track4-n3', 'job_parameters': {'compute_solid_earth_tide': True, 'estimate_ionosphere_delay': True, 'frame_id': 493, 'granules': ['S1A_IW_SLC__1SDV_20230620T230616_20230620T230644_049076_05E6CC_78ED', 'S1A_IW_SLC__1SDV_20230620T230641_20230620T230708_049076_05E6CC_3659'], 'secondary_granules': ['S1A_IW_SLC__1SDV_20230515T230614_20230515T230642_048551_05D700_7D9C', 'S1A_IW_SLC__1SDV_20230515T230640_20230515T230707_048551_05D700_7950'], 'weather_model': 'HRRR'}}),\n",
       " Job.from_dict({'job_id': '56449054-494e-4306-8f83-f44643a72f8c', 'job_type': 'INSAR_ISCE_TEST', 'request_time': '2023-08-17T20:30:41+00:00', 'status_code': 'PENDING', 'user_id': 'cmarshak', 'name': 'track4-n3', 'job_parameters': {'compute_solid_earth_tide': True, 'estimate_ionosphere_delay': True, 'frame_id': 494, 'granules': ['S1A_IW_SLC__1SDV_20230620T230641_20230620T230708_049076_05E6CC_3659', 'S1A_IW_SLC__1SDV_20230620T230706_20230620T230733_049076_05E6CC_D149'], 'secondary_granules': ['S1A_IW_SLC__1SDV_20230515T230640_20230515T230707_048551_05D700_7950', 'S1A_IW_SLC__1SDV_20230515T230705_20230515T230732_048551_05D700_1EB8'], 'weather_model': 'HRRR'}}),\n",
       " Job.from_dict({'job_id': '889e4134-919e-4dfc-bf8b-f27157169160', 'job_type': 'INSAR_ISCE_TEST', 'request_time': '2023-08-17T20:30:41+00:00', 'status_code': 'PENDING', 'user_id': 'cmarshak', 'name': 'track4-n3', 'job_parameters': {'compute_solid_earth_tide': True, 'estimate_ionosphere_delay': True, 'frame_id': 495, 'granules': ['S1A_IW_SLC__1SDV_20230620T230706_20230620T230733_049076_05E6CC_D149', 'S1A_IW_SLC__1SDV_20230620T230731_20230620T230758_049076_05E6CC_F82A'], 'secondary_granules': ['S1A_IW_SLC__1SDV_20230515T230705_20230515T230732_048551_05D700_1EB8', 'S1A_IW_SLC__1SDV_20230515T230730_20230515T230757_048551_05D700_A87F'], 'weather_model': 'HRRR'}}),\n",
       " Job.from_dict({'job_id': '0c7cb7bd-8c5b-4f36-9923-4568c655d949', 'job_type': 'INSAR_ISCE_TEST', 'request_time': '2023-08-17T20:30:41+00:00', 'status_code': 'PENDING', 'user_id': 'cmarshak', 'name': 'track4-n3', 'job_parameters': {'compute_solid_earth_tide': True, 'estimate_ionosphere_delay': True, 'frame_id': 496, 'granules': ['S1A_IW_SLC__1SDV_20230620T230706_20230620T230733_049076_05E6CC_D149', 'S1A_IW_SLC__1SDV_20230620T230731_20230620T230758_049076_05E6CC_F82A'], 'secondary_granules': ['S1A_IW_SLC__1SDV_20230515T230705_20230515T230732_048551_05D700_1EB8', 'S1A_IW_SLC__1SDV_20230515T230730_20230515T230757_048551_05D700_A87F'], 'weather_model': 'HRRR'}}),\n",
       " Job.from_dict({'job_id': 'ffe34fca-16e6-49b1-a260-2974b62b9236', 'job_type': 'INSAR_ISCE_TEST', 'request_time': '2023-08-17T20:30:41+00:00', 'status_code': 'PENDING', 'user_id': 'cmarshak', 'name': 'track4-n3', 'job_parameters': {'compute_solid_earth_tide': True, 'estimate_ionosphere_delay': True, 'frame_id': 497, 'granules': ['S1A_IW_SLC__1SDV_20230620T230731_20230620T230758_049076_05E6CC_F82A', 'S1A_IW_SLC__1SDV_20230620T230756_20230620T230823_049076_05E6CC_8269'], 'secondary_granules': ['S1A_IW_SLC__1SDV_20230515T230730_20230515T230757_048551_05D700_A87F', 'S1A_IW_SLC__1SDV_20230515T230754_20230515T230821_048551_05D700_2325'], 'weather_model': 'HRRR'}}),\n",
       " Job.from_dict({'job_id': '648465b4-bd05-46aa-bd63-9425920b41b9', 'job_type': 'INSAR_ISCE_TEST', 'request_time': '2023-08-17T20:30:41+00:00', 'status_code': 'PENDING', 'user_id': 'cmarshak', 'name': 'track4-n3', 'job_parameters': {'compute_solid_earth_tide': True, 'estimate_ionosphere_delay': True, 'frame_id': 498, 'granules': ['S1A_IW_SLC__1SDV_20230620T230756_20230620T230823_049076_05E6CC_8269', 'S1A_IW_SLC__1SDV_20230620T230821_20230620T230849_049076_05E6CC_4BC4'], 'secondary_granules': ['S1A_IW_SLC__1SDV_20230515T230754_20230515T230821_048551_05D700_2325', 'S1A_IW_SLC__1SDV_20230515T230819_20230515T230847_048551_05D700_A925'], 'weather_model': 'HRRR'}}),\n",
       " Job.from_dict({'job_id': '2314b521-e1a4-4fd9-9fd7-3d7f3dc28b2b', 'job_type': 'INSAR_ISCE_TEST', 'request_time': '2023-08-17T20:30:41+00:00', 'status_code': 'PENDING', 'user_id': 'cmarshak', 'name': 'track4-n3', 'job_parameters': {'compute_solid_earth_tide': True, 'estimate_ionosphere_delay': True, 'frame_id': 499, 'granules': ['S1A_IW_SLC__1SDV_20230620T230821_20230620T230849_049076_05E6CC_4BC4', 'S1A_IW_SLC__1SDV_20230620T230847_20230620T230914_049076_05E6CC_63F7'], 'secondary_granules': ['S1A_IW_SLC__1SDV_20230515T230819_20230515T230847_048551_05D700_A925', 'S1A_IW_SLC__1SDV_20230515T230845_20230515T230912_048551_05D700_751C'], 'weather_model': 'HRRR'}}),\n",
       " Job.from_dict({'job_id': '10f2bd5c-dfd1-41ef-8a03-c3e370bc2b66', 'job_type': 'INSAR_ISCE_TEST', 'request_time': '2023-08-17T20:30:41+00:00', 'status_code': 'PENDING', 'user_id': 'cmarshak', 'name': 'track4-n3', 'job_parameters': {'compute_solid_earth_tide': True, 'estimate_ionosphere_delay': True, 'frame_id': 492, 'granules': ['S1A_IW_SLC__1SDV_20230608T230550_20230608T230617_048901_05E173_3358', 'S1A_IW_SLC__1SDV_20230608T230615_20230608T230643_048901_05E173_7831'], 'secondary_granules': ['S1A_IW_SLC__1SDV_20230527T230550_20230527T230617_048726_05DC30_C628', 'S1A_IW_SLC__1SDV_20230527T230615_20230527T230643_048726_05DC30_9D1B'], 'weather_model': 'HRRR'}}),\n",
       " Job.from_dict({'job_id': 'c1a3faa0-81e5-4e4f-b233-ea9840edc7af', 'job_type': 'INSAR_ISCE_TEST', 'request_time': '2023-08-17T20:30:41+00:00', 'status_code': 'PENDING', 'user_id': 'cmarshak', 'name': 'track4-n3', 'job_parameters': {'compute_solid_earth_tide': True, 'estimate_ionosphere_delay': True, 'frame_id': 493, 'granules': ['S1A_IW_SLC__1SDV_20230608T230615_20230608T230643_048901_05E173_7831', 'S1A_IW_SLC__1SDV_20230608T230641_20230608T230708_048901_05E173_827B'], 'secondary_granules': ['S1A_IW_SLC__1SDV_20230527T230615_20230527T230643_048726_05DC30_9D1B', 'S1A_IW_SLC__1SDV_20230527T230640_20230527T230707_048726_05DC30_2B77'], 'weather_model': 'HRRR'}}),\n",
       " Job.from_dict({'job_id': '0794840f-c92f-4a27-b30e-2ad2bdb68eaa', 'job_type': 'INSAR_ISCE_TEST', 'request_time': '2023-08-17T20:30:41+00:00', 'status_code': 'PENDING', 'user_id': 'cmarshak', 'name': 'track4-n3', 'job_parameters': {'compute_solid_earth_tide': True, 'estimate_ionosphere_delay': True, 'frame_id': 494, 'granules': ['S1A_IW_SLC__1SDV_20230608T230641_20230608T230708_048901_05E173_827B', 'S1A_IW_SLC__1SDV_20230608T230705_20230608T230732_048901_05E173_82F6'], 'secondary_granules': ['S1A_IW_SLC__1SDV_20230527T230640_20230527T230707_048726_05DC30_2B77', 'S1A_IW_SLC__1SDV_20230527T230705_20230527T230732_048726_05DC30_BC70'], 'weather_model': 'HRRR'}}),\n",
       " Job.from_dict({'job_id': 'bc51bab6-e2b1-4cf2-a78e-baa5464da23f', 'job_type': 'INSAR_ISCE_TEST', 'request_time': '2023-08-17T20:30:41+00:00', 'status_code': 'PENDING', 'user_id': 'cmarshak', 'name': 'track4-n3', 'job_parameters': {'compute_solid_earth_tide': True, 'estimate_ionosphere_delay': True, 'frame_id': 495, 'granules': ['S1A_IW_SLC__1SDV_20230608T230705_20230608T230732_048901_05E173_82F6', 'S1A_IW_SLC__1SDV_20230608T230730_20230608T230757_048901_05E173_21C5'], 'secondary_granules': ['S1A_IW_SLC__1SDV_20230527T230705_20230527T230732_048726_05DC30_BC70', 'S1A_IW_SLC__1SDV_20230527T230730_20230527T230757_048726_05DC30_1B94'], 'weather_model': 'HRRR'}}),\n",
       " Job.from_dict({'job_id': '5b87d045-16d8-41c3-8390-b4dce0a7e27d', 'job_type': 'INSAR_ISCE_TEST', 'request_time': '2023-08-17T20:30:41+00:00', 'status_code': 'PENDING', 'user_id': 'cmarshak', 'name': 'track4-n3', 'job_parameters': {'compute_solid_earth_tide': True, 'estimate_ionosphere_delay': True, 'frame_id': 496, 'granules': ['S1A_IW_SLC__1SDV_20230608T230705_20230608T230732_048901_05E173_82F6', 'S1A_IW_SLC__1SDV_20230608T230730_20230608T230757_048901_05E173_21C5'], 'secondary_granules': ['S1A_IW_SLC__1SDV_20230527T230705_20230527T230732_048726_05DC30_BC70', 'S1A_IW_SLC__1SDV_20230527T230730_20230527T230757_048726_05DC30_1B94'], 'weather_model': 'HRRR'}}),\n",
       " Job.from_dict({'job_id': 'a3279e07-c224-49fa-9c35-804ab78e4871', 'job_type': 'INSAR_ISCE_TEST', 'request_time': '2023-08-17T20:30:41+00:00', 'status_code': 'PENDING', 'user_id': 'cmarshak', 'name': 'track4-n3', 'job_parameters': {'compute_solid_earth_tide': True, 'estimate_ionosphere_delay': True, 'frame_id': 497, 'granules': ['S1A_IW_SLC__1SDV_20230608T230730_20230608T230757_048901_05E173_21C5', 'S1A_IW_SLC__1SDV_20230608T230755_20230608T230822_048901_05E173_EB56'], 'secondary_granules': ['S1A_IW_SLC__1SDV_20230527T230730_20230527T230757_048726_05DC30_1B94', 'S1A_IW_SLC__1SDV_20230527T230755_20230527T230822_048726_05DC30_B26C'], 'weather_model': 'HRRR'}}),\n",
       " Job.from_dict({'job_id': '58d13513-627f-43d5-93ee-3d6652c91825', 'job_type': 'INSAR_ISCE_TEST', 'request_time': '2023-08-17T20:30:41+00:00', 'status_code': 'PENDING', 'user_id': 'cmarshak', 'name': 'track4-n3', 'job_parameters': {'compute_solid_earth_tide': True, 'estimate_ionosphere_delay': True, 'frame_id': 498, 'granules': ['S1A_IW_SLC__1SDV_20230608T230755_20230608T230822_048901_05E173_EB56', 'S1A_IW_SLC__1SDV_20230608T230820_20230608T230848_048901_05E173_6F2F'], 'secondary_granules': ['S1A_IW_SLC__1SDV_20230527T230755_20230527T230822_048726_05DC30_B26C', 'S1A_IW_SLC__1SDV_20230527T230820_20230527T230848_048726_05DC30_2DF1'], 'weather_model': 'HRRR'}}),\n",
       " Job.from_dict({'job_id': 'ec53daf0-b42b-4760-975f-92c81f4ac43b', 'job_type': 'INSAR_ISCE_TEST', 'request_time': '2023-08-17T20:30:41+00:00', 'status_code': 'PENDING', 'user_id': 'cmarshak', 'name': 'track4-n3', 'job_parameters': {'compute_solid_earth_tide': True, 'estimate_ionosphere_delay': True, 'frame_id': 499, 'granules': ['S1A_IW_SLC__1SDV_20230608T230820_20230608T230848_048901_05E173_6F2F', 'S1A_IW_SLC__1SDV_20230608T230846_20230608T230913_048901_05E173_8A5C'], 'secondary_granules': ['S1A_IW_SLC__1SDV_20230527T230820_20230527T230848_048726_05DC30_2DF1', 'S1A_IW_SLC__1SDV_20230527T230846_20230527T230913_048726_05DC30_F73D'], 'weather_model': 'HRRR'}}),\n",
       " Job.from_dict({'job_id': '1fe23cb3-8adc-46c5-9f94-8fed2cda91ed', 'job_type': 'INSAR_ISCE_TEST', 'request_time': '2023-08-17T20:30:41+00:00', 'status_code': 'PENDING', 'user_id': 'cmarshak', 'name': 'track4-n3', 'job_parameters': {'compute_solid_earth_tide': True, 'estimate_ionosphere_delay': True, 'frame_id': 492, 'granules': ['S1A_IW_SLC__1SDV_20230608T230550_20230608T230617_048901_05E173_3358', 'S1A_IW_SLC__1SDV_20230608T230615_20230608T230643_048901_05E173_7831'], 'secondary_granules': ['S1A_IW_SLC__1SDV_20230515T230549_20230515T230616_048551_05D700_C39F', 'S1A_IW_SLC__1SDV_20230515T230614_20230515T230642_048551_05D700_7D9C'], 'weather_model': 'HRRR'}}),\n",
       " Job.from_dict({'job_id': '7465b5a0-2531-49a2-92db-6ae70758ede3', 'job_type': 'INSAR_ISCE_TEST', 'request_time': '2023-08-17T20:30:41+00:00', 'status_code': 'PENDING', 'user_id': 'cmarshak', 'name': 'track4-n3', 'job_parameters': {'compute_solid_earth_tide': True, 'estimate_ionosphere_delay': True, 'frame_id': 493, 'granules': ['S1A_IW_SLC__1SDV_20230608T230615_20230608T230643_048901_05E173_7831', 'S1A_IW_SLC__1SDV_20230608T230641_20230608T230708_048901_05E173_827B'], 'secondary_granules': ['S1A_IW_SLC__1SDV_20230515T230614_20230515T230642_048551_05D700_7D9C', 'S1A_IW_SLC__1SDV_20230515T230640_20230515T230707_048551_05D700_7950'], 'weather_model': 'HRRR'}}),\n",
       " Job.from_dict({'job_id': 'dd06f4ce-b6b8-48eb-ab4c-94217079c5f0', 'job_type': 'INSAR_ISCE_TEST', 'request_time': '2023-08-17T20:30:41+00:00', 'status_code': 'PENDING', 'user_id': 'cmarshak', 'name': 'track4-n3', 'job_parameters': {'compute_solid_earth_tide': True, 'estimate_ionosphere_delay': True, 'frame_id': 494, 'granules': ['S1A_IW_SLC__1SDV_20230608T230641_20230608T230708_048901_05E173_827B', 'S1A_IW_SLC__1SDV_20230608T230705_20230608T230732_048901_05E173_82F6'], 'secondary_granules': ['S1A_IW_SLC__1SDV_20230515T230640_20230515T230707_048551_05D700_7950', 'S1A_IW_SLC__1SDV_20230515T230705_20230515T230732_048551_05D700_1EB8'], 'weather_model': 'HRRR'}}),\n",
       " Job.from_dict({'job_id': '9fa6a620-e2e2-432e-8368-394ab5dbbaa6', 'job_type': 'INSAR_ISCE_TEST', 'request_time': '2023-08-17T20:30:41+00:00', 'status_code': 'PENDING', 'user_id': 'cmarshak', 'name': 'track4-n3', 'job_parameters': {'compute_solid_earth_tide': True, 'estimate_ionosphere_delay': True, 'frame_id': 495, 'granules': ['S1A_IW_SLC__1SDV_20230608T230705_20230608T230732_048901_05E173_82F6', 'S1A_IW_SLC__1SDV_20230608T230730_20230608T230757_048901_05E173_21C5'], 'secondary_granules': ['S1A_IW_SLC__1SDV_20230515T230705_20230515T230732_048551_05D700_1EB8', 'S1A_IW_SLC__1SDV_20230515T230730_20230515T230757_048551_05D700_A87F'], 'weather_model': 'HRRR'}}),\n",
       " Job.from_dict({'job_id': '47a2e642-450c-4e3f-81f2-c5c89edaf899', 'job_type': 'INSAR_ISCE_TEST', 'request_time': '2023-08-17T20:30:41+00:00', 'status_code': 'PENDING', 'user_id': 'cmarshak', 'name': 'track4-n3', 'job_parameters': {'compute_solid_earth_tide': True, 'estimate_ionosphere_delay': True, 'frame_id': 496, 'granules': ['S1A_IW_SLC__1SDV_20230608T230705_20230608T230732_048901_05E173_82F6', 'S1A_IW_SLC__1SDV_20230608T230730_20230608T230757_048901_05E173_21C5'], 'secondary_granules': ['S1A_IW_SLC__1SDV_20230515T230705_20230515T230732_048551_05D700_1EB8', 'S1A_IW_SLC__1SDV_20230515T230730_20230515T230757_048551_05D700_A87F'], 'weather_model': 'HRRR'}}),\n",
       " Job.from_dict({'job_id': '0e7817fc-ede9-4edf-84b0-c0ffd855dc77', 'job_type': 'INSAR_ISCE_TEST', 'request_time': '2023-08-17T20:30:41+00:00', 'status_code': 'PENDING', 'user_id': 'cmarshak', 'name': 'track4-n3', 'job_parameters': {'compute_solid_earth_tide': True, 'estimate_ionosphere_delay': True, 'frame_id': 497, 'granules': ['S1A_IW_SLC__1SDV_20230608T230730_20230608T230757_048901_05E173_21C5', 'S1A_IW_SLC__1SDV_20230608T230755_20230608T230822_048901_05E173_EB56'], 'secondary_granules': ['S1A_IW_SLC__1SDV_20230515T230730_20230515T230757_048551_05D700_A87F', 'S1A_IW_SLC__1SDV_20230515T230754_20230515T230821_048551_05D700_2325'], 'weather_model': 'HRRR'}}),\n",
       " Job.from_dict({'job_id': '2788a32c-7a37-43f4-9237-4738432a4bf6', 'job_type': 'INSAR_ISCE_TEST', 'request_time': '2023-08-17T20:30:41+00:00', 'status_code': 'PENDING', 'user_id': 'cmarshak', 'name': 'track4-n3', 'job_parameters': {'compute_solid_earth_tide': True, 'estimate_ionosphere_delay': True, 'frame_id': 498, 'granules': ['S1A_IW_SLC__1SDV_20230608T230755_20230608T230822_048901_05E173_EB56', 'S1A_IW_SLC__1SDV_20230608T230820_20230608T230848_048901_05E173_6F2F'], 'secondary_granules': ['S1A_IW_SLC__1SDV_20230515T230754_20230515T230821_048551_05D700_2325', 'S1A_IW_SLC__1SDV_20230515T230819_20230515T230847_048551_05D700_A925'], 'weather_model': 'HRRR'}}),\n",
       " Job.from_dict({'job_id': 'bfc3907d-0aab-4b45-867a-9d56b7eb6b3b', 'job_type': 'INSAR_ISCE_TEST', 'request_time': '2023-08-17T20:30:41+00:00', 'status_code': 'PENDING', 'user_id': 'cmarshak', 'name': 'track4-n3', 'job_parameters': {'compute_solid_earth_tide': True, 'estimate_ionosphere_delay': True, 'frame_id': 499, 'granules': ['S1A_IW_SLC__1SDV_20230608T230820_20230608T230848_048901_05E173_6F2F', 'S1A_IW_SLC__1SDV_20230608T230846_20230608T230913_048901_05E173_8A5C'], 'secondary_granules': ['S1A_IW_SLC__1SDV_20230515T230819_20230515T230847_048551_05D700_A925', 'S1A_IW_SLC__1SDV_20230515T230845_20230515T230912_048551_05D700_751C'], 'weather_model': 'HRRR'}}),\n",
       " Job.from_dict({'job_id': '1aa6bd62-c68d-4e83-945f-6fa9c7569675', 'job_type': 'INSAR_ISCE_TEST', 'request_time': '2023-08-17T20:30:41+00:00', 'status_code': 'PENDING', 'user_id': 'cmarshak', 'name': 'track4-n3', 'job_parameters': {'compute_solid_earth_tide': True, 'estimate_ionosphere_delay': True, 'frame_id': 492, 'granules': ['S1A_IW_SLC__1SDV_20230608T230550_20230608T230617_048901_05E173_3358', 'S1A_IW_SLC__1SDV_20230608T230615_20230608T230643_048901_05E173_7831'], 'secondary_granules': ['S1A_IW_SLC__1SDV_20230503T230548_20230503T230615_048376_05D190_CC71', 'S1A_IW_SLC__1SDV_20230503T230613_20230503T230641_048376_05D190_808B'], 'weather_model': 'HRRR'}}),\n",
       " Job.from_dict({'job_id': 'fa5b63b0-39dc-4313-b33b-d558690d013e', 'job_type': 'INSAR_ISCE_TEST', 'request_time': '2023-08-17T20:30:41+00:00', 'status_code': 'PENDING', 'user_id': 'cmarshak', 'name': 'track4-n3', 'job_parameters': {'compute_solid_earth_tide': True, 'estimate_ionosphere_delay': True, 'frame_id': 493, 'granules': ['S1A_IW_SLC__1SDV_20230608T230615_20230608T230643_048901_05E173_7831', 'S1A_IW_SLC__1SDV_20230608T230641_20230608T230708_048901_05E173_827B'], 'secondary_granules': ['S1A_IW_SLC__1SDV_20230503T230613_20230503T230641_048376_05D190_808B', 'S1A_IW_SLC__1SDV_20230503T230639_20230503T230706_048376_05D190_CF64'], 'weather_model': 'HRRR'}}),\n",
       " Job.from_dict({'job_id': 'b5b8b5d7-c815-4c09-94e7-278c67d17014', 'job_type': 'INSAR_ISCE_TEST', 'request_time': '2023-08-17T20:30:41+00:00', 'status_code': 'PENDING', 'user_id': 'cmarshak', 'name': 'track4-n3', 'job_parameters': {'compute_solid_earth_tide': True, 'estimate_ionosphere_delay': True, 'frame_id': 494, 'granules': ['S1A_IW_SLC__1SDV_20230608T230641_20230608T230708_048901_05E173_827B', 'S1A_IW_SLC__1SDV_20230608T230705_20230608T230732_048901_05E173_82F6'], 'secondary_granules': ['S1A_IW_SLC__1SDV_20230503T230639_20230503T230706_048376_05D190_CF64', 'S1A_IW_SLC__1SDV_20230503T230704_20230503T230731_048376_05D190_963C'], 'weather_model': 'HRRR'}}),\n",
       " Job.from_dict({'job_id': 'ba64b1f6-0710-492e-832e-002f51910fca', 'job_type': 'INSAR_ISCE_TEST', 'request_time': '2023-08-17T20:30:41+00:00', 'status_code': 'PENDING', 'user_id': 'cmarshak', 'name': 'track4-n3', 'job_parameters': {'compute_solid_earth_tide': True, 'estimate_ionosphere_delay': True, 'frame_id': 495, 'granules': ['S1A_IW_SLC__1SDV_20230608T230705_20230608T230732_048901_05E173_82F6', 'S1A_IW_SLC__1SDV_20230608T230730_20230608T230757_048901_05E173_21C5'], 'secondary_granules': ['S1A_IW_SLC__1SDV_20230503T230704_20230503T230731_048376_05D190_963C', 'S1A_IW_SLC__1SDV_20230503T230729_20230503T230756_048376_05D190_3091'], 'weather_model': 'HRRR'}}),\n",
       " Job.from_dict({'job_id': 'e910d8f0-775f-4373-a64b-6766e59a0c75', 'job_type': 'INSAR_ISCE_TEST', 'request_time': '2023-08-17T20:30:41+00:00', 'status_code': 'PENDING', 'user_id': 'cmarshak', 'name': 'track4-n3', 'job_parameters': {'compute_solid_earth_tide': True, 'estimate_ionosphere_delay': True, 'frame_id': 496, 'granules': ['S1A_IW_SLC__1SDV_20230608T230705_20230608T230732_048901_05E173_82F6', 'S1A_IW_SLC__1SDV_20230608T230730_20230608T230757_048901_05E173_21C5'], 'secondary_granules': ['S1A_IW_SLC__1SDV_20230503T230704_20230503T230731_048376_05D190_963C', 'S1A_IW_SLC__1SDV_20230503T230729_20230503T230756_048376_05D190_3091'], 'weather_model': 'HRRR'}}),\n",
       " Job.from_dict({'job_id': '05de5921-fcc1-48db-bb5c-b0f26b3590e9', 'job_type': 'INSAR_ISCE_TEST', 'request_time': '2023-08-17T20:30:41+00:00', 'status_code': 'PENDING', 'user_id': 'cmarshak', 'name': 'track4-n3', 'job_parameters': {'compute_solid_earth_tide': True, 'estimate_ionosphere_delay': True, 'frame_id': 497, 'granules': ['S1A_IW_SLC__1SDV_20230608T230730_20230608T230757_048901_05E173_21C5', 'S1A_IW_SLC__1SDV_20230608T230755_20230608T230822_048901_05E173_EB56'], 'secondary_granules': ['S1A_IW_SLC__1SDV_20230503T230729_20230503T230756_048376_05D190_3091', 'S1A_IW_SLC__1SDV_20230503T230753_20230503T230820_048376_05D190_07F6'], 'weather_model': 'HRRR'}}),\n",
       " Job.from_dict({'job_id': 'a08ef204-aca0-4e72-b04e-6298cf06df04', 'job_type': 'INSAR_ISCE_TEST', 'request_time': '2023-08-17T20:30:41+00:00', 'status_code': 'PENDING', 'user_id': 'cmarshak', 'name': 'track4-n3', 'job_parameters': {'compute_solid_earth_tide': True, 'estimate_ionosphere_delay': True, 'frame_id': 498, 'granules': ['S1A_IW_SLC__1SDV_20230608T230755_20230608T230822_048901_05E173_EB56', 'S1A_IW_SLC__1SDV_20230608T230820_20230608T230848_048901_05E173_6F2F'], 'secondary_granules': ['S1A_IW_SLC__1SDV_20230503T230753_20230503T230820_048376_05D190_07F6', 'S1A_IW_SLC__1SDV_20230503T230818_20230503T230846_048376_05D190_9518'], 'weather_model': 'HRRR'}}),\n",
       " Job.from_dict({'job_id': 'fda8ede4-6f97-43b7-b0ba-1c172203181d', 'job_type': 'INSAR_ISCE_TEST', 'request_time': '2023-08-17T20:30:41+00:00', 'status_code': 'PENDING', 'user_id': 'cmarshak', 'name': 'track4-n3', 'job_parameters': {'compute_solid_earth_tide': True, 'estimate_ionosphere_delay': True, 'frame_id': 499, 'granules': ['S1A_IW_SLC__1SDV_20230608T230820_20230608T230848_048901_05E173_6F2F', 'S1A_IW_SLC__1SDV_20230608T230846_20230608T230913_048901_05E173_8A5C'], 'secondary_granules': ['S1A_IW_SLC__1SDV_20230503T230818_20230503T230846_048376_05D190_9518', 'S1A_IW_SLC__1SDV_20230503T230844_20230503T230911_048376_05D190_544A'], 'weather_model': 'HRRR'}}),\n",
       " Job.from_dict({'job_id': '3742ceb9-3a8c-4d61-b2a1-e935811a9427', 'job_type': 'INSAR_ISCE_TEST', 'request_time': '2023-08-17T20:30:41+00:00', 'status_code': 'PENDING', 'user_id': 'cmarshak', 'name': 'track4-n3', 'job_parameters': {'compute_solid_earth_tide': True, 'estimate_ionosphere_delay': True, 'frame_id': 492, 'granules': ['S1A_IW_SLC__1SDV_20230527T230550_20230527T230617_048726_05DC30_C628', 'S1A_IW_SLC__1SDV_20230527T230615_20230527T230643_048726_05DC30_9D1B'], 'secondary_granules': ['S1A_IW_SLC__1SDV_20230515T230549_20230515T230616_048551_05D700_C39F', 'S1A_IW_SLC__1SDV_20230515T230614_20230515T230642_048551_05D700_7D9C'], 'weather_model': 'HRRR'}}),\n",
       " Job.from_dict({'job_id': 'ff58ac7e-16cb-44a3-886e-8505a84b3ea5', 'job_type': 'INSAR_ISCE_TEST', 'request_time': '2023-08-17T20:30:41+00:00', 'status_code': 'PENDING', 'user_id': 'cmarshak', 'name': 'track4-n3', 'job_parameters': {'compute_solid_earth_tide': True, 'estimate_ionosphere_delay': True, 'frame_id': 493, 'granules': ['S1A_IW_SLC__1SDV_20230527T230615_20230527T230643_048726_05DC30_9D1B', 'S1A_IW_SLC__1SDV_20230527T230640_20230527T230707_048726_05DC30_2B77'], 'secondary_granules': ['S1A_IW_SLC__1SDV_20230515T230614_20230515T230642_048551_05D700_7D9C', 'S1A_IW_SLC__1SDV_20230515T230640_20230515T230707_048551_05D700_7950'], 'weather_model': 'HRRR'}}),\n",
       " Job.from_dict({'job_id': '9b9d8b50-4266-4285-9ffa-d344cb4d27b7', 'job_type': 'INSAR_ISCE_TEST', 'request_time': '2023-08-17T20:30:41+00:00', 'status_code': 'PENDING', 'user_id': 'cmarshak', 'name': 'track4-n3', 'job_parameters': {'compute_solid_earth_tide': True, 'estimate_ionosphere_delay': True, 'frame_id': 494, 'granules': ['S1A_IW_SLC__1SDV_20230527T230640_20230527T230707_048726_05DC30_2B77', 'S1A_IW_SLC__1SDV_20230527T230705_20230527T230732_048726_05DC30_BC70'], 'secondary_granules': ['S1A_IW_SLC__1SDV_20230515T230640_20230515T230707_048551_05D700_7950', 'S1A_IW_SLC__1SDV_20230515T230705_20230515T230732_048551_05D700_1EB8'], 'weather_model': 'HRRR'}}),\n",
       " Job.from_dict({'job_id': '4b50fe9f-530f-4394-a38c-2656a8296f01', 'job_type': 'INSAR_ISCE_TEST', 'request_time': '2023-08-17T20:30:41+00:00', 'status_code': 'PENDING', 'user_id': 'cmarshak', 'name': 'track4-n3', 'job_parameters': {'compute_solid_earth_tide': True, 'estimate_ionosphere_delay': True, 'frame_id': 495, 'granules': ['S1A_IW_SLC__1SDV_20230527T230705_20230527T230732_048726_05DC30_BC70', 'S1A_IW_SLC__1SDV_20230527T230730_20230527T230757_048726_05DC30_1B94'], 'secondary_granules': ['S1A_IW_SLC__1SDV_20230515T230705_20230515T230732_048551_05D700_1EB8', 'S1A_IW_SLC__1SDV_20230515T230730_20230515T230757_048551_05D700_A87F'], 'weather_model': 'HRRR'}}),\n",
       " Job.from_dict({'job_id': 'fb70dc0f-3a7e-4053-bbe3-98b2c5b3c6bc', 'job_type': 'INSAR_ISCE_TEST', 'request_time': '2023-08-17T20:30:41+00:00', 'status_code': 'PENDING', 'user_id': 'cmarshak', 'name': 'track4-n3', 'job_parameters': {'compute_solid_earth_tide': True, 'estimate_ionosphere_delay': True, 'frame_id': 496, 'granules': ['S1A_IW_SLC__1SDV_20230527T230705_20230527T230732_048726_05DC30_BC70', 'S1A_IW_SLC__1SDV_20230527T230730_20230527T230757_048726_05DC30_1B94'], 'secondary_granules': ['S1A_IW_SLC__1SDV_20230515T230705_20230515T230732_048551_05D700_1EB8', 'S1A_IW_SLC__1SDV_20230515T230730_20230515T230757_048551_05D700_A87F'], 'weather_model': 'HRRR'}}),\n",
       " Job.from_dict({'job_id': 'f6f42a48-d02f-4133-892e-492673b16caf', 'job_type': 'INSAR_ISCE_TEST', 'request_time': '2023-08-17T20:30:41+00:00', 'status_code': 'PENDING', 'user_id': 'cmarshak', 'name': 'track4-n3', 'job_parameters': {'compute_solid_earth_tide': True, 'estimate_ionosphere_delay': True, 'frame_id': 497, 'granules': ['S1A_IW_SLC__1SDV_20230527T230730_20230527T230757_048726_05DC30_1B94', 'S1A_IW_SLC__1SDV_20230527T230755_20230527T230822_048726_05DC30_B26C'], 'secondary_granules': ['S1A_IW_SLC__1SDV_20230515T230730_20230515T230757_048551_05D700_A87F', 'S1A_IW_SLC__1SDV_20230515T230754_20230515T230821_048551_05D700_2325'], 'weather_model': 'HRRR'}}),\n",
       " Job.from_dict({'job_id': '8c212114-d569-493d-b25b-6f8387132fe3', 'job_type': 'INSAR_ISCE_TEST', 'request_time': '2023-08-17T20:30:41+00:00', 'status_code': 'PENDING', 'user_id': 'cmarshak', 'name': 'track4-n3', 'job_parameters': {'compute_solid_earth_tide': True, 'estimate_ionosphere_delay': True, 'frame_id': 498, 'granules': ['S1A_IW_SLC__1SDV_20230527T230755_20230527T230822_048726_05DC30_B26C', 'S1A_IW_SLC__1SDV_20230527T230820_20230527T230848_048726_05DC30_2DF1'], 'secondary_granules': ['S1A_IW_SLC__1SDV_20230515T230754_20230515T230821_048551_05D700_2325', 'S1A_IW_SLC__1SDV_20230515T230819_20230515T230847_048551_05D700_A925'], 'weather_model': 'HRRR'}}),\n",
       " Job.from_dict({'job_id': '9fe0e36a-e817-4aa2-9923-1b44b7f00d76', 'job_type': 'INSAR_ISCE_TEST', 'request_time': '2023-08-17T20:30:41+00:00', 'status_code': 'PENDING', 'user_id': 'cmarshak', 'name': 'track4-n3', 'job_parameters': {'compute_solid_earth_tide': True, 'estimate_ionosphere_delay': True, 'frame_id': 499, 'granules': ['S1A_IW_SLC__1SDV_20230527T230820_20230527T230848_048726_05DC30_2DF1', 'S1A_IW_SLC__1SDV_20230527T230846_20230527T230913_048726_05DC30_F73D'], 'secondary_granules': ['S1A_IW_SLC__1SDV_20230515T230819_20230515T230847_048551_05D700_A925', 'S1A_IW_SLC__1SDV_20230515T230845_20230515T230912_048551_05D700_751C'], 'weather_model': 'HRRR'}}),\n",
       " Job.from_dict({'job_id': 'b8bac9a2-11cd-4f7e-806a-399cae25c957', 'job_type': 'INSAR_ISCE_TEST', 'request_time': '2023-08-17T20:30:41+00:00', 'status_code': 'PENDING', 'user_id': 'cmarshak', 'name': 'track4-n3', 'job_parameters': {'compute_solid_earth_tide': True, 'estimate_ionosphere_delay': True, 'frame_id': 492, 'granules': ['S1A_IW_SLC__1SDV_20230527T230550_20230527T230617_048726_05DC30_C628', 'S1A_IW_SLC__1SDV_20230527T230615_20230527T230643_048726_05DC30_9D1B'], 'secondary_granules': ['S1A_IW_SLC__1SDV_20230503T230548_20230503T230615_048376_05D190_CC71', 'S1A_IW_SLC__1SDV_20230503T230613_20230503T230641_048376_05D190_808B'], 'weather_model': 'HRRR'}}),\n",
       " Job.from_dict({'job_id': 'f3e1c374-9183-4436-8766-274c2f2a137a', 'job_type': 'INSAR_ISCE_TEST', 'request_time': '2023-08-17T20:30:41+00:00', 'status_code': 'PENDING', 'user_id': 'cmarshak', 'name': 'track4-n3', 'job_parameters': {'compute_solid_earth_tide': True, 'estimate_ionosphere_delay': True, 'frame_id': 493, 'granules': ['S1A_IW_SLC__1SDV_20230527T230615_20230527T230643_048726_05DC30_9D1B', 'S1A_IW_SLC__1SDV_20230527T230640_20230527T230707_048726_05DC30_2B77'], 'secondary_granules': ['S1A_IW_SLC__1SDV_20230503T230613_20230503T230641_048376_05D190_808B', 'S1A_IW_SLC__1SDV_20230503T230639_20230503T230706_048376_05D190_CF64'], 'weather_model': 'HRRR'}}),\n",
       " Job.from_dict({'job_id': 'e20ec3f3-39c2-41bc-8266-a1931a11e0fb', 'job_type': 'INSAR_ISCE_TEST', 'request_time': '2023-08-17T20:30:41+00:00', 'status_code': 'PENDING', 'user_id': 'cmarshak', 'name': 'track4-n3', 'job_parameters': {'compute_solid_earth_tide': True, 'estimate_ionosphere_delay': True, 'frame_id': 494, 'granules': ['S1A_IW_SLC__1SDV_20230527T230640_20230527T230707_048726_05DC30_2B77', 'S1A_IW_SLC__1SDV_20230527T230705_20230527T230732_048726_05DC30_BC70'], 'secondary_granules': ['S1A_IW_SLC__1SDV_20230503T230639_20230503T230706_048376_05D190_CF64', 'S1A_IW_SLC__1SDV_20230503T230704_20230503T230731_048376_05D190_963C'], 'weather_model': 'HRRR'}}),\n",
       " Job.from_dict({'job_id': '340c7e6e-1a02-44a1-859d-bea64debb8eb', 'job_type': 'INSAR_ISCE_TEST', 'request_time': '2023-08-17T20:30:41+00:00', 'status_code': 'PENDING', 'user_id': 'cmarshak', 'name': 'track4-n3', 'job_parameters': {'compute_solid_earth_tide': True, 'estimate_ionosphere_delay': True, 'frame_id': 495, 'granules': ['S1A_IW_SLC__1SDV_20230527T230705_20230527T230732_048726_05DC30_BC70', 'S1A_IW_SLC__1SDV_20230527T230730_20230527T230757_048726_05DC30_1B94'], 'secondary_granules': ['S1A_IW_SLC__1SDV_20230503T230704_20230503T230731_048376_05D190_963C', 'S1A_IW_SLC__1SDV_20230503T230729_20230503T230756_048376_05D190_3091'], 'weather_model': 'HRRR'}}),\n",
       " Job.from_dict({'job_id': 'b875648b-5f43-4d45-8814-f805da044c20', 'job_type': 'INSAR_ISCE_TEST', 'request_time': '2023-08-17T20:30:41+00:00', 'status_code': 'PENDING', 'user_id': 'cmarshak', 'name': 'track4-n3', 'job_parameters': {'compute_solid_earth_tide': True, 'estimate_ionosphere_delay': True, 'frame_id': 496, 'granules': ['S1A_IW_SLC__1SDV_20230527T230705_20230527T230732_048726_05DC30_BC70', 'S1A_IW_SLC__1SDV_20230527T230730_20230527T230757_048726_05DC30_1B94'], 'secondary_granules': ['S1A_IW_SLC__1SDV_20230503T230704_20230503T230731_048376_05D190_963C', 'S1A_IW_SLC__1SDV_20230503T230729_20230503T230756_048376_05D190_3091'], 'weather_model': 'HRRR'}}),\n",
       " Job.from_dict({'job_id': 'b7397dad-3f2b-4d16-80e9-5479c675e602', 'job_type': 'INSAR_ISCE_TEST', 'request_time': '2023-08-17T20:30:41+00:00', 'status_code': 'PENDING', 'user_id': 'cmarshak', 'name': 'track4-n3', 'job_parameters': {'compute_solid_earth_tide': True, 'estimate_ionosphere_delay': True, 'frame_id': 497, 'granules': ['S1A_IW_SLC__1SDV_20230527T230730_20230527T230757_048726_05DC30_1B94', 'S1A_IW_SLC__1SDV_20230527T230755_20230527T230822_048726_05DC30_B26C'], 'secondary_granules': ['S1A_IW_SLC__1SDV_20230503T230729_20230503T230756_048376_05D190_3091', 'S1A_IW_SLC__1SDV_20230503T230753_20230503T230820_048376_05D190_07F6'], 'weather_model': 'HRRR'}}),\n",
       " Job.from_dict({'job_id': 'f8d78fcf-ad3d-45ab-8399-27651e3c7824', 'job_type': 'INSAR_ISCE_TEST', 'request_time': '2023-08-17T20:30:41+00:00', 'status_code': 'PENDING', 'user_id': 'cmarshak', 'name': 'track4-n3', 'job_parameters': {'compute_solid_earth_tide': True, 'estimate_ionosphere_delay': True, 'frame_id': 498, 'granules': ['S1A_IW_SLC__1SDV_20230527T230755_20230527T230822_048726_05DC30_B26C', 'S1A_IW_SLC__1SDV_20230527T230820_20230527T230848_048726_05DC30_2DF1'], 'secondary_granules': ['S1A_IW_SLC__1SDV_20230503T230753_20230503T230820_048376_05D190_07F6', 'S1A_IW_SLC__1SDV_20230503T230818_20230503T230846_048376_05D190_9518'], 'weather_model': 'HRRR'}}),\n",
       " Job.from_dict({'job_id': 'b61810bd-d2fc-477e-97ea-1c2ca4a21f39', 'job_type': 'INSAR_ISCE_TEST', 'request_time': '2023-08-17T20:30:41+00:00', 'status_code': 'PENDING', 'user_id': 'cmarshak', 'name': 'track4-n3', 'job_parameters': {'compute_solid_earth_tide': True, 'estimate_ionosphere_delay': True, 'frame_id': 499, 'granules': ['S1A_IW_SLC__1SDV_20230527T230820_20230527T230848_048726_05DC30_2DF1', 'S1A_IW_SLC__1SDV_20230527T230846_20230527T230913_048726_05DC30_F73D'], 'secondary_granules': ['S1A_IW_SLC__1SDV_20230503T230818_20230503T230846_048376_05D190_9518', 'S1A_IW_SLC__1SDV_20230503T230844_20230503T230911_048376_05D190_544A'], 'weather_model': 'HRRR'}}),\n",
       " Job.from_dict({'job_id': '6d5d00d7-152f-4c82-9012-e1d6209be94a', 'job_type': 'INSAR_ISCE_TEST', 'request_time': '2023-08-17T20:30:41+00:00', 'status_code': 'PENDING', 'user_id': 'cmarshak', 'name': 'track4-n3', 'job_parameters': {'compute_solid_earth_tide': True, 'estimate_ionosphere_delay': True, 'frame_id': 492, 'granules': ['S1A_IW_SLC__1SDV_20230527T230550_20230527T230617_048726_05DC30_C628', 'S1A_IW_SLC__1SDV_20230527T230615_20230527T230643_048726_05DC30_9D1B'], 'secondary_granules': ['S1A_IW_SLC__1SDV_20230421T230548_20230421T230615_048201_05CBA8_A310', 'S1A_IW_SLC__1SDV_20230421T230613_20230421T230640_048201_05CBA8_14B2'], 'weather_model': 'HRRR'}}),\n",
       " Job.from_dict({'job_id': 'ceb39ad6-a6be-4669-a07a-7ed9526c622e', 'job_type': 'INSAR_ISCE_TEST', 'request_time': '2023-08-17T20:30:41+00:00', 'status_code': 'PENDING', 'user_id': 'cmarshak', 'name': 'track4-n3', 'job_parameters': {'compute_solid_earth_tide': True, 'estimate_ionosphere_delay': True, 'frame_id': 493, 'granules': ['S1A_IW_SLC__1SDV_20230527T230615_20230527T230643_048726_05DC30_9D1B', 'S1A_IW_SLC__1SDV_20230527T230640_20230527T230707_048726_05DC30_2B77'], 'secondary_granules': ['S1A_IW_SLC__1SDV_20230421T230613_20230421T230640_048201_05CBA8_14B2', 'S1A_IW_SLC__1SDV_20230421T230638_20230421T230705_048201_05CBA8_174A'], 'weather_model': 'HRRR'}}),\n",
       " Job.from_dict({'job_id': '783f2e51-a74f-4974-b039-fa157bee28ed', 'job_type': 'INSAR_ISCE_TEST', 'request_time': '2023-08-17T20:30:41+00:00', 'status_code': 'PENDING', 'user_id': 'cmarshak', 'name': 'track4-n3', 'job_parameters': {'compute_solid_earth_tide': True, 'estimate_ionosphere_delay': True, 'frame_id': 494, 'granules': ['S1A_IW_SLC__1SDV_20230527T230640_20230527T230707_048726_05DC30_2B77', 'S1A_IW_SLC__1SDV_20230527T230705_20230527T230732_048726_05DC30_BC70'], 'secondary_granules': ['S1A_IW_SLC__1SDV_20230421T230638_20230421T230705_048201_05CBA8_174A', 'S1A_IW_SLC__1SDV_20230421T230703_20230421T230730_048201_05CBA8_4AA9'], 'weather_model': 'HRRR'}}),\n",
       " Job.from_dict({'job_id': '604d9f16-0e82-40cb-aeee-9679a62fcbe1', 'job_type': 'INSAR_ISCE_TEST', 'request_time': '2023-08-17T20:30:41+00:00', 'status_code': 'PENDING', 'user_id': 'cmarshak', 'name': 'track4-n3', 'job_parameters': {'compute_solid_earth_tide': True, 'estimate_ionosphere_delay': True, 'frame_id': 495, 'granules': ['S1A_IW_SLC__1SDV_20230527T230705_20230527T230732_048726_05DC30_BC70', 'S1A_IW_SLC__1SDV_20230527T230730_20230527T230757_048726_05DC30_1B94'], 'secondary_granules': ['S1A_IW_SLC__1SDV_20230421T230703_20230421T230730_048201_05CBA8_4AA9', 'S1A_IW_SLC__1SDV_20230421T230728_20230421T230755_048201_05CBA8_40EE'], 'weather_model': 'HRRR'}}),\n",
       " Job.from_dict({'job_id': 'a4b7d187-470e-49bc-b45e-c66a9919b797', 'job_type': 'INSAR_ISCE_TEST', 'request_time': '2023-08-17T20:30:41+00:00', 'status_code': 'PENDING', 'user_id': 'cmarshak', 'name': 'track4-n3', 'job_parameters': {'compute_solid_earth_tide': True, 'estimate_ionosphere_delay': True, 'frame_id': 496, 'granules': ['S1A_IW_SLC__1SDV_20230527T230705_20230527T230732_048726_05DC30_BC70', 'S1A_IW_SLC__1SDV_20230527T230730_20230527T230757_048726_05DC30_1B94'], 'secondary_granules': ['S1A_IW_SLC__1SDV_20230421T230703_20230421T230730_048201_05CBA8_4AA9', 'S1A_IW_SLC__1SDV_20230421T230728_20230421T230755_048201_05CBA8_40EE'], 'weather_model': 'HRRR'}}),\n",
       " Job.from_dict({'job_id': '62551127-47f4-4ab9-a394-80b6166ed575', 'job_type': 'INSAR_ISCE_TEST', 'request_time': '2023-08-17T20:30:41+00:00', 'status_code': 'PENDING', 'user_id': 'cmarshak', 'name': 'track4-n3', 'job_parameters': {'compute_solid_earth_tide': True, 'estimate_ionosphere_delay': True, 'frame_id': 497, 'granules': ['S1A_IW_SLC__1SDV_20230527T230730_20230527T230757_048726_05DC30_1B94', 'S1A_IW_SLC__1SDV_20230527T230755_20230527T230822_048726_05DC30_B26C'], 'secondary_granules': ['S1A_IW_SLC__1SDV_20230421T230728_20230421T230755_048201_05CBA8_40EE', 'S1A_IW_SLC__1SDV_20230421T230753_20230421T230820_048201_05CBA8_0D47'], 'weather_model': 'HRRR'}}),\n",
       " Job.from_dict({'job_id': 'fbc17013-498f-47cc-8500-a4b20e70498f', 'job_type': 'INSAR_ISCE_TEST', 'request_time': '2023-08-17T20:30:41+00:00', 'status_code': 'PENDING', 'user_id': 'cmarshak', 'name': 'track4-n3', 'job_parameters': {'compute_solid_earth_tide': True, 'estimate_ionosphere_delay': True, 'frame_id': 498, 'granules': ['S1A_IW_SLC__1SDV_20230527T230755_20230527T230822_048726_05DC30_B26C', 'S1A_IW_SLC__1SDV_20230527T230820_20230527T230848_048726_05DC30_2DF1'], 'secondary_granules': ['S1A_IW_SLC__1SDV_20230421T230753_20230421T230820_048201_05CBA8_0D47', 'S1A_IW_SLC__1SDV_20230421T230818_20230421T230846_048201_05CBA8_B726'], 'weather_model': 'HRRR'}}),\n",
       " Job.from_dict({'job_id': 'ecdd4a84-f89c-4d31-becc-b2ec7d08e9ce', 'job_type': 'INSAR_ISCE_TEST', 'request_time': '2023-08-17T20:30:41+00:00', 'status_code': 'PENDING', 'user_id': 'cmarshak', 'name': 'track4-n3', 'job_parameters': {'compute_solid_earth_tide': True, 'estimate_ionosphere_delay': True, 'frame_id': 499, 'granules': ['S1A_IW_SLC__1SDV_20230527T230820_20230527T230848_048726_05DC30_2DF1', 'S1A_IW_SLC__1SDV_20230527T230846_20230527T230913_048726_05DC30_F73D'], 'secondary_granules': ['S1A_IW_SLC__1SDV_20230421T230818_20230421T230846_048201_05CBA8_B726', 'S1A_IW_SLC__1SDV_20230421T230843_20230421T230910_048201_05CBA8_23E7'], 'weather_model': 'HRRR'}}),\n",
       " Job.from_dict({'job_id': 'e5a25efc-faac-42c0-b9c8-587d644b6a4c', 'job_type': 'INSAR_ISCE_TEST', 'request_time': '2023-08-17T20:30:41+00:00', 'status_code': 'PENDING', 'user_id': 'cmarshak', 'name': 'track4-n3', 'job_parameters': {'compute_solid_earth_tide': True, 'estimate_ionosphere_delay': True, 'frame_id': 492, 'granules': ['S1A_IW_SLC__1SDV_20230515T230549_20230515T230616_048551_05D700_C39F', 'S1A_IW_SLC__1SDV_20230515T230614_20230515T230642_048551_05D700_7D9C'], 'secondary_granules': ['S1A_IW_SLC__1SDV_20230503T230548_20230503T230615_048376_05D190_CC71', 'S1A_IW_SLC__1SDV_20230503T230613_20230503T230641_048376_05D190_808B'], 'weather_model': 'HRRR'}}),\n",
       " Job.from_dict({'job_id': 'eb9df2f6-f59b-4c70-a7dd-a3c3e3415dde', 'job_type': 'INSAR_ISCE_TEST', 'request_time': '2023-08-17T20:30:41+00:00', 'status_code': 'PENDING', 'user_id': 'cmarshak', 'name': 'track4-n3', 'job_parameters': {'compute_solid_earth_tide': True, 'estimate_ionosphere_delay': True, 'frame_id': 493, 'granules': ['S1A_IW_SLC__1SDV_20230515T230614_20230515T230642_048551_05D700_7D9C', 'S1A_IW_SLC__1SDV_20230515T230640_20230515T230707_048551_05D700_7950'], 'secondary_granules': ['S1A_IW_SLC__1SDV_20230503T230613_20230503T230641_048376_05D190_808B', 'S1A_IW_SLC__1SDV_20230503T230639_20230503T230706_048376_05D190_CF64'], 'weather_model': 'HRRR'}}),\n",
       " Job.from_dict({'job_id': '452129bb-b33a-46b4-b49f-7e48c0f29a21', 'job_type': 'INSAR_ISCE_TEST', 'request_time': '2023-08-17T20:30:41+00:00', 'status_code': 'PENDING', 'user_id': 'cmarshak', 'name': 'track4-n3', 'job_parameters': {'compute_solid_earth_tide': True, 'estimate_ionosphere_delay': True, 'frame_id': 494, 'granules': ['S1A_IW_SLC__1SDV_20230515T230640_20230515T230707_048551_05D700_7950', 'S1A_IW_SLC__1SDV_20230515T230705_20230515T230732_048551_05D700_1EB8'], 'secondary_granules': ['S1A_IW_SLC__1SDV_20230503T230639_20230503T230706_048376_05D190_CF64', 'S1A_IW_SLC__1SDV_20230503T230704_20230503T230731_048376_05D190_963C'], 'weather_model': 'HRRR'}}),\n",
       " Job.from_dict({'job_id': '6368493c-386b-4fab-821a-7d16d401685f', 'job_type': 'INSAR_ISCE_TEST', 'request_time': '2023-08-17T20:30:41+00:00', 'status_code': 'PENDING', 'user_id': 'cmarshak', 'name': 'track4-n3', 'job_parameters': {'compute_solid_earth_tide': True, 'estimate_ionosphere_delay': True, 'frame_id': 495, 'granules': ['S1A_IW_SLC__1SDV_20230515T230705_20230515T230732_048551_05D700_1EB8', 'S1A_IW_SLC__1SDV_20230515T230730_20230515T230757_048551_05D700_A87F'], 'secondary_granules': ['S1A_IW_SLC__1SDV_20230503T230704_20230503T230731_048376_05D190_963C', 'S1A_IW_SLC__1SDV_20230503T230729_20230503T230756_048376_05D190_3091'], 'weather_model': 'HRRR'}}),\n",
       " Job.from_dict({'job_id': 'cfeff56d-27d0-4117-8db4-beb1c594b72f', 'job_type': 'INSAR_ISCE_TEST', 'request_time': '2023-08-17T20:30:41+00:00', 'status_code': 'PENDING', 'user_id': 'cmarshak', 'name': 'track4-n3', 'job_parameters': {'compute_solid_earth_tide': True, 'estimate_ionosphere_delay': True, 'frame_id': 496, 'granules': ['S1A_IW_SLC__1SDV_20230515T230705_20230515T230732_048551_05D700_1EB8', 'S1A_IW_SLC__1SDV_20230515T230730_20230515T230757_048551_05D700_A87F'], 'secondary_granules': ['S1A_IW_SLC__1SDV_20230503T230704_20230503T230731_048376_05D190_963C', 'S1A_IW_SLC__1SDV_20230503T230729_20230503T230756_048376_05D190_3091'], 'weather_model': 'HRRR'}}),\n",
       " Job.from_dict({'job_id': '09809315-2737-45fe-8931-3e100b052d81', 'job_type': 'INSAR_ISCE_TEST', 'request_time': '2023-08-17T20:30:41+00:00', 'status_code': 'PENDING', 'user_id': 'cmarshak', 'name': 'track4-n3', 'job_parameters': {'compute_solid_earth_tide': True, 'estimate_ionosphere_delay': True, 'frame_id': 497, 'granules': ['S1A_IW_SLC__1SDV_20230515T230730_20230515T230757_048551_05D700_A87F', 'S1A_IW_SLC__1SDV_20230515T230754_20230515T230821_048551_05D700_2325'], 'secondary_granules': ['S1A_IW_SLC__1SDV_20230503T230729_20230503T230756_048376_05D190_3091', 'S1A_IW_SLC__1SDV_20230503T230753_20230503T230820_048376_05D190_07F6'], 'weather_model': 'HRRR'}}),\n",
       " Job.from_dict({'job_id': '5e0636d0-4b23-4e2c-ac12-fbd12eb04d95', 'job_type': 'INSAR_ISCE_TEST', 'request_time': '2023-08-17T20:30:41+00:00', 'status_code': 'PENDING', 'user_id': 'cmarshak', 'name': 'track4-n3', 'job_parameters': {'compute_solid_earth_tide': True, 'estimate_ionosphere_delay': True, 'frame_id': 498, 'granules': ['S1A_IW_SLC__1SDV_20230515T230754_20230515T230821_048551_05D700_2325', 'S1A_IW_SLC__1SDV_20230515T230819_20230515T230847_048551_05D700_A925'], 'secondary_granules': ['S1A_IW_SLC__1SDV_20230503T230753_20230503T230820_048376_05D190_07F6', 'S1A_IW_SLC__1SDV_20230503T230818_20230503T230846_048376_05D190_9518'], 'weather_model': 'HRRR'}}),\n",
       " Job.from_dict({'job_id': '71a30009-411b-43a8-8738-c533b3b28bfa', 'job_type': 'INSAR_ISCE_TEST', 'request_time': '2023-08-17T20:30:41+00:00', 'status_code': 'PENDING', 'user_id': 'cmarshak', 'name': 'track4-n3', 'job_parameters': {'compute_solid_earth_tide': True, 'estimate_ionosphere_delay': True, 'frame_id': 499, 'granules': ['S1A_IW_SLC__1SDV_20230515T230819_20230515T230847_048551_05D700_A925', 'S1A_IW_SLC__1SDV_20230515T230845_20230515T230912_048551_05D700_751C'], 'secondary_granules': ['S1A_IW_SLC__1SDV_20230503T230818_20230503T230846_048376_05D190_9518', 'S1A_IW_SLC__1SDV_20230503T230844_20230503T230911_048376_05D190_544A'], 'weather_model': 'HRRR'}}),\n",
       " Job.from_dict({'job_id': '6bb4904a-68c3-4db7-a9c4-6167dffc05df', 'job_type': 'INSAR_ISCE_TEST', 'request_time': '2023-08-17T20:30:41+00:00', 'status_code': 'PENDING', 'user_id': 'cmarshak', 'name': 'track4-n3', 'job_parameters': {'compute_solid_earth_tide': True, 'estimate_ionosphere_delay': True, 'frame_id': 492, 'granules': ['S1A_IW_SLC__1SDV_20230515T230549_20230515T230616_048551_05D700_C39F', 'S1A_IW_SLC__1SDV_20230515T230614_20230515T230642_048551_05D700_7D9C'], 'secondary_granules': ['S1A_IW_SLC__1SDV_20230421T230548_20230421T230615_048201_05CBA8_A310', 'S1A_IW_SLC__1SDV_20230421T230613_20230421T230640_048201_05CBA8_14B2'], 'weather_model': 'HRRR'}}),\n",
       " Job.from_dict({'job_id': 'e0f7fd32-1e40-4c92-9e50-e45900e6ecae', 'job_type': 'INSAR_ISCE_TEST', 'request_time': '2023-08-17T20:30:41+00:00', 'status_code': 'PENDING', 'user_id': 'cmarshak', 'name': 'track4-n3', 'job_parameters': {'compute_solid_earth_tide': True, 'estimate_ionosphere_delay': True, 'frame_id': 493, 'granules': ['S1A_IW_SLC__1SDV_20230515T230614_20230515T230642_048551_05D700_7D9C', 'S1A_IW_SLC__1SDV_20230515T230640_20230515T230707_048551_05D700_7950'], 'secondary_granules': ['S1A_IW_SLC__1SDV_20230421T230613_20230421T230640_048201_05CBA8_14B2', 'S1A_IW_SLC__1SDV_20230421T230638_20230421T230705_048201_05CBA8_174A'], 'weather_model': 'HRRR'}}),\n",
       " Job.from_dict({'job_id': '221ff7d9-e057-4937-bb66-6fa8fa577a45', 'job_type': 'INSAR_ISCE_TEST', 'request_time': '2023-08-17T20:30:41+00:00', 'status_code': 'PENDING', 'user_id': 'cmarshak', 'name': 'track4-n3', 'job_parameters': {'compute_solid_earth_tide': True, 'estimate_ionosphere_delay': True, 'frame_id': 494, 'granules': ['S1A_IW_SLC__1SDV_20230515T230640_20230515T230707_048551_05D700_7950', 'S1A_IW_SLC__1SDV_20230515T230705_20230515T230732_048551_05D700_1EB8'], 'secondary_granules': ['S1A_IW_SLC__1SDV_20230421T230638_20230421T230705_048201_05CBA8_174A', 'S1A_IW_SLC__1SDV_20230421T230703_20230421T230730_048201_05CBA8_4AA9'], 'weather_model': 'HRRR'}}),\n",
       " Job.from_dict({'job_id': '70f2a92e-0512-4ae5-b0a4-1877a6587e1d', 'job_type': 'INSAR_ISCE_TEST', 'request_time': '2023-08-17T20:30:41+00:00', 'status_code': 'PENDING', 'user_id': 'cmarshak', 'name': 'track4-n3', 'job_parameters': {'compute_solid_earth_tide': True, 'estimate_ionosphere_delay': True, 'frame_id': 495, 'granules': ['S1A_IW_SLC__1SDV_20230515T230705_20230515T230732_048551_05D700_1EB8', 'S1A_IW_SLC__1SDV_20230515T230730_20230515T230757_048551_05D700_A87F'], 'secondary_granules': ['S1A_IW_SLC__1SDV_20230421T230703_20230421T230730_048201_05CBA8_4AA9', 'S1A_IW_SLC__1SDV_20230421T230728_20230421T230755_048201_05CBA8_40EE'], 'weather_model': 'HRRR'}}),\n",
       " Job.from_dict({'job_id': '1064e279-ce8c-484c-b8a9-7abb0e957724', 'job_type': 'INSAR_ISCE_TEST', 'request_time': '2023-08-17T20:30:41+00:00', 'status_code': 'PENDING', 'user_id': 'cmarshak', 'name': 'track4-n3', 'job_parameters': {'compute_solid_earth_tide': True, 'estimate_ionosphere_delay': True, 'frame_id': 496, 'granules': ['S1A_IW_SLC__1SDV_20230515T230705_20230515T230732_048551_05D700_1EB8', 'S1A_IW_SLC__1SDV_20230515T230730_20230515T230757_048551_05D700_A87F'], 'secondary_granules': ['S1A_IW_SLC__1SDV_20230421T230703_20230421T230730_048201_05CBA8_4AA9', 'S1A_IW_SLC__1SDV_20230421T230728_20230421T230755_048201_05CBA8_40EE'], 'weather_model': 'HRRR'}}),\n",
       " Job.from_dict({'job_id': '40c0cd5f-484f-4bb6-a62a-ec252a987021', 'job_type': 'INSAR_ISCE_TEST', 'request_time': '2023-08-17T20:30:41+00:00', 'status_code': 'PENDING', 'user_id': 'cmarshak', 'name': 'track4-n3', 'job_parameters': {'compute_solid_earth_tide': True, 'estimate_ionosphere_delay': True, 'frame_id': 497, 'granules': ['S1A_IW_SLC__1SDV_20230515T230730_20230515T230757_048551_05D700_A87F', 'S1A_IW_SLC__1SDV_20230515T230754_20230515T230821_048551_05D700_2325'], 'secondary_granules': ['S1A_IW_SLC__1SDV_20230421T230728_20230421T230755_048201_05CBA8_40EE', 'S1A_IW_SLC__1SDV_20230421T230753_20230421T230820_048201_05CBA8_0D47'], 'weather_model': 'HRRR'}}),\n",
       " Job.from_dict({'job_id': '0d7b7430-dd7a-4740-90b6-6522e4440d50', 'job_type': 'INSAR_ISCE_TEST', 'request_time': '2023-08-17T20:30:41+00:00', 'status_code': 'PENDING', 'user_id': 'cmarshak', 'name': 'track4-n3', 'job_parameters': {'compute_solid_earth_tide': True, 'estimate_ionosphere_delay': True, 'frame_id': 498, 'granules': ['S1A_IW_SLC__1SDV_20230515T230754_20230515T230821_048551_05D700_2325', 'S1A_IW_SLC__1SDV_20230515T230819_20230515T230847_048551_05D700_A925'], 'secondary_granules': ['S1A_IW_SLC__1SDV_20230421T230753_20230421T230820_048201_05CBA8_0D47', 'S1A_IW_SLC__1SDV_20230421T230818_20230421T230846_048201_05CBA8_B726'], 'weather_model': 'HRRR'}}),\n",
       " Job.from_dict({'job_id': '4369d966-c002-415b-82de-b23d11640eca', 'job_type': 'INSAR_ISCE_TEST', 'request_time': '2023-08-17T20:30:41+00:00', 'status_code': 'PENDING', 'user_id': 'cmarshak', 'name': 'track4-n3', 'job_parameters': {'compute_solid_earth_tide': True, 'estimate_ionosphere_delay': True, 'frame_id': 499, 'granules': ['S1A_IW_SLC__1SDV_20230515T230819_20230515T230847_048551_05D700_A925', 'S1A_IW_SLC__1SDV_20230515T230845_20230515T230912_048551_05D700_751C'], 'secondary_granules': ['S1A_IW_SLC__1SDV_20230421T230818_20230421T230846_048201_05CBA8_B726', 'S1A_IW_SLC__1SDV_20230421T230843_20230421T230910_048201_05CBA8_23E7'], 'weather_model': 'HRRR'}}),\n",
       " Job.from_dict({'job_id': '797aaec5-24e9-4607-99d8-f9b5181e3b94', 'job_type': 'INSAR_ISCE_TEST', 'request_time': '2023-08-17T20:30:41+00:00', 'status_code': 'PENDING', 'user_id': 'cmarshak', 'name': 'track4-n3', 'job_parameters': {'compute_solid_earth_tide': True, 'estimate_ionosphere_delay': True, 'frame_id': 492, 'granules': ['S1A_IW_SLC__1SDV_20230515T230549_20230515T230616_048551_05D700_C39F', 'S1A_IW_SLC__1SDV_20230515T230614_20230515T230642_048551_05D700_7D9C'], 'secondary_granules': ['S1A_IW_SLC__1SDV_20230409T230548_20230409T230615_048026_05C5CE_3962', 'S1A_IW_SLC__1SDV_20230409T230613_20230409T230640_048026_05C5CE_26E5'], 'weather_model': 'HRRR'}}),\n",
       " Job.from_dict({'job_id': 'c310d9a6-c539-4cac-ace5-16261651b44f', 'job_type': 'INSAR_ISCE_TEST', 'request_time': '2023-08-17T20:30:41+00:00', 'status_code': 'PENDING', 'user_id': 'cmarshak', 'name': 'track4-n3', 'job_parameters': {'compute_solid_earth_tide': True, 'estimate_ionosphere_delay': True, 'frame_id': 493, 'granules': ['S1A_IW_SLC__1SDV_20230515T230614_20230515T230642_048551_05D700_7D9C', 'S1A_IW_SLC__1SDV_20230515T230640_20230515T230707_048551_05D700_7950'], 'secondary_granules': ['S1A_IW_SLC__1SDV_20230409T230613_20230409T230640_048026_05C5CE_26E5', 'S1A_IW_SLC__1SDV_20230409T230638_20230409T230705_048026_05C5CE_D78B'], 'weather_model': 'HRRR'}}),\n",
       " Job.from_dict({'job_id': '3c0e6c8d-e935-4926-b4f8-77a2d3a3a885', 'job_type': 'INSAR_ISCE_TEST', 'request_time': '2023-08-17T20:30:41+00:00', 'status_code': 'PENDING', 'user_id': 'cmarshak', 'name': 'track4-n3', 'job_parameters': {'compute_solid_earth_tide': True, 'estimate_ionosphere_delay': True, 'frame_id': 494, 'granules': ['S1A_IW_SLC__1SDV_20230515T230640_20230515T230707_048551_05D700_7950', 'S1A_IW_SLC__1SDV_20230515T230705_20230515T230732_048551_05D700_1EB8'], 'secondary_granules': ['S1A_IW_SLC__1SDV_20230409T230638_20230409T230705_048026_05C5CE_D78B', 'S1A_IW_SLC__1SDV_20230409T230703_20230409T230730_048026_05C5CE_B1B6'], 'weather_model': 'HRRR'}}),\n",
       " Job.from_dict({'job_id': 'c0de20fc-b817-4b6f-a351-9a205e508aca', 'job_type': 'INSAR_ISCE_TEST', 'request_time': '2023-08-17T20:30:41+00:00', 'status_code': 'PENDING', 'user_id': 'cmarshak', 'name': 'track4-n3', 'job_parameters': {'compute_solid_earth_tide': True, 'estimate_ionosphere_delay': True, 'frame_id': 495, 'granules': ['S1A_IW_SLC__1SDV_20230515T230705_20230515T230732_048551_05D700_1EB8', 'S1A_IW_SLC__1SDV_20230515T230730_20230515T230757_048551_05D700_A87F'], 'secondary_granules': ['S1A_IW_SLC__1SDV_20230409T230703_20230409T230730_048026_05C5CE_B1B6', 'S1A_IW_SLC__1SDV_20230409T230728_20230409T230755_048026_05C5CE_B253'], 'weather_model': 'HRRR'}}),\n",
       " Job.from_dict({'job_id': '9f3c261f-395b-4fe1-9271-8aa7e3bd1a7b', 'job_type': 'INSAR_ISCE_TEST', 'request_time': '2023-08-17T20:30:41+00:00', 'status_code': 'PENDING', 'user_id': 'cmarshak', 'name': 'track4-n3', 'job_parameters': {'compute_solid_earth_tide': True, 'estimate_ionosphere_delay': True, 'frame_id': 496, 'granules': ['S1A_IW_SLC__1SDV_20230515T230705_20230515T230732_048551_05D700_1EB8', 'S1A_IW_SLC__1SDV_20230515T230730_20230515T230757_048551_05D700_A87F'], 'secondary_granules': ['S1A_IW_SLC__1SDV_20230409T230703_20230409T230730_048026_05C5CE_B1B6', 'S1A_IW_SLC__1SDV_20230409T230728_20230409T230755_048026_05C5CE_B253'], 'weather_model': 'HRRR'}}),\n",
       " Job.from_dict({'job_id': '124ffdba-9541-42d1-8ac3-9de1af4ffd68', 'job_type': 'INSAR_ISCE_TEST', 'request_time': '2023-08-17T20:30:41+00:00', 'status_code': 'PENDING', 'user_id': 'cmarshak', 'name': 'track4-n3', 'job_parameters': {'compute_solid_earth_tide': True, 'estimate_ionosphere_delay': True, 'frame_id': 497, 'granules': ['S1A_IW_SLC__1SDV_20230515T230730_20230515T230757_048551_05D700_A87F', 'S1A_IW_SLC__1SDV_20230515T230754_20230515T230821_048551_05D700_2325'], 'secondary_granules': ['S1A_IW_SLC__1SDV_20230409T230728_20230409T230755_048026_05C5CE_B253', 'S1A_IW_SLC__1SDV_20230409T230753_20230409T230820_048026_05C5CE_3A60'], 'weather_model': 'HRRR'}}),\n",
       " Job.from_dict({'job_id': '67ceb7b1-fe61-4575-895d-c80b5b321011', 'job_type': 'INSAR_ISCE_TEST', 'request_time': '2023-08-17T20:30:41+00:00', 'status_code': 'PENDING', 'user_id': 'cmarshak', 'name': 'track4-n3', 'job_parameters': {'compute_solid_earth_tide': True, 'estimate_ionosphere_delay': True, 'frame_id': 498, 'granules': ['S1A_IW_SLC__1SDV_20230515T230754_20230515T230821_048551_05D700_2325', 'S1A_IW_SLC__1SDV_20230515T230819_20230515T230847_048551_05D700_A925'], 'secondary_granules': ['S1A_IW_SLC__1SDV_20230409T230753_20230409T230820_048026_05C5CE_3A60', 'S1A_IW_SLC__1SDV_20230409T230818_20230409T230846_048026_05C5CE_B84D'], 'weather_model': 'HRRR'}}),\n",
       " Job.from_dict({'job_id': '7f47a1ae-c544-4a05-9da1-f19445296b0c', 'job_type': 'INSAR_ISCE_TEST', 'request_time': '2023-08-17T20:30:41+00:00', 'status_code': 'PENDING', 'user_id': 'cmarshak', 'name': 'track4-n3', 'job_parameters': {'compute_solid_earth_tide': True, 'estimate_ionosphere_delay': True, 'frame_id': 499, 'granules': ['S1A_IW_SLC__1SDV_20230515T230819_20230515T230847_048551_05D700_A925', 'S1A_IW_SLC__1SDV_20230515T230845_20230515T230912_048551_05D700_751C'], 'secondary_granules': ['S1A_IW_SLC__1SDV_20230409T230818_20230409T230846_048026_05C5CE_B84D', 'S1A_IW_SLC__1SDV_20230409T230843_20230409T230910_048026_05C5CE_37FD'], 'weather_model': 'HRRR'}}),\n",
       " Job.from_dict({'job_id': '9ed967c8-8700-41d4-91e6-813113fc145d', 'job_type': 'INSAR_ISCE_TEST', 'request_time': '2023-08-17T20:30:41+00:00', 'status_code': 'PENDING', 'user_id': 'cmarshak', 'name': 'track4-n3', 'job_parameters': {'compute_solid_earth_tide': True, 'estimate_ionosphere_delay': True, 'frame_id': 492, 'granules': ['S1A_IW_SLC__1SDV_20230503T230548_20230503T230615_048376_05D190_CC71', 'S1A_IW_SLC__1SDV_20230503T230613_20230503T230641_048376_05D190_808B'], 'secondary_granules': ['S1A_IW_SLC__1SDV_20230421T230548_20230421T230615_048201_05CBA8_A310', 'S1A_IW_SLC__1SDV_20230421T230613_20230421T230640_048201_05CBA8_14B2'], 'weather_model': 'HRRR'}}),\n",
       " Job.from_dict({'job_id': '7d6edff8-3c9c-4fc5-90f5-5089e649cbaf', 'job_type': 'INSAR_ISCE_TEST', 'request_time': '2023-08-17T20:30:41+00:00', 'status_code': 'PENDING', 'user_id': 'cmarshak', 'name': 'track4-n3', 'job_parameters': {'compute_solid_earth_tide': True, 'estimate_ionosphere_delay': True, 'frame_id': 493, 'granules': ['S1A_IW_SLC__1SDV_20230503T230613_20230503T230641_048376_05D190_808B', 'S1A_IW_SLC__1SDV_20230503T230639_20230503T230706_048376_05D190_CF64'], 'secondary_granules': ['S1A_IW_SLC__1SDV_20230421T230613_20230421T230640_048201_05CBA8_14B2', 'S1A_IW_SLC__1SDV_20230421T230638_20230421T230705_048201_05CBA8_174A'], 'weather_model': 'HRRR'}}),\n",
       " Job.from_dict({'job_id': '6fd5d0b4-b84a-476d-9476-abac5f2913bc', 'job_type': 'INSAR_ISCE_TEST', 'request_time': '2023-08-17T20:30:41+00:00', 'status_code': 'PENDING', 'user_id': 'cmarshak', 'name': 'track4-n3', 'job_parameters': {'compute_solid_earth_tide': True, 'estimate_ionosphere_delay': True, 'frame_id': 494, 'granules': ['S1A_IW_SLC__1SDV_20230503T230639_20230503T230706_048376_05D190_CF64', 'S1A_IW_SLC__1SDV_20230503T230704_20230503T230731_048376_05D190_963C'], 'secondary_granules': ['S1A_IW_SLC__1SDV_20230421T230638_20230421T230705_048201_05CBA8_174A', 'S1A_IW_SLC__1SDV_20230421T230703_20230421T230730_048201_05CBA8_4AA9'], 'weather_model': 'HRRR'}}),\n",
       " Job.from_dict({'job_id': '6da4509c-8ba8-4050-bfd2-be0556aaa089', 'job_type': 'INSAR_ISCE_TEST', 'request_time': '2023-08-17T20:30:41+00:00', 'status_code': 'PENDING', 'user_id': 'cmarshak', 'name': 'track4-n3', 'job_parameters': {'compute_solid_earth_tide': True, 'estimate_ionosphere_delay': True, 'frame_id': 495, 'granules': ['S1A_IW_SLC__1SDV_20230503T230704_20230503T230731_048376_05D190_963C', 'S1A_IW_SLC__1SDV_20230503T230729_20230503T230756_048376_05D190_3091'], 'secondary_granules': ['S1A_IW_SLC__1SDV_20230421T230703_20230421T230730_048201_05CBA8_4AA9', 'S1A_IW_SLC__1SDV_20230421T230728_20230421T230755_048201_05CBA8_40EE'], 'weather_model': 'HRRR'}}),\n",
       " Job.from_dict({'job_id': '75543a9b-f816-4dda-b942-77636aeaa637', 'job_type': 'INSAR_ISCE_TEST', 'request_time': '2023-08-17T20:30:41+00:00', 'status_code': 'PENDING', 'user_id': 'cmarshak', 'name': 'track4-n3', 'job_parameters': {'compute_solid_earth_tide': True, 'estimate_ionosphere_delay': True, 'frame_id': 496, 'granules': ['S1A_IW_SLC__1SDV_20230503T230704_20230503T230731_048376_05D190_963C', 'S1A_IW_SLC__1SDV_20230503T230729_20230503T230756_048376_05D190_3091'], 'secondary_granules': ['S1A_IW_SLC__1SDV_20230421T230703_20230421T230730_048201_05CBA8_4AA9', 'S1A_IW_SLC__1SDV_20230421T230728_20230421T230755_048201_05CBA8_40EE'], 'weather_model': 'HRRR'}}),\n",
       " Job.from_dict({'job_id': '4d0d93f0-3a7a-4e94-b391-8962e8da6491', 'job_type': 'INSAR_ISCE_TEST', 'request_time': '2023-08-17T20:30:41+00:00', 'status_code': 'PENDING', 'user_id': 'cmarshak', 'name': 'track4-n3', 'job_parameters': {'compute_solid_earth_tide': True, 'estimate_ionosphere_delay': True, 'frame_id': 497, 'granules': ['S1A_IW_SLC__1SDV_20230503T230729_20230503T230756_048376_05D190_3091', 'S1A_IW_SLC__1SDV_20230503T230753_20230503T230820_048376_05D190_07F6'], 'secondary_granules': ['S1A_IW_SLC__1SDV_20230421T230728_20230421T230755_048201_05CBA8_40EE', 'S1A_IW_SLC__1SDV_20230421T230753_20230421T230820_048201_05CBA8_0D47'], 'weather_model': 'HRRR'}}),\n",
       " Job.from_dict({'job_id': 'b1d86720-30e3-4b62-8a76-4cf7b35a9b1b', 'job_type': 'INSAR_ISCE_TEST', 'request_time': '2023-08-17T20:30:41+00:00', 'status_code': 'PENDING', 'user_id': 'cmarshak', 'name': 'track4-n3', 'job_parameters': {'compute_solid_earth_tide': True, 'estimate_ionosphere_delay': True, 'frame_id': 498, 'granules': ['S1A_IW_SLC__1SDV_20230503T230753_20230503T230820_048376_05D190_07F6', 'S1A_IW_SLC__1SDV_20230503T230818_20230503T230846_048376_05D190_9518'], 'secondary_granules': ['S1A_IW_SLC__1SDV_20230421T230753_20230421T230820_048201_05CBA8_0D47', 'S1A_IW_SLC__1SDV_20230421T230818_20230421T230846_048201_05CBA8_B726'], 'weather_model': 'HRRR'}}),\n",
       " Job.from_dict({'job_id': '6e04f2f6-3758-4ee7-9b12-fcf3891f3328', 'job_type': 'INSAR_ISCE_TEST', 'request_time': '2023-08-17T20:30:41+00:00', 'status_code': 'PENDING', 'user_id': 'cmarshak', 'name': 'track4-n3', 'job_parameters': {'compute_solid_earth_tide': True, 'estimate_ionosphere_delay': True, 'frame_id': 499, 'granules': ['S1A_IW_SLC__1SDV_20230503T230818_20230503T230846_048376_05D190_9518', 'S1A_IW_SLC__1SDV_20230503T230844_20230503T230911_048376_05D190_544A'], 'secondary_granules': ['S1A_IW_SLC__1SDV_20230421T230818_20230421T230846_048201_05CBA8_B726', 'S1A_IW_SLC__1SDV_20230421T230843_20230421T230910_048201_05CBA8_23E7'], 'weather_model': 'HRRR'}}),\n",
       " Job.from_dict({'job_id': '2d968fb0-962a-46d3-8e2f-31f975df6e39', 'job_type': 'INSAR_ISCE_TEST', 'request_time': '2023-08-17T20:30:41+00:00', 'status_code': 'PENDING', 'user_id': 'cmarshak', 'name': 'track4-n3', 'job_parameters': {'compute_solid_earth_tide': True, 'estimate_ionosphere_delay': True, 'frame_id': 492, 'granules': ['S1A_IW_SLC__1SDV_20230503T230548_20230503T230615_048376_05D190_CC71', 'S1A_IW_SLC__1SDV_20230503T230613_20230503T230641_048376_05D190_808B'], 'secondary_granules': ['S1A_IW_SLC__1SDV_20230409T230548_20230409T230615_048026_05C5CE_3962', 'S1A_IW_SLC__1SDV_20230409T230613_20230409T230640_048026_05C5CE_26E5'], 'weather_model': 'HRRR'}}),\n",
       " Job.from_dict({'job_id': '2c38812f-951a-48bc-804b-4ea9e9265837', 'job_type': 'INSAR_ISCE_TEST', 'request_time': '2023-08-17T20:30:41+00:00', 'status_code': 'PENDING', 'user_id': 'cmarshak', 'name': 'track4-n3', 'job_parameters': {'compute_solid_earth_tide': True, 'estimate_ionosphere_delay': True, 'frame_id': 493, 'granules': ['S1A_IW_SLC__1SDV_20230503T230613_20230503T230641_048376_05D190_808B', 'S1A_IW_SLC__1SDV_20230503T230639_20230503T230706_048376_05D190_CF64'], 'secondary_granules': ['S1A_IW_SLC__1SDV_20230409T230613_20230409T230640_048026_05C5CE_26E5', 'S1A_IW_SLC__1SDV_20230409T230638_20230409T230705_048026_05C5CE_D78B'], 'weather_model': 'HRRR'}}),\n",
       " Job.from_dict({'job_id': '3c5b7aad-84fa-4bb4-9e08-51e9178c3cd2', 'job_type': 'INSAR_ISCE_TEST', 'request_time': '2023-08-17T20:30:41+00:00', 'status_code': 'PENDING', 'user_id': 'cmarshak', 'name': 'track4-n3', 'job_parameters': {'compute_solid_earth_tide': True, 'estimate_ionosphere_delay': True, 'frame_id': 494, 'granules': ['S1A_IW_SLC__1SDV_20230503T230639_20230503T230706_048376_05D190_CF64', 'S1A_IW_SLC__1SDV_20230503T230704_20230503T230731_048376_05D190_963C'], 'secondary_granules': ['S1A_IW_SLC__1SDV_20230409T230638_20230409T230705_048026_05C5CE_D78B', 'S1A_IW_SLC__1SDV_20230409T230703_20230409T230730_048026_05C5CE_B1B6'], 'weather_model': 'HRRR'}}),\n",
       " Job.from_dict({'job_id': 'a4309058-c068-4eef-9f8f-185d1ed6f708', 'job_type': 'INSAR_ISCE_TEST', 'request_time': '2023-08-17T20:30:41+00:00', 'status_code': 'PENDING', 'user_id': 'cmarshak', 'name': 'track4-n3', 'job_parameters': {'compute_solid_earth_tide': True, 'estimate_ionosphere_delay': True, 'frame_id': 495, 'granules': ['S1A_IW_SLC__1SDV_20230503T230704_20230503T230731_048376_05D190_963C', 'S1A_IW_SLC__1SDV_20230503T230729_20230503T230756_048376_05D190_3091'], 'secondary_granules': ['S1A_IW_SLC__1SDV_20230409T230703_20230409T230730_048026_05C5CE_B1B6', 'S1A_IW_SLC__1SDV_20230409T230728_20230409T230755_048026_05C5CE_B253'], 'weather_model': 'HRRR'}}),\n",
       " Job.from_dict({'job_id': 'b50bcc4b-1f95-46ce-bfda-4491845b37c9', 'job_type': 'INSAR_ISCE_TEST', 'request_time': '2023-08-17T20:30:41+00:00', 'status_code': 'PENDING', 'user_id': 'cmarshak', 'name': 'track4-n3', 'job_parameters': {'compute_solid_earth_tide': True, 'estimate_ionosphere_delay': True, 'frame_id': 496, 'granules': ['S1A_IW_SLC__1SDV_20230503T230704_20230503T230731_048376_05D190_963C', 'S1A_IW_SLC__1SDV_20230503T230729_20230503T230756_048376_05D190_3091'], 'secondary_granules': ['S1A_IW_SLC__1SDV_20230409T230703_20230409T230730_048026_05C5CE_B1B6', 'S1A_IW_SLC__1SDV_20230409T230728_20230409T230755_048026_05C5CE_B253'], 'weather_model': 'HRRR'}}),\n",
       " Job.from_dict({'job_id': '3062a340-dec6-4ad0-b795-c1d5e317258c', 'job_type': 'INSAR_ISCE_TEST', 'request_time': '2023-08-17T20:30:41+00:00', 'status_code': 'PENDING', 'user_id': 'cmarshak', 'name': 'track4-n3', 'job_parameters': {'compute_solid_earth_tide': True, 'estimate_ionosphere_delay': True, 'frame_id': 497, 'granules': ['S1A_IW_SLC__1SDV_20230503T230729_20230503T230756_048376_05D190_3091', 'S1A_IW_SLC__1SDV_20230503T230753_20230503T230820_048376_05D190_07F6'], 'secondary_granules': ['S1A_IW_SLC__1SDV_20230409T230728_20230409T230755_048026_05C5CE_B253', 'S1A_IW_SLC__1SDV_20230409T230753_20230409T230820_048026_05C5CE_3A60'], 'weather_model': 'HRRR'}}),\n",
       " Job.from_dict({'job_id': 'bd1949a8-a505-4a85-b341-bdae729980cb', 'job_type': 'INSAR_ISCE_TEST', 'request_time': '2023-08-17T20:30:41+00:00', 'status_code': 'PENDING', 'user_id': 'cmarshak', 'name': 'track4-n3', 'job_parameters': {'compute_solid_earth_tide': True, 'estimate_ionosphere_delay': True, 'frame_id': 498, 'granules': ['S1A_IW_SLC__1SDV_20230503T230753_20230503T230820_048376_05D190_07F6', 'S1A_IW_SLC__1SDV_20230503T230818_20230503T230846_048376_05D190_9518'], 'secondary_granules': ['S1A_IW_SLC__1SDV_20230409T230753_20230409T230820_048026_05C5CE_3A60', 'S1A_IW_SLC__1SDV_20230409T230818_20230409T230846_048026_05C5CE_B84D'], 'weather_model': 'HRRR'}}),\n",
       " Job.from_dict({'job_id': 'cf59188b-59ec-4a38-9145-d6de655c70b6', 'job_type': 'INSAR_ISCE_TEST', 'request_time': '2023-08-17T20:30:41+00:00', 'status_code': 'PENDING', 'user_id': 'cmarshak', 'name': 'track4-n3', 'job_parameters': {'compute_solid_earth_tide': True, 'estimate_ionosphere_delay': True, 'frame_id': 499, 'granules': ['S1A_IW_SLC__1SDV_20230503T230818_20230503T230846_048376_05D190_9518', 'S1A_IW_SLC__1SDV_20230503T230844_20230503T230911_048376_05D190_544A'], 'secondary_granules': ['S1A_IW_SLC__1SDV_20230409T230818_20230409T230846_048026_05C5CE_B84D', 'S1A_IW_SLC__1SDV_20230409T230843_20230409T230910_048026_05C5CE_37FD'], 'weather_model': 'HRRR'}}),\n",
       " Job.from_dict({'job_id': '845f7bc3-9bcd-4de9-ab02-e0f47a793888', 'job_type': 'INSAR_ISCE_TEST', 'request_time': '2023-08-17T20:30:41+00:00', 'status_code': 'PENDING', 'user_id': 'cmarshak', 'name': 'track4-n3', 'job_parameters': {'compute_solid_earth_tide': True, 'estimate_ionosphere_delay': True, 'frame_id': 492, 'granules': ['S1A_IW_SLC__1SDV_20230503T230548_20230503T230615_048376_05D190_CC71', 'S1A_IW_SLC__1SDV_20230503T230613_20230503T230641_048376_05D190_808B'], 'secondary_granules': ['S1A_IW_SLC__1SDV_20230328T230547_20230328T230614_047851_05BFE7_28CB', 'S1A_IW_SLC__1SDV_20230328T230612_20230328T230640_047851_05BFE7_B4FC'], 'weather_model': 'HRRR'}}),\n",
       " Job.from_dict({'job_id': '6f5c431e-3bc4-4260-9ba0-e3a58edd2ec7', 'job_type': 'INSAR_ISCE_TEST', 'request_time': '2023-08-17T20:30:41+00:00', 'status_code': 'PENDING', 'user_id': 'cmarshak', 'name': 'track4-n3', 'job_parameters': {'compute_solid_earth_tide': True, 'estimate_ionosphere_delay': True, 'frame_id': 493, 'granules': ['S1A_IW_SLC__1SDV_20230503T230613_20230503T230641_048376_05D190_808B', 'S1A_IW_SLC__1SDV_20230503T230639_20230503T230706_048376_05D190_CF64'], 'secondary_granules': ['S1A_IW_SLC__1SDV_20230328T230612_20230328T230640_047851_05BFE7_B4FC', 'S1A_IW_SLC__1SDV_20230328T230638_20230328T230705_047851_05BFE7_5B97'], 'weather_model': 'HRRR'}}),\n",
       " Job.from_dict({'job_id': 'dea9d5d4-aaf8-407e-b134-8faeb003418d', 'job_type': 'INSAR_ISCE_TEST', 'request_time': '2023-08-17T20:30:41+00:00', 'status_code': 'PENDING', 'user_id': 'cmarshak', 'name': 'track4-n3', 'job_parameters': {'compute_solid_earth_tide': True, 'estimate_ionosphere_delay': True, 'frame_id': 494, 'granules': ['S1A_IW_SLC__1SDV_20230503T230639_20230503T230706_048376_05D190_CF64', 'S1A_IW_SLC__1SDV_20230503T230704_20230503T230731_048376_05D190_963C'], 'secondary_granules': ['S1A_IW_SLC__1SDV_20230328T230638_20230328T230705_047851_05BFE7_5B97', 'S1A_IW_SLC__1SDV_20230328T230703_20230328T230730_047851_05BFE7_F2A7'], 'weather_model': 'HRRR'}}),\n",
       " Job.from_dict({'job_id': '91e597b7-fbb9-4193-bf4a-60a668e26c00', 'job_type': 'INSAR_ISCE_TEST', 'request_time': '2023-08-17T20:30:41+00:00', 'status_code': 'PENDING', 'user_id': 'cmarshak', 'name': 'track4-n3', 'job_parameters': {'compute_solid_earth_tide': True, 'estimate_ionosphere_delay': True, 'frame_id': 495, 'granules': ['S1A_IW_SLC__1SDV_20230503T230704_20230503T230731_048376_05D190_963C', 'S1A_IW_SLC__1SDV_20230503T230729_20230503T230756_048376_05D190_3091'], 'secondary_granules': ['S1A_IW_SLC__1SDV_20230328T230703_20230328T230730_047851_05BFE7_F2A7', 'S1A_IW_SLC__1SDV_20230328T230727_20230328T230754_047851_05BFE7_F06F'], 'weather_model': 'HRRR'}}),\n",
       " Job.from_dict({'job_id': '74b6d205-3097-44cf-a824-c401caa48c25', 'job_type': 'INSAR_ISCE_TEST', 'request_time': '2023-08-17T20:30:41+00:00', 'status_code': 'PENDING', 'user_id': 'cmarshak', 'name': 'track4-n3', 'job_parameters': {'compute_solid_earth_tide': True, 'estimate_ionosphere_delay': True, 'frame_id': 496, 'granules': ['S1A_IW_SLC__1SDV_20230503T230704_20230503T230731_048376_05D190_963C', 'S1A_IW_SLC__1SDV_20230503T230729_20230503T230756_048376_05D190_3091'], 'secondary_granules': ['S1A_IW_SLC__1SDV_20230328T230703_20230328T230730_047851_05BFE7_F2A7', 'S1A_IW_SLC__1SDV_20230328T230727_20230328T230754_047851_05BFE7_F06F'], 'weather_model': 'HRRR'}}),\n",
       " Job.from_dict({'job_id': 'ac99d8f9-1bd7-48cc-bc6a-a1d5c8f26002', 'job_type': 'INSAR_ISCE_TEST', 'request_time': '2023-08-17T20:30:41+00:00', 'status_code': 'PENDING', 'user_id': 'cmarshak', 'name': 'track4-n3', 'job_parameters': {'compute_solid_earth_tide': True, 'estimate_ionosphere_delay': True, 'frame_id': 497, 'granules': ['S1A_IW_SLC__1SDV_20230503T230729_20230503T230756_048376_05D190_3091', 'S1A_IW_SLC__1SDV_20230503T230753_20230503T230820_048376_05D190_07F6'], 'secondary_granules': ['S1A_IW_SLC__1SDV_20230328T230727_20230328T230754_047851_05BFE7_F06F', 'S1A_IW_SLC__1SDV_20230328T230752_20230328T230819_047851_05BFE7_E443'], 'weather_model': 'HRRR'}}),\n",
       " Job.from_dict({'job_id': 'bcaf835c-8253-4d3f-89ea-a972a39fb6f9', 'job_type': 'INSAR_ISCE_TEST', 'request_time': '2023-08-17T20:30:41+00:00', 'status_code': 'PENDING', 'user_id': 'cmarshak', 'name': 'track4-n3', 'job_parameters': {'compute_solid_earth_tide': True, 'estimate_ionosphere_delay': True, 'frame_id': 498, 'granules': ['S1A_IW_SLC__1SDV_20230503T230753_20230503T230820_048376_05D190_07F6', 'S1A_IW_SLC__1SDV_20230503T230818_20230503T230846_048376_05D190_9518'], 'secondary_granules': ['S1A_IW_SLC__1SDV_20230328T230752_20230328T230819_047851_05BFE7_E443', 'S1A_IW_SLC__1SDV_20230328T230817_20230328T230845_047851_05BFE7_864B'], 'weather_model': 'HRRR'}}),\n",
       " Job.from_dict({'job_id': '12e16ec2-4a8a-4f1a-b88d-1795321b2e61', 'job_type': 'INSAR_ISCE_TEST', 'request_time': '2023-08-17T20:30:41+00:00', 'status_code': 'PENDING', 'user_id': 'cmarshak', 'name': 'track4-n3', 'job_parameters': {'compute_solid_earth_tide': True, 'estimate_ionosphere_delay': True, 'frame_id': 499, 'granules': ['S1A_IW_SLC__1SDV_20230503T230818_20230503T230846_048376_05D190_9518', 'S1A_IW_SLC__1SDV_20230503T230844_20230503T230911_048376_05D190_544A'], 'secondary_granules': ['S1A_IW_SLC__1SDV_20230328T230817_20230328T230845_047851_05BFE7_864B', 'S1A_IW_SLC__1SDV_20230328T230843_20230328T230910_047851_05BFE7_305B'], 'weather_model': 'HRRR'}}),\n",
       " Job.from_dict({'job_id': 'acf2916b-9f64-4dbd-956a-791cba58ceb0', 'job_type': 'INSAR_ISCE_TEST', 'request_time': '2023-08-17T20:30:41+00:00', 'status_code': 'PENDING', 'user_id': 'cmarshak', 'name': 'track4-n3', 'job_parameters': {'compute_solid_earth_tide': True, 'estimate_ionosphere_delay': True, 'frame_id': 492, 'granules': ['S1A_IW_SLC__1SDV_20230421T230548_20230421T230615_048201_05CBA8_A310', 'S1A_IW_SLC__1SDV_20230421T230613_20230421T230640_048201_05CBA8_14B2'], 'secondary_granules': ['S1A_IW_SLC__1SDV_20230409T230548_20230409T230615_048026_05C5CE_3962', 'S1A_IW_SLC__1SDV_20230409T230613_20230409T230640_048026_05C5CE_26E5'], 'weather_model': 'HRRR'}}),\n",
       " Job.from_dict({'job_id': 'cbde92b5-8e7f-4a41-b832-55be52caeb38', 'job_type': 'INSAR_ISCE_TEST', 'request_time': '2023-08-17T20:30:41+00:00', 'status_code': 'PENDING', 'user_id': 'cmarshak', 'name': 'track4-n3', 'job_parameters': {'compute_solid_earth_tide': True, 'estimate_ionosphere_delay': True, 'frame_id': 493, 'granules': ['S1A_IW_SLC__1SDV_20230421T230613_20230421T230640_048201_05CBA8_14B2', 'S1A_IW_SLC__1SDV_20230421T230638_20230421T230705_048201_05CBA8_174A'], 'secondary_granules': ['S1A_IW_SLC__1SDV_20230409T230613_20230409T230640_048026_05C5CE_26E5', 'S1A_IW_SLC__1SDV_20230409T230638_20230409T230705_048026_05C5CE_D78B'], 'weather_model': 'HRRR'}}),\n",
       " Job.from_dict({'job_id': 'ace85240-fa6e-4f0f-9a53-0f7ff9eb0284', 'job_type': 'INSAR_ISCE_TEST', 'request_time': '2023-08-17T20:30:41+00:00', 'status_code': 'PENDING', 'user_id': 'cmarshak', 'name': 'track4-n3', 'job_parameters': {'compute_solid_earth_tide': True, 'estimate_ionosphere_delay': True, 'frame_id': 494, 'granules': ['S1A_IW_SLC__1SDV_20230421T230638_20230421T230705_048201_05CBA8_174A', 'S1A_IW_SLC__1SDV_20230421T230703_20230421T230730_048201_05CBA8_4AA9'], 'secondary_granules': ['S1A_IW_SLC__1SDV_20230409T230638_20230409T230705_048026_05C5CE_D78B', 'S1A_IW_SLC__1SDV_20230409T230703_20230409T230730_048026_05C5CE_B1B6'], 'weather_model': 'HRRR'}}),\n",
       " Job.from_dict({'job_id': '2d2b20b8-ec33-48a8-9829-8b2e459bbabe', 'job_type': 'INSAR_ISCE_TEST', 'request_time': '2023-08-17T20:30:41+00:00', 'status_code': 'PENDING', 'user_id': 'cmarshak', 'name': 'track4-n3', 'job_parameters': {'compute_solid_earth_tide': True, 'estimate_ionosphere_delay': True, 'frame_id': 495, 'granules': ['S1A_IW_SLC__1SDV_20230421T230703_20230421T230730_048201_05CBA8_4AA9', 'S1A_IW_SLC__1SDV_20230421T230728_20230421T230755_048201_05CBA8_40EE'], 'secondary_granules': ['S1A_IW_SLC__1SDV_20230409T230703_20230409T230730_048026_05C5CE_B1B6', 'S1A_IW_SLC__1SDV_20230409T230728_20230409T230755_048026_05C5CE_B253'], 'weather_model': 'HRRR'}}),\n",
       " Job.from_dict({'job_id': '1d4ae4aa-239d-40a5-97a6-1aaf0d2a5e2b', 'job_type': 'INSAR_ISCE_TEST', 'request_time': '2023-08-17T20:30:41+00:00', 'status_code': 'PENDING', 'user_id': 'cmarshak', 'name': 'track4-n3', 'job_parameters': {'compute_solid_earth_tide': True, 'estimate_ionosphere_delay': True, 'frame_id': 496, 'granules': ['S1A_IW_SLC__1SDV_20230421T230703_20230421T230730_048201_05CBA8_4AA9', 'S1A_IW_SLC__1SDV_20230421T230728_20230421T230755_048201_05CBA8_40EE'], 'secondary_granules': ['S1A_IW_SLC__1SDV_20230409T230703_20230409T230730_048026_05C5CE_B1B6', 'S1A_IW_SLC__1SDV_20230409T230728_20230409T230755_048026_05C5CE_B253'], 'weather_model': 'HRRR'}}),\n",
       " Job.from_dict({'job_id': '88c79b7d-ea37-486e-881a-e2c64a11e576', 'job_type': 'INSAR_ISCE_TEST', 'request_time': '2023-08-17T20:30:41+00:00', 'status_code': 'PENDING', 'user_id': 'cmarshak', 'name': 'track4-n3', 'job_parameters': {'compute_solid_earth_tide': True, 'estimate_ionosphere_delay': True, 'frame_id': 497, 'granules': ['S1A_IW_SLC__1SDV_20230421T230728_20230421T230755_048201_05CBA8_40EE', 'S1A_IW_SLC__1SDV_20230421T230753_20230421T230820_048201_05CBA8_0D47'], 'secondary_granules': ['S1A_IW_SLC__1SDV_20230409T230728_20230409T230755_048026_05C5CE_B253', 'S1A_IW_SLC__1SDV_20230409T230753_20230409T230820_048026_05C5CE_3A60'], 'weather_model': 'HRRR'}}),\n",
       " Job.from_dict({'job_id': 'f27560a1-b56a-4a73-beb0-539e30e2c34d', 'job_type': 'INSAR_ISCE_TEST', 'request_time': '2023-08-17T20:30:41+00:00', 'status_code': 'PENDING', 'user_id': 'cmarshak', 'name': 'track4-n3', 'job_parameters': {'compute_solid_earth_tide': True, 'estimate_ionosphere_delay': True, 'frame_id': 498, 'granules': ['S1A_IW_SLC__1SDV_20230421T230753_20230421T230820_048201_05CBA8_0D47', 'S1A_IW_SLC__1SDV_20230421T230818_20230421T230846_048201_05CBA8_B726'], 'secondary_granules': ['S1A_IW_SLC__1SDV_20230409T230753_20230409T230820_048026_05C5CE_3A60', 'S1A_IW_SLC__1SDV_20230409T230818_20230409T230846_048026_05C5CE_B84D'], 'weather_model': 'HRRR'}}),\n",
       " Job.from_dict({'job_id': '6c6e1b3a-2899-4b6c-99fc-411ee518ebe4', 'job_type': 'INSAR_ISCE_TEST', 'request_time': '2023-08-17T20:30:41+00:00', 'status_code': 'PENDING', 'user_id': 'cmarshak', 'name': 'track4-n3', 'job_parameters': {'compute_solid_earth_tide': True, 'estimate_ionosphere_delay': True, 'frame_id': 499, 'granules': ['S1A_IW_SLC__1SDV_20230421T230818_20230421T230846_048201_05CBA8_B726', 'S1A_IW_SLC__1SDV_20230421T230843_20230421T230910_048201_05CBA8_23E7'], 'secondary_granules': ['S1A_IW_SLC__1SDV_20230409T230818_20230409T230846_048026_05C5CE_B84D', 'S1A_IW_SLC__1SDV_20230409T230843_20230409T230910_048026_05C5CE_37FD'], 'weather_model': 'HRRR'}}),\n",
       " Job.from_dict({'job_id': '4aa3d8bb-b5e8-4708-8d66-a723560f7e1d', 'job_type': 'INSAR_ISCE_TEST', 'request_time': '2023-08-17T20:30:41+00:00', 'status_code': 'PENDING', 'user_id': 'cmarshak', 'name': 'track4-n3', 'job_parameters': {'compute_solid_earth_tide': True, 'estimate_ionosphere_delay': True, 'frame_id': 492, 'granules': ['S1A_IW_SLC__1SDV_20230421T230548_20230421T230615_048201_05CBA8_A310', 'S1A_IW_SLC__1SDV_20230421T230613_20230421T230640_048201_05CBA8_14B2'], 'secondary_granules': ['S1A_IW_SLC__1SDV_20230328T230547_20230328T230614_047851_05BFE7_28CB', 'S1A_IW_SLC__1SDV_20230328T230612_20230328T230640_047851_05BFE7_B4FC'], 'weather_model': 'HRRR'}}),\n",
       " Job.from_dict({'job_id': '40cc5393-bd42-434f-b3bf-de3eff5ab012', 'job_type': 'INSAR_ISCE_TEST', 'request_time': '2023-08-17T20:30:41+00:00', 'status_code': 'PENDING', 'user_id': 'cmarshak', 'name': 'track4-n3', 'job_parameters': {'compute_solid_earth_tide': True, 'estimate_ionosphere_delay': True, 'frame_id': 493, 'granules': ['S1A_IW_SLC__1SDV_20230421T230613_20230421T230640_048201_05CBA8_14B2', 'S1A_IW_SLC__1SDV_20230421T230638_20230421T230705_048201_05CBA8_174A'], 'secondary_granules': ['S1A_IW_SLC__1SDV_20230328T230612_20230328T230640_047851_05BFE7_B4FC', 'S1A_IW_SLC__1SDV_20230328T230638_20230328T230705_047851_05BFE7_5B97'], 'weather_model': 'HRRR'}}),\n",
       " Job.from_dict({'job_id': '9f5ed0fe-b22d-4dd7-af67-fa424fb531c6', 'job_type': 'INSAR_ISCE_TEST', 'request_time': '2023-08-17T20:30:41+00:00', 'status_code': 'PENDING', 'user_id': 'cmarshak', 'name': 'track4-n3', 'job_parameters': {'compute_solid_earth_tide': True, 'estimate_ionosphere_delay': True, 'frame_id': 494, 'granules': ['S1A_IW_SLC__1SDV_20230421T230638_20230421T230705_048201_05CBA8_174A', 'S1A_IW_SLC__1SDV_20230421T230703_20230421T230730_048201_05CBA8_4AA9'], 'secondary_granules': ['S1A_IW_SLC__1SDV_20230328T230638_20230328T230705_047851_05BFE7_5B97', 'S1A_IW_SLC__1SDV_20230328T230703_20230328T230730_047851_05BFE7_F2A7'], 'weather_model': 'HRRR'}}),\n",
       " Job.from_dict({'job_id': '9bb8bf1c-c498-4358-9a93-87792bc631ed', 'job_type': 'INSAR_ISCE_TEST', 'request_time': '2023-08-17T20:30:41+00:00', 'status_code': 'PENDING', 'user_id': 'cmarshak', 'name': 'track4-n3', 'job_parameters': {'compute_solid_earth_tide': True, 'estimate_ionosphere_delay': True, 'frame_id': 495, 'granules': ['S1A_IW_SLC__1SDV_20230421T230703_20230421T230730_048201_05CBA8_4AA9', 'S1A_IW_SLC__1SDV_20230421T230728_20230421T230755_048201_05CBA8_40EE'], 'secondary_granules': ['S1A_IW_SLC__1SDV_20230328T230703_20230328T230730_047851_05BFE7_F2A7', 'S1A_IW_SLC__1SDV_20230328T230727_20230328T230754_047851_05BFE7_F06F'], 'weather_model': 'HRRR'}}),\n",
       " Job.from_dict({'job_id': '530762df-8504-46cb-b8e5-ca11be030ef4', 'job_type': 'INSAR_ISCE_TEST', 'request_time': '2023-08-17T20:30:41+00:00', 'status_code': 'PENDING', 'user_id': 'cmarshak', 'name': 'track4-n3', 'job_parameters': {'compute_solid_earth_tide': True, 'estimate_ionosphere_delay': True, 'frame_id': 496, 'granules': ['S1A_IW_SLC__1SDV_20230421T230703_20230421T230730_048201_05CBA8_4AA9', 'S1A_IW_SLC__1SDV_20230421T230728_20230421T230755_048201_05CBA8_40EE'], 'secondary_granules': ['S1A_IW_SLC__1SDV_20230328T230703_20230328T230730_047851_05BFE7_F2A7', 'S1A_IW_SLC__1SDV_20230328T230727_20230328T230754_047851_05BFE7_F06F'], 'weather_model': 'HRRR'}}),\n",
       " Job.from_dict({'job_id': 'b71d2b8f-5d95-4979-b227-652b96560a7b', 'job_type': 'INSAR_ISCE_TEST', 'request_time': '2023-08-17T20:30:41+00:00', 'status_code': 'PENDING', 'user_id': 'cmarshak', 'name': 'track4-n3', 'job_parameters': {'compute_solid_earth_tide': True, 'estimate_ionosphere_delay': True, 'frame_id': 497, 'granules': ['S1A_IW_SLC__1SDV_20230421T230728_20230421T230755_048201_05CBA8_40EE', 'S1A_IW_SLC__1SDV_20230421T230753_20230421T230820_048201_05CBA8_0D47'], 'secondary_granules': ['S1A_IW_SLC__1SDV_20230328T230727_20230328T230754_047851_05BFE7_F06F', 'S1A_IW_SLC__1SDV_20230328T230752_20230328T230819_047851_05BFE7_E443'], 'weather_model': 'HRRR'}}),\n",
       " Job.from_dict({'job_id': 'c59f9ee8-eef4-4e86-b098-b7622cb274d8', 'job_type': 'INSAR_ISCE_TEST', 'request_time': '2023-08-17T20:30:41+00:00', 'status_code': 'PENDING', 'user_id': 'cmarshak', 'name': 'track4-n3', 'job_parameters': {'compute_solid_earth_tide': True, 'estimate_ionosphere_delay': True, 'frame_id': 498, 'granules': ['S1A_IW_SLC__1SDV_20230421T230753_20230421T230820_048201_05CBA8_0D47', 'S1A_IW_SLC__1SDV_20230421T230818_20230421T230846_048201_05CBA8_B726'], 'secondary_granules': ['S1A_IW_SLC__1SDV_20230328T230752_20230328T230819_047851_05BFE7_E443', 'S1A_IW_SLC__1SDV_20230328T230817_20230328T230845_047851_05BFE7_864B'], 'weather_model': 'HRRR'}}),\n",
       " Job.from_dict({'job_id': '7f84ce48-6f1d-481d-87f3-3fad29d25382', 'job_type': 'INSAR_ISCE_TEST', 'request_time': '2023-08-17T20:30:41+00:00', 'status_code': 'PENDING', 'user_id': 'cmarshak', 'name': 'track4-n3', 'job_parameters': {'compute_solid_earth_tide': True, 'estimate_ionosphere_delay': True, 'frame_id': 499, 'granules': ['S1A_IW_SLC__1SDV_20230421T230818_20230421T230846_048201_05CBA8_B726', 'S1A_IW_SLC__1SDV_20230421T230843_20230421T230910_048201_05CBA8_23E7'], 'secondary_granules': ['S1A_IW_SLC__1SDV_20230328T230817_20230328T230845_047851_05BFE7_864B', 'S1A_IW_SLC__1SDV_20230328T230843_20230328T230910_047851_05BFE7_305B'], 'weather_model': 'HRRR'}}),\n",
       " Job.from_dict({'job_id': '60ce4b19-3a50-4c0d-970b-5bdfaf2d2d27', 'job_type': 'INSAR_ISCE_TEST', 'request_time': '2023-08-17T20:30:41+00:00', 'status_code': 'PENDING', 'user_id': 'cmarshak', 'name': 'track4-n3', 'job_parameters': {'compute_solid_earth_tide': True, 'estimate_ionosphere_delay': True, 'frame_id': 492, 'granules': ['S1A_IW_SLC__1SDV_20230421T230548_20230421T230615_048201_05CBA8_A310', 'S1A_IW_SLC__1SDV_20230421T230613_20230421T230640_048201_05CBA8_14B2'], 'secondary_granules': ['S1A_IW_SLC__1SDV_20230316T230547_20230316T230614_047676_05B9FE_2C25', 'S1A_IW_SLC__1SDV_20230316T230611_20230316T230639_047676_05B9FE_22F0'], 'weather_model': 'HRRR'}}),\n",
       " Job.from_dict({'job_id': '6d2dbb44-5fd6-4d5d-8e7d-e2576d9d3325', 'job_type': 'INSAR_ISCE_TEST', 'request_time': '2023-08-17T20:30:41+00:00', 'status_code': 'PENDING', 'user_id': 'cmarshak', 'name': 'track4-n3', 'job_parameters': {'compute_solid_earth_tide': True, 'estimate_ionosphere_delay': True, 'frame_id': 493, 'granules': ['S1A_IW_SLC__1SDV_20230421T230613_20230421T230640_048201_05CBA8_14B2', 'S1A_IW_SLC__1SDV_20230421T230638_20230421T230705_048201_05CBA8_174A'], 'secondary_granules': ['S1A_IW_SLC__1SDV_20230316T230611_20230316T230639_047676_05B9FE_22F0', 'S1A_IW_SLC__1SDV_20230316T230637_20230316T230704_047676_05B9FE_E7D6'], 'weather_model': 'HRRR'}}),\n",
       " Job.from_dict({'job_id': '2cd68217-f2cd-4c43-b9c8-1e3887d042d9', 'job_type': 'INSAR_ISCE_TEST', 'request_time': '2023-08-17T20:30:41+00:00', 'status_code': 'PENDING', 'user_id': 'cmarshak', 'name': 'track4-n3', 'job_parameters': {'compute_solid_earth_tide': True, 'estimate_ionosphere_delay': True, 'frame_id': 494, 'granules': ['S1A_IW_SLC__1SDV_20230421T230638_20230421T230705_048201_05CBA8_174A', 'S1A_IW_SLC__1SDV_20230421T230703_20230421T230730_048201_05CBA8_4AA9'], 'secondary_granules': ['S1A_IW_SLC__1SDV_20230316T230637_20230316T230704_047676_05B9FE_E7D6', 'S1A_IW_SLC__1SDV_20230316T230702_20230316T230729_047676_05B9FE_150A'], 'weather_model': 'HRRR'}}),\n",
       " Job.from_dict({'job_id': '17be5fe6-a5ed-4a4c-8dba-3c8492b7e974', 'job_type': 'INSAR_ISCE_TEST', 'request_time': '2023-08-17T20:30:41+00:00', 'status_code': 'PENDING', 'user_id': 'cmarshak', 'name': 'track4-n3', 'job_parameters': {'compute_solid_earth_tide': True, 'estimate_ionosphere_delay': True, 'frame_id': 495, 'granules': ['S1A_IW_SLC__1SDV_20230421T230703_20230421T230730_048201_05CBA8_4AA9', 'S1A_IW_SLC__1SDV_20230421T230728_20230421T230755_048201_05CBA8_40EE'], 'secondary_granules': ['S1A_IW_SLC__1SDV_20230316T230702_20230316T230729_047676_05B9FE_150A', 'S1A_IW_SLC__1SDV_20230316T230727_20230316T230754_047676_05B9FE_8D88'], 'weather_model': 'HRRR'}}),\n",
       " Job.from_dict({'job_id': 'e2400001-3314-4717-a426-65e0682d816a', 'job_type': 'INSAR_ISCE_TEST', 'request_time': '2023-08-17T20:30:41+00:00', 'status_code': 'PENDING', 'user_id': 'cmarshak', 'name': 'track4-n3', 'job_parameters': {'compute_solid_earth_tide': True, 'estimate_ionosphere_delay': True, 'frame_id': 496, 'granules': ['S1A_IW_SLC__1SDV_20230421T230703_20230421T230730_048201_05CBA8_4AA9', 'S1A_IW_SLC__1SDV_20230421T230728_20230421T230755_048201_05CBA8_40EE'], 'secondary_granules': ['S1A_IW_SLC__1SDV_20230316T230702_20230316T230729_047676_05B9FE_150A', 'S1A_IW_SLC__1SDV_20230316T230727_20230316T230754_047676_05B9FE_8D88'], 'weather_model': 'HRRR'}}),\n",
       " Job.from_dict({'job_id': '1a311707-db82-45ae-8949-6d1aea5d28d5', 'job_type': 'INSAR_ISCE_TEST', 'request_time': '2023-08-17T20:30:41+00:00', 'status_code': 'PENDING', 'user_id': 'cmarshak', 'name': 'track4-n3', 'job_parameters': {'compute_solid_earth_tide': True, 'estimate_ionosphere_delay': True, 'frame_id': 497, 'granules': ['S1A_IW_SLC__1SDV_20230421T230728_20230421T230755_048201_05CBA8_40EE', 'S1A_IW_SLC__1SDV_20230421T230753_20230421T230820_048201_05CBA8_0D47'], 'secondary_granules': ['S1A_IW_SLC__1SDV_20230316T230727_20230316T230754_047676_05B9FE_8D88', 'S1A_IW_SLC__1SDV_20230316T230752_20230316T230819_047676_05B9FE_0D2D'], 'weather_model': 'HRRR'}}),\n",
       " Job.from_dict({'job_id': '540e4c84-fd7b-45bf-8005-d4b2539f9c8f', 'job_type': 'INSAR_ISCE_TEST', 'request_time': '2023-08-17T20:30:41+00:00', 'status_code': 'PENDING', 'user_id': 'cmarshak', 'name': 'track4-n3', 'job_parameters': {'compute_solid_earth_tide': True, 'estimate_ionosphere_delay': True, 'frame_id': 498, 'granules': ['S1A_IW_SLC__1SDV_20230421T230753_20230421T230820_048201_05CBA8_0D47', 'S1A_IW_SLC__1SDV_20230421T230818_20230421T230846_048201_05CBA8_B726'], 'secondary_granules': ['S1A_IW_SLC__1SDV_20230316T230752_20230316T230819_047676_05B9FE_0D2D', 'S1A_IW_SLC__1SDV_20230316T230817_20230316T230844_047676_05B9FE_EF14'], 'weather_model': 'HRRR'}}),\n",
       " Job.from_dict({'job_id': 'ae4f147a-d68d-49f0-b795-0379ea29345a', 'job_type': 'INSAR_ISCE_TEST', 'request_time': '2023-08-17T20:30:41+00:00', 'status_code': 'PENDING', 'user_id': 'cmarshak', 'name': 'track4-n3', 'job_parameters': {'compute_solid_earth_tide': True, 'estimate_ionosphere_delay': True, 'frame_id': 499, 'granules': ['S1A_IW_SLC__1SDV_20230421T230818_20230421T230846_048201_05CBA8_B726', 'S1A_IW_SLC__1SDV_20230421T230843_20230421T230910_048201_05CBA8_23E7'], 'secondary_granules': ['S1A_IW_SLC__1SDV_20230316T230817_20230316T230844_047676_05B9FE_EF14', 'S1A_IW_SLC__1SDV_20230316T230842_20230316T230909_047676_05B9FE_920D'], 'weather_model': 'HRRR'}}),\n",
       " Job.from_dict({'job_id': 'c55f5fb2-d176-41bc-9e37-7ad733e96051', 'job_type': 'INSAR_ISCE_TEST', 'request_time': '2023-08-17T20:30:41+00:00', 'status_code': 'PENDING', 'user_id': 'cmarshak', 'name': 'track4-n3', 'job_parameters': {'compute_solid_earth_tide': True, 'estimate_ionosphere_delay': True, 'frame_id': 492, 'granules': ['S1A_IW_SLC__1SDV_20230409T230548_20230409T230615_048026_05C5CE_3962', 'S1A_IW_SLC__1SDV_20230409T230613_20230409T230640_048026_05C5CE_26E5'], 'secondary_granules': ['S1A_IW_SLC__1SDV_20230328T230547_20230328T230614_047851_05BFE7_28CB', 'S1A_IW_SLC__1SDV_20230328T230612_20230328T230640_047851_05BFE7_B4FC'], 'weather_model': 'HRRR'}}),\n",
       " Job.from_dict({'job_id': '6b4679db-b409-49fe-8edc-eec2f052b1d9', 'job_type': 'INSAR_ISCE_TEST', 'request_time': '2023-08-17T20:30:41+00:00', 'status_code': 'PENDING', 'user_id': 'cmarshak', 'name': 'track4-n3', 'job_parameters': {'compute_solid_earth_tide': True, 'estimate_ionosphere_delay': True, 'frame_id': 493, 'granules': ['S1A_IW_SLC__1SDV_20230409T230613_20230409T230640_048026_05C5CE_26E5', 'S1A_IW_SLC__1SDV_20230409T230638_20230409T230705_048026_05C5CE_D78B'], 'secondary_granules': ['S1A_IW_SLC__1SDV_20230328T230612_20230328T230640_047851_05BFE7_B4FC', 'S1A_IW_SLC__1SDV_20230328T230638_20230328T230705_047851_05BFE7_5B97'], 'weather_model': 'HRRR'}}),\n",
       " Job.from_dict({'job_id': 'a125ad80-7a0e-4ebe-8ef3-6c48c52a1b8e', 'job_type': 'INSAR_ISCE_TEST', 'request_time': '2023-08-17T20:30:41+00:00', 'status_code': 'PENDING', 'user_id': 'cmarshak', 'name': 'track4-n3', 'job_parameters': {'compute_solid_earth_tide': True, 'estimate_ionosphere_delay': True, 'frame_id': 494, 'granules': ['S1A_IW_SLC__1SDV_20230409T230638_20230409T230705_048026_05C5CE_D78B', 'S1A_IW_SLC__1SDV_20230409T230703_20230409T230730_048026_05C5CE_B1B6'], 'secondary_granules': ['S1A_IW_SLC__1SDV_20230328T230638_20230328T230705_047851_05BFE7_5B97', 'S1A_IW_SLC__1SDV_20230328T230703_20230328T230730_047851_05BFE7_F2A7'], 'weather_model': 'HRRR'}}),\n",
       " Job.from_dict({'job_id': '44a776af-bb90-411a-a725-e99224406d28', 'job_type': 'INSAR_ISCE_TEST', 'request_time': '2023-08-17T20:30:41+00:00', 'status_code': 'PENDING', 'user_id': 'cmarshak', 'name': 'track4-n3', 'job_parameters': {'compute_solid_earth_tide': True, 'estimate_ionosphere_delay': True, 'frame_id': 495, 'granules': ['S1A_IW_SLC__1SDV_20230409T230703_20230409T230730_048026_05C5CE_B1B6', 'S1A_IW_SLC__1SDV_20230409T230728_20230409T230755_048026_05C5CE_B253'], 'secondary_granules': ['S1A_IW_SLC__1SDV_20230328T230703_20230328T230730_047851_05BFE7_F2A7', 'S1A_IW_SLC__1SDV_20230328T230727_20230328T230754_047851_05BFE7_F06F'], 'weather_model': 'HRRR'}}),\n",
       " Job.from_dict({'job_id': 'aa474e2a-d51d-4911-a080-e98ae0e7d404', 'job_type': 'INSAR_ISCE_TEST', 'request_time': '2023-08-17T20:30:41+00:00', 'status_code': 'PENDING', 'user_id': 'cmarshak', 'name': 'track4-n3', 'job_parameters': {'compute_solid_earth_tide': True, 'estimate_ionosphere_delay': True, 'frame_id': 496, 'granules': ['S1A_IW_SLC__1SDV_20230409T230703_20230409T230730_048026_05C5CE_B1B6', 'S1A_IW_SLC__1SDV_20230409T230728_20230409T230755_048026_05C5CE_B253'], 'secondary_granules': ['S1A_IW_SLC__1SDV_20230328T230703_20230328T230730_047851_05BFE7_F2A7', 'S1A_IW_SLC__1SDV_20230328T230727_20230328T230754_047851_05BFE7_F06F'], 'weather_model': 'HRRR'}}),\n",
       " Job.from_dict({'job_id': '5110598f-6387-41d0-82b5-00654c05db12', 'job_type': 'INSAR_ISCE_TEST', 'request_time': '2023-08-17T20:30:41+00:00', 'status_code': 'PENDING', 'user_id': 'cmarshak', 'name': 'track4-n3', 'job_parameters': {'compute_solid_earth_tide': True, 'estimate_ionosphere_delay': True, 'frame_id': 497, 'granules': ['S1A_IW_SLC__1SDV_20230409T230728_20230409T230755_048026_05C5CE_B253', 'S1A_IW_SLC__1SDV_20230409T230753_20230409T230820_048026_05C5CE_3A60'], 'secondary_granules': ['S1A_IW_SLC__1SDV_20230328T230727_20230328T230754_047851_05BFE7_F06F', 'S1A_IW_SLC__1SDV_20230328T230752_20230328T230819_047851_05BFE7_E443'], 'weather_model': 'HRRR'}}),\n",
       " Job.from_dict({'job_id': '63948a50-0f60-4d50-adcc-4885b1a7e260', 'job_type': 'INSAR_ISCE_TEST', 'request_time': '2023-08-17T20:30:41+00:00', 'status_code': 'PENDING', 'user_id': 'cmarshak', 'name': 'track4-n3', 'job_parameters': {'compute_solid_earth_tide': True, 'estimate_ionosphere_delay': True, 'frame_id': 498, 'granules': ['S1A_IW_SLC__1SDV_20230409T230753_20230409T230820_048026_05C5CE_3A60', 'S1A_IW_SLC__1SDV_20230409T230818_20230409T230846_048026_05C5CE_B84D'], 'secondary_granules': ['S1A_IW_SLC__1SDV_20230328T230752_20230328T230819_047851_05BFE7_E443', 'S1A_IW_SLC__1SDV_20230328T230817_20230328T230845_047851_05BFE7_864B'], 'weather_model': 'HRRR'}}),\n",
       " Job.from_dict({'job_id': '6c14ca2a-529a-45fa-8222-717168adeb85', 'job_type': 'INSAR_ISCE_TEST', 'request_time': '2023-08-17T20:30:41+00:00', 'status_code': 'PENDING', 'user_id': 'cmarshak', 'name': 'track4-n3', 'job_parameters': {'compute_solid_earth_tide': True, 'estimate_ionosphere_delay': True, 'frame_id': 499, 'granules': ['S1A_IW_SLC__1SDV_20230409T230818_20230409T230846_048026_05C5CE_B84D', 'S1A_IW_SLC__1SDV_20230409T230843_20230409T230910_048026_05C5CE_37FD'], 'secondary_granules': ['S1A_IW_SLC__1SDV_20230328T230817_20230328T230845_047851_05BFE7_864B', 'S1A_IW_SLC__1SDV_20230328T230843_20230328T230910_047851_05BFE7_305B'], 'weather_model': 'HRRR'}})]"
      ]
     },
     "execution_count": 96,
     "metadata": {},
     "output_type": "execute_result"
    }
   ],
   "source": [
    "list(submitted_jobs)+ []"
   ]
  },
  {
   "cell_type": "code",
   "execution_count": 99,
   "id": "6d03e599",
   "metadata": {},
   "outputs": [],
   "source": [
    "# # For testing\n",
    "# submitted_jobs = list(hyp3_isce.submit_prepared_jobs(job_dicts_batches[0][:]))"
   ]
  },
  {
   "cell_type": "code",
   "execution_count": 102,
   "id": "2dc02480",
   "metadata": {},
   "outputs": [
    {
     "name": "stderr",
     "output_type": "stream",
     "text": [
      "100%|███████████████████████████████████████████████████████████████████████████████████████| 46/46 [03:25<00:00,  4.47s/it]\n"
     ]
    }
   ],
   "source": [
    "# submitted_jobs = []\n",
    "# for job_dict in tqdm(job_dicts_batches[1:]):\n",
    "#     submitted_jobs += list(hyp3_isce.submit_prepared_jobs(job_dict[:]))"
   ]
  },
  {
   "cell_type": "markdown",
   "id": "818689d9",
   "metadata": {},
   "source": [
    "Check status"
   ]
  },
  {
   "cell_type": "code",
   "execution_count": 129,
   "id": "dc96c110",
   "metadata": {
    "scrolled": false
   },
   "outputs": [
    {
     "name": "stdout",
     "output_type": "stream",
     "text": [
      "##########\n",
      "track4-n3\n",
      "9416 HyP3 Jobs: 9181 succeeded, 235 failed, 0 running, 0 pending.\n"
     ]
    }
   ],
   "source": [
    "for job_name in job_names_unique[:5]:\n",
    "    jobs = hyp3_isce.find_jobs(name=job_name)\n",
    "    print('#' * 10)\n",
    "    print(job_name)\n",
    "    print(jobs)"
   ]
  },
  {
   "cell_type": "markdown",
   "id": "249aa11b",
   "metadata": {},
   "source": [
    "# Failed jobs"
   ]
  },
  {
   "cell_type": "code",
   "execution_count": 130,
   "id": "4d52da8b",
   "metadata": {},
   "outputs": [
    {
     "data": {
      "text/plain": [
       "'track4-n3'"
      ]
     },
     "execution_count": 130,
     "metadata": {},
     "output_type": "execute_result"
    }
   ],
   "source": [
    "job_names_unique[0]"
   ]
  },
  {
   "cell_type": "code",
   "execution_count": 131,
   "id": "41076f15",
   "metadata": {},
   "outputs": [
    {
     "data": {
      "text/plain": [
       "[{'job_id': '38934b6c-9770-469f-b3fd-64852193fc75',\n",
       "  'job_type': 'INSAR_ISCE_TEST',\n",
       "  'request_time': '2023-08-17T20:30:41+00:00',\n",
       "  'status_code': 'FAILED',\n",
       "  'user_id': 'cmarshak',\n",
       "  'name': 'track4-n3',\n",
       "  'job_parameters': {'compute_solid_earth_tide': True,\n",
       "   'estimate_ionosphere_delay': True,\n",
       "   'frame_id': 496,\n",
       "   'granules': ['S1A_IW_SLC__1SDV_20230807T230709_20230807T230736_049776_05FC51_0329',\n",
       "    'S1A_IW_SLC__1SDV_20230807T230734_20230807T230801_049776_05FC51_7667'],\n",
       "   'secondary_granules': ['S1A_IW_SLC__1SDV_20230608T230705_20230608T230732_048901_05E173_82F6',\n",
       "    'S1A_IW_SLC__1SDV_20230608T230730_20230608T230757_048901_05E173_21C5'],\n",
       "   'weather_model': 'HRRR'},\n",
       "  'logs': ['https://hyp3-tibet-jpl-contentbucket-81rn23hp7ppf.s3.us-west-2.amazonaws.com/38934b6c-9770-469f-b3fd-64852193fc75/38934b6c-9770-469f-b3fd-64852193fc75.log'],\n",
       "  'expiration_time': '2023-09-02T00:00:00+00:00',\n",
       "  'processing_times': [9362.393, 6.399]},\n",
       " {'job_id': '7d1974bc-b857-4f54-9c9b-5c8756bf4a3d',\n",
       "  'job_type': 'INSAR_ISCE_TEST',\n",
       "  'request_time': '2023-08-17T20:30:41+00:00',\n",
       "  'status_code': 'FAILED',\n",
       "  'user_id': 'cmarshak',\n",
       "  'name': 'track4-n3',\n",
       "  'job_parameters': {'compute_solid_earth_tide': True,\n",
       "   'estimate_ionosphere_delay': True,\n",
       "   'frame_id': 499,\n",
       "   'granules': ['S1A_IW_SLC__1SDV_20230714T230823_20230714T230851_049426_05F188_40C8',\n",
       "    'S1A_IW_SLC__1SDV_20230714T230848_20230714T230915_049426_05F188_3D2C'],\n",
       "   'secondary_granules': ['S1A_IW_SLC__1SDV_20230620T230821_20230620T230849_049076_05E6CC_4BC4',\n",
       "    'S1A_IW_SLC__1SDV_20230620T230847_20230620T230914_049076_05E6CC_63F7'],\n",
       "   'weather_model': 'HRRR'},\n",
       "  'logs': ['https://hyp3-tibet-jpl-contentbucket-81rn23hp7ppf.s3.us-west-2.amazonaws.com/7d1974bc-b857-4f54-9c9b-5c8756bf4a3d/7d1974bc-b857-4f54-9c9b-5c8756bf4a3d.log'],\n",
       "  'expiration_time': '2023-09-01T00:00:00+00:00',\n",
       "  'processing_times': [969.118]},\n",
       " {'job_id': 'ffe34fca-16e6-49b1-a260-2974b62b9236',\n",
       "  'job_type': 'INSAR_ISCE_TEST',\n",
       "  'request_time': '2023-08-17T20:30:41+00:00',\n",
       "  'status_code': 'FAILED',\n",
       "  'user_id': 'cmarshak',\n",
       "  'name': 'track4-n3',\n",
       "  'job_parameters': {'compute_solid_earth_tide': True,\n",
       "   'estimate_ionosphere_delay': True,\n",
       "   'frame_id': 497,\n",
       "   'granules': ['S1A_IW_SLC__1SDV_20230620T230731_20230620T230758_049076_05E6CC_F82A',\n",
       "    'S1A_IW_SLC__1SDV_20230620T230756_20230620T230823_049076_05E6CC_8269'],\n",
       "   'secondary_granules': ['S1A_IW_SLC__1SDV_20230515T230730_20230515T230757_048551_05D700_A87F',\n",
       "    'S1A_IW_SLC__1SDV_20230515T230754_20230515T230821_048551_05D700_2325'],\n",
       "   'weather_model': 'HRRR'},\n",
       "  'logs': ['https://hyp3-tibet-jpl-contentbucket-81rn23hp7ppf.s3.us-west-2.amazonaws.com/ffe34fca-16e6-49b1-a260-2974b62b9236/ffe34fca-16e6-49b1-a260-2974b62b9236.log'],\n",
       "  'expiration_time': '2023-09-01T00:00:00+00:00',\n",
       "  'processing_times': [806.696]}]"
      ]
     },
     "execution_count": 131,
     "metadata": {},
     "output_type": "execute_result"
    }
   ],
   "source": [
    "failed_jobs = hyp3_isce.find_jobs(name=job_names_unique[0], status_code='FAILED')\n",
    "dicts_failed = [j.to_dict() for j in failed_jobs]\n",
    "dicts_failed[-3:]"
   ]
  }
 ],
 "metadata": {
  "kernelspec": {
   "display_name": "aria_hyp3_env",
   "language": "python",
   "name": "aria_hyp3_env"
  },
  "language_info": {
   "codemirror_mode": {
    "name": "ipython",
    "version": 3
   },
   "file_extension": ".py",
   "mimetype": "text/x-python",
   "name": "python",
   "nbconvert_exporter": "python",
   "pygments_lexer": "ipython3",
   "version": "3.11.3"
  }
 },
 "nbformat": 4,
 "nbformat_minor": 5
}
