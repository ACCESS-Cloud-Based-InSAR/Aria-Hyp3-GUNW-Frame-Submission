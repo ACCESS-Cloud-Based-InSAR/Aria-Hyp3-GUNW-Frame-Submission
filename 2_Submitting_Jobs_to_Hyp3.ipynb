{
 "cells": [
  {
   "cell_type": "markdown",
   "id": "8d98cf5b",
   "metadata": {},
   "source": [
    "This notebook takes the enumerated jobs in the previous notebook and makes ure"
   ]
  },
  {
   "cell_type": "code",
   "execution_count": 1,
   "id": "428752af",
   "metadata": {},
   "outputs": [],
   "source": [
    "import geopandas as gpd\n",
    "import yaml\n",
    "from tqdm import tqdm\n",
    "from pathlib import Path\n",
    "import pandas as pd\n",
    "import asf_search as asf\n",
    "from datetime import timedelta\n",
    "from dateparser import parse\n",
    "import concurrent.futures\n",
    "import hyp3_sdk\n",
    "import numpy as np\n",
    "from enum_utils import get_enum_dir, get_stack_dir"
   ]
  },
  {
   "cell_type": "markdown",
   "id": "3f097c61",
   "metadata": {},
   "source": [
    "# Setup"
   ]
  },
  {
   "cell_type": "code",
   "execution_count": 2,
   "id": "7cf5b30d",
   "metadata": {},
   "outputs": [],
   "source": [
    "YAML_FILE = 'enumeration_parameters.yml'\n",
    "with open(YAML_FILE) as f:\n",
    "    enum_params = yaml.safe_load(f)['enumeration_parameters']"
   ]
  },
  {
   "cell_type": "code",
   "execution_count": 3,
   "id": "5beaae44",
   "metadata": {},
   "outputs": [],
   "source": [
    "AOI_NAME = enum_params['aoi_name']\n",
    "NEIGHBORS = enum_params['neighbors']"
   ]
  },
  {
   "cell_type": "code",
   "execution_count": 4,
   "id": "14ae9b92",
   "metadata": {},
   "outputs": [],
   "source": [
    "stack_dir = get_stack_dir(AOI_NAME)\n",
    "enum_dir = get_enum_dir(AOI_NAME, NEIGHBORS)\n",
    "assert enum_dir.exists()"
   ]
  },
  {
   "cell_type": "code",
   "execution_count": 5,
   "id": "32f07ae2",
   "metadata": {},
   "outputs": [
    {
     "data": {
      "text/plain": [
       "('us_east',\n",
       " PosixPath('out/us_east/enum/neighbors_3'),\n",
       " PosixPath('out/us_east/stack'))"
      ]
     },
     "execution_count": 5,
     "metadata": {},
     "output_type": "execute_result"
    }
   ],
   "source": [
    "AOI_NAME, enum_dir, stack_dir"
   ]
  },
  {
   "cell_type": "markdown",
   "id": "da4f2622",
   "metadata": {},
   "source": [
    "# Read enumeration data"
   ]
  },
  {
   "cell_type": "code",
   "execution_count": 6,
   "id": "7157c26d",
   "metadata": {},
   "outputs": [
    {
     "name": "stderr",
     "output_type": "stream",
     "text": [
      "100%|███████████████████████████████████████████████████████████████████████████████████████| 23/23 [00:06<00:00,  3.76it/s]\n"
     ]
    },
    {
     "data": {
      "text/html": [
       "<div>\n",
       "<style scoped>\n",
       "    .dataframe tbody tr th:only-of-type {\n",
       "        vertical-align: middle;\n",
       "    }\n",
       "\n",
       "    .dataframe tbody tr th {\n",
       "        vertical-align: top;\n",
       "    }\n",
       "\n",
       "    .dataframe thead th {\n",
       "        text-align: right;\n",
       "    }\n",
       "</style>\n",
       "<table border=\"1\" class=\"dataframe\">\n",
       "  <thead>\n",
       "    <tr style=\"text-align: right;\">\n",
       "      <th></th>\n",
       "      <th>reference</th>\n",
       "      <th>secondary</th>\n",
       "      <th>reference_date</th>\n",
       "      <th>secondary_date</th>\n",
       "      <th>frame_id</th>\n",
       "      <th>track_aoi_key</th>\n",
       "      <th>aoi_name</th>\n",
       "      <th>neighbors</th>\n",
       "      <th>geometry</th>\n",
       "    </tr>\n",
       "  </thead>\n",
       "  <tbody>\n",
       "    <tr>\n",
       "      <th>0</th>\n",
       "      <td>S1A_IW_SLC__1SDV_20230721T225841_20230721T2259...</td>\n",
       "      <td>S1A_IW_SLC__1SDV_20230709T225840_20230709T2259...</td>\n",
       "      <td>2023-07-21</td>\n",
       "      <td>2023-07-09</td>\n",
       "      <td>16417.0</td>\n",
       "      <td>track106</td>\n",
       "      <td>us_east</td>\n",
       "      <td>3.0</td>\n",
       "      <td>POLYGON Z ((-76.48738 37.52033 0.00000, -76.69...</td>\n",
       "    </tr>\n",
       "    <tr>\n",
       "      <th>1</th>\n",
       "      <td>S1A_IW_SLC__1SDV_20230721T225907_20230721T2259...</td>\n",
       "      <td>S1A_IW_SLC__1SDV_20230709T225906_20230709T2259...</td>\n",
       "      <td>2023-07-21</td>\n",
       "      <td>2023-07-09</td>\n",
       "      <td>16418.0</td>\n",
       "      <td>track106</td>\n",
       "      <td>us_east</td>\n",
       "      <td>3.0</td>\n",
       "      <td>POLYGON Z ((-76.76865 38.68045 0.00000, -77.02...</td>\n",
       "    </tr>\n",
       "    <tr>\n",
       "      <th>2</th>\n",
       "      <td>S1A_IW_SLC__1SDV_20230721T225907_20230721T2259...</td>\n",
       "      <td>S1A_IW_SLC__1SDV_20230709T225906_20230709T2259...</td>\n",
       "      <td>2023-07-21</td>\n",
       "      <td>2023-07-09</td>\n",
       "      <td>16419.0</td>\n",
       "      <td>track106</td>\n",
       "      <td>us_east</td>\n",
       "      <td>3.0</td>\n",
       "      <td>POLYGON Z ((-77.05876 39.85632 0.00000, -77.31...</td>\n",
       "    </tr>\n",
       "    <tr>\n",
       "      <th>3</th>\n",
       "      <td>S1A_IW_SLC__1SDV_20230721T225932_20230721T2259...</td>\n",
       "      <td>S1A_IW_SLC__1SDV_20230709T225931_20230709T2259...</td>\n",
       "      <td>2023-07-21</td>\n",
       "      <td>2023-07-09</td>\n",
       "      <td>16420.0</td>\n",
       "      <td>track106</td>\n",
       "      <td>us_east</td>\n",
       "      <td>3.0</td>\n",
       "      <td>POLYGON Z ((-77.35151 41.00204 0.00000, -77.39...</td>\n",
       "    </tr>\n",
       "    <tr>\n",
       "      <th>4</th>\n",
       "      <td>S1A_IW_SLC__1SDV_20230721T225956_20230721T2300...</td>\n",
       "      <td>S1A_IW_SLC__1SDV_20230709T225956_20230709T2300...</td>\n",
       "      <td>2023-07-21</td>\n",
       "      <td>2023-07-09</td>\n",
       "      <td>16421.0</td>\n",
       "      <td>track106</td>\n",
       "      <td>us_east</td>\n",
       "      <td>3.0</td>\n",
       "      <td>POLYGON Z ((-77.64872 42.16093 0.00000, -77.78...</td>\n",
       "    </tr>\n",
       "  </tbody>\n",
       "</table>\n",
       "</div>"
      ],
      "text/plain": [
       "                                           reference   \n",
       "0  S1A_IW_SLC__1SDV_20230721T225841_20230721T2259...  \\\n",
       "1  S1A_IW_SLC__1SDV_20230721T225907_20230721T2259...   \n",
       "2  S1A_IW_SLC__1SDV_20230721T225907_20230721T2259...   \n",
       "3  S1A_IW_SLC__1SDV_20230721T225932_20230721T2259...   \n",
       "4  S1A_IW_SLC__1SDV_20230721T225956_20230721T2300...   \n",
       "\n",
       "                                           secondary reference_date   \n",
       "0  S1A_IW_SLC__1SDV_20230709T225840_20230709T2259...     2023-07-21  \\\n",
       "1  S1A_IW_SLC__1SDV_20230709T225906_20230709T2259...     2023-07-21   \n",
       "2  S1A_IW_SLC__1SDV_20230709T225906_20230709T2259...     2023-07-21   \n",
       "3  S1A_IW_SLC__1SDV_20230709T225931_20230709T2259...     2023-07-21   \n",
       "4  S1A_IW_SLC__1SDV_20230709T225956_20230709T2300...     2023-07-21   \n",
       "\n",
       "  secondary_date  frame_id track_aoi_key aoi_name  neighbors   \n",
       "0     2023-07-09   16417.0      track106  us_east        3.0  \\\n",
       "1     2023-07-09   16418.0      track106  us_east        3.0   \n",
       "2     2023-07-09   16419.0      track106  us_east        3.0   \n",
       "3     2023-07-09   16420.0      track106  us_east        3.0   \n",
       "4     2023-07-09   16421.0      track106  us_east        3.0   \n",
       "\n",
       "                                            geometry  \n",
       "0  POLYGON Z ((-76.48738 37.52033 0.00000, -76.69...  \n",
       "1  POLYGON Z ((-76.76865 38.68045 0.00000, -77.02...  \n",
       "2  POLYGON Z ((-77.05876 39.85632 0.00000, -77.31...  \n",
       "3  POLYGON Z ((-77.35151 41.00204 0.00000, -77.39...  \n",
       "4  POLYGON Z ((-77.64872 42.16093 0.00000, -77.78...  "
      ]
     },
     "execution_count": 6,
     "metadata": {},
     "output_type": "execute_result"
    }
   ],
   "source": [
    "dfs = [gpd.read_file(p) for p in tqdm(list(enum_dir.glob('*.geojson')))]\n",
    "df_ifg = pd.concat(dfs, axis=0)\n",
    "df_ifg.head()"
   ]
  },
  {
   "cell_type": "markdown",
   "id": "824695f7",
   "metadata": {},
   "source": [
    "# Filtering Jobs (Optional)\n",
    "\n",
    "When first submitting jobs, you may just want to submit one track at a time. Easiest to filter on the dataframe with all the IFGs. That's what we will do. Below shows how to filter on a single \"track_aoi_id\"."
   ]
  },
  {
   "cell_type": "code",
   "execution_count": 7,
   "id": "5c1f7e6e",
   "metadata": {},
   "outputs": [],
   "source": [
    "# df_ifg_submission = df_ifg.copy()"
   ]
  },
  {
   "cell_type": "code",
   "execution_count": 8,
   "id": "d5096c10",
   "metadata": {},
   "outputs": [
    {
     "data": {
      "text/html": [
       "<div>\n",
       "<style scoped>\n",
       "    .dataframe tbody tr th:only-of-type {\n",
       "        vertical-align: middle;\n",
       "    }\n",
       "\n",
       "    .dataframe tbody tr th {\n",
       "        vertical-align: top;\n",
       "    }\n",
       "\n",
       "    .dataframe thead th {\n",
       "        text-align: right;\n",
       "    }\n",
       "</style>\n",
       "<table border=\"1\" class=\"dataframe\">\n",
       "  <thead>\n",
       "    <tr style=\"text-align: right;\">\n",
       "      <th></th>\n",
       "      <th>reference</th>\n",
       "      <th>secondary</th>\n",
       "      <th>reference_date</th>\n",
       "      <th>secondary_date</th>\n",
       "      <th>frame_id</th>\n",
       "      <th>track_aoi_key</th>\n",
       "      <th>aoi_name</th>\n",
       "      <th>neighbors</th>\n",
       "      <th>geometry</th>\n",
       "    </tr>\n",
       "  </thead>\n",
       "  <tbody>\n",
       "    <tr>\n",
       "      <th>0</th>\n",
       "      <td>S1A_IW_SLC__1SDV_20230807T230554_20230807T2306...</td>\n",
       "      <td>S1A_IW_SLC__1SDV_20230714T230553_20230714T2306...</td>\n",
       "      <td>2023-08-07</td>\n",
       "      <td>2023-07-14</td>\n",
       "      <td>492.0</td>\n",
       "      <td>track4</td>\n",
       "      <td>us_east</td>\n",
       "      <td>3.0</td>\n",
       "      <td>POLYGON Z ((-77.82534 34.47332 0.00000, -78.06...</td>\n",
       "    </tr>\n",
       "    <tr>\n",
       "      <th>1</th>\n",
       "      <td>S1A_IW_SLC__1SDV_20230807T230619_20230807T2306...</td>\n",
       "      <td>S1A_IW_SLC__1SDV_20230714T230618_20230714T2306...</td>\n",
       "      <td>2023-08-07</td>\n",
       "      <td>2023-07-14</td>\n",
       "      <td>493.0</td>\n",
       "      <td>track4</td>\n",
       "      <td>us_east</td>\n",
       "      <td>3.0</td>\n",
       "      <td>POLYGON Z ((-78.09591 35.63539 0.00000, -78.33...</td>\n",
       "    </tr>\n",
       "    <tr>\n",
       "      <th>2</th>\n",
       "      <td>S1A_IW_SLC__1SDV_20230807T230644_20230807T2307...</td>\n",
       "      <td>S1A_IW_SLC__1SDV_20230714T230643_20230714T2307...</td>\n",
       "      <td>2023-08-07</td>\n",
       "      <td>2023-07-14</td>\n",
       "      <td>494.0</td>\n",
       "      <td>track4</td>\n",
       "      <td>us_east</td>\n",
       "      <td>3.0</td>\n",
       "      <td>POLYGON Z ((-78.37797 36.81111 0.00000, -78.41...</td>\n",
       "    </tr>\n",
       "    <tr>\n",
       "      <th>3</th>\n",
       "      <td>S1A_IW_SLC__1SDV_20230807T230709_20230807T2307...</td>\n",
       "      <td>S1A_IW_SLC__1SDV_20230714T230708_20230714T2307...</td>\n",
       "      <td>2023-08-07</td>\n",
       "      <td>2023-07-14</td>\n",
       "      <td>495.0</td>\n",
       "      <td>track4</td>\n",
       "      <td>us_east</td>\n",
       "      <td>3.0</td>\n",
       "      <td>POLYGON Z ((-78.65322 37.95742 0.00000, -78.73...</td>\n",
       "    </tr>\n",
       "    <tr>\n",
       "      <th>4</th>\n",
       "      <td>S1A_IW_SLC__1SDV_20230807T230709_20230807T2307...</td>\n",
       "      <td>S1A_IW_SLC__1SDV_20230714T230708_20230714T2307...</td>\n",
       "      <td>2023-08-07</td>\n",
       "      <td>2023-07-14</td>\n",
       "      <td>496.0</td>\n",
       "      <td>track4</td>\n",
       "      <td>us_east</td>\n",
       "      <td>3.0</td>\n",
       "      <td>POLYGON Z ((-78.93684 39.11929 0.00000, -79.10...</td>\n",
       "    </tr>\n",
       "  </tbody>\n",
       "</table>\n",
       "</div>"
      ],
      "text/plain": [
       "                                           reference   \n",
       "0  S1A_IW_SLC__1SDV_20230807T230554_20230807T2306...  \\\n",
       "1  S1A_IW_SLC__1SDV_20230807T230619_20230807T2306...   \n",
       "2  S1A_IW_SLC__1SDV_20230807T230644_20230807T2307...   \n",
       "3  S1A_IW_SLC__1SDV_20230807T230709_20230807T2307...   \n",
       "4  S1A_IW_SLC__1SDV_20230807T230709_20230807T2307...   \n",
       "\n",
       "                                           secondary reference_date   \n",
       "0  S1A_IW_SLC__1SDV_20230714T230553_20230714T2306...     2023-08-07  \\\n",
       "1  S1A_IW_SLC__1SDV_20230714T230618_20230714T2306...     2023-08-07   \n",
       "2  S1A_IW_SLC__1SDV_20230714T230643_20230714T2307...     2023-08-07   \n",
       "3  S1A_IW_SLC__1SDV_20230714T230708_20230714T2307...     2023-08-07   \n",
       "4  S1A_IW_SLC__1SDV_20230714T230708_20230714T2307...     2023-08-07   \n",
       "\n",
       "  secondary_date  frame_id track_aoi_key aoi_name  neighbors   \n",
       "0     2023-07-14     492.0        track4  us_east        3.0  \\\n",
       "1     2023-07-14     493.0        track4  us_east        3.0   \n",
       "2     2023-07-14     494.0        track4  us_east        3.0   \n",
       "3     2023-07-14     495.0        track4  us_east        3.0   \n",
       "4     2023-07-14     496.0        track4  us_east        3.0   \n",
       "\n",
       "                                            geometry  \n",
       "0  POLYGON Z ((-77.82534 34.47332 0.00000, -78.06...  \n",
       "1  POLYGON Z ((-78.09591 35.63539 0.00000, -78.33...  \n",
       "2  POLYGON Z ((-78.37797 36.81111 0.00000, -78.41...  \n",
       "3  POLYGON Z ((-78.65322 37.95742 0.00000, -78.73...  \n",
       "4  POLYGON Z ((-78.93684 39.11929 0.00000, -79.10...  "
      ]
     },
     "execution_count": 8,
     "metadata": {},
     "output_type": "execute_result"
    }
   ],
   "source": [
    "df_ifg_submission = df_ifg[df_ifg.track_aoi_key == 'track4'].reset_index(drop=True)\n",
    "df_ifg_submission.head()"
   ]
  },
  {
   "cell_type": "code",
   "execution_count": 9,
   "id": "668e2bdb",
   "metadata": {},
   "outputs": [
    {
     "data": {
      "text/plain": [
       "(9416, 9)"
      ]
     },
     "execution_count": 9,
     "metadata": {},
     "output_type": "execute_result"
    }
   ],
   "source": [
    "df_ifg_submission.shape"
   ]
  },
  {
   "cell_type": "markdown",
   "id": "2196a0aa",
   "metadata": {},
   "source": [
    "# Deduplication of IFGs CMR - WIP - Requires CMR Ingest\n",
    "\n",
    "Once we have CMR ingesting jobs, we can use this as the reference for data has been processed. We will use the fixed frames. See this [PR](https://github.com/asfadmin/Discovery-asf_search/issues/198) for more details about how this feature is access through ASF Search.\n",
    "\n",
    "The raw CMR command for a comparable query is:\n",
    "```\n",
    "https://cmr.uat.earthdata.nasa.gov/search/granules.umm_json?short_name=SENTINEL-1_INTERFEROGRAMS&temporal=2022-02-24T00:00:00Z,2022-02-25T00:00:00Z&attribute[]=int,FRAME_NUMBER,25502&attribute[]=int,TEMPORAL_BASELINE_DAYS,12\n",
    "```"
   ]
  },
  {
   "cell_type": "code",
   "execution_count": 10,
   "id": "bb2753ac",
   "metadata": {},
   "outputs": [],
   "source": [
    "def get_gunw_hits(record):\n",
    "\n",
    "    frame_id = int(record['frame_id'])\n",
    "    ref_date = parse(record['reference_date'])\n",
    "    sec_date = parse(record['secondary_date'])\n",
    "    \n",
    "    start = ref_date - timedelta(days=.5)\n",
    "    end = ref_date + timedelta(days=.5)\n",
    "    tb_days = (ref_date - sec_date).days\n",
    "    \n",
    "\n",
    "    opts = asf.ASFSearchOptions(host='cmr.uat.earthdata.nasa.gov', \n",
    "                                platform=asf.SENTINEL1,\n",
    "                                processingLevel=asf.constants.GUNW_STD,\n",
    "                                frame=frame_id, \n",
    "                                start=start, \n",
    "                                end=end, \n",
    "                                temporalBaselineDays=[tb_days],\n",
    "                                maxResults=5\n",
    "                                )\n",
    "    \n",
    "    results = asf.search(opts=opts)\n",
    "    return len(results)"
   ]
  },
  {
   "cell_type": "code",
   "execution_count": 11,
   "id": "541a2842",
   "metadata": {},
   "outputs": [],
   "source": [
    "submission_records = df_ifg_submission.to_dict('records')\n",
    "#get_gunw_hits(submission_records[0])"
   ]
  },
  {
   "cell_type": "code",
   "execution_count": 12,
   "id": "0d7257fc",
   "metadata": {},
   "outputs": [],
   "source": [
    "# n = len(submission_records)\n",
    "# with concurrent.futures.ThreadPoolExecutor(max_workers=5) as executor:\n",
    "#     ifg_hits_cmr = list(tqdm(executor.map(get_gunw_hits, submission_records[:100]), total=n))"
   ]
  },
  {
   "cell_type": "code",
   "execution_count": 13,
   "id": "0fa23e3f",
   "metadata": {},
   "outputs": [
    {
     "data": {
      "text/plain": [
       "{'reference': 'S1A_IW_SLC__1SDV_20230807T230554_20230807T230621_049776_05FC51_A90F S1A_IW_SLC__1SDV_20230807T230619_20230807T230646_049776_05FC51_59B8',\n",
       " 'secondary': 'S1A_IW_SLC__1SDV_20230714T230553_20230714T230620_049426_05F188_7C0A S1A_IW_SLC__1SDV_20230714T230618_20230714T230645_049426_05F188_7317',\n",
       " 'reference_date': '2023-08-07',\n",
       " 'secondary_date': '2023-07-14',\n",
       " 'frame_id': 492.0,\n",
       " 'track_aoi_key': 'track4',\n",
       " 'aoi_name': 'us_east',\n",
       " 'neighbors': 3.0,\n",
       " 'geometry': <POLYGON Z ((-77.825 34.473 0, -78.064 35.483 0, -78.06 35.484 0, -78.061 35...>}"
      ]
     },
     "execution_count": 13,
     "metadata": {},
     "output_type": "execute_result"
    }
   ],
   "source": [
    "submission_records[0]"
   ]
  },
  {
   "cell_type": "code",
   "execution_count": 14,
   "id": "3dccc001",
   "metadata": {},
   "outputs": [],
   "source": [
    "# TODO: set to ifg_hits_cmr\n",
    "df_ifg_submission['cmr_hits'] = 0"
   ]
  },
  {
   "cell_type": "markdown",
   "id": "cb20cd42",
   "metadata": {},
   "source": [
    "# Format Job Parameters\n",
    "\n",
    "We format the dictionary of inputs for the interferograms (IFGs) into the format required by Hyp3 (just reformats into another dictionary)."
   ]
  },
  {
   "cell_type": "code",
   "execution_count": 15,
   "id": "efa3199f",
   "metadata": {},
   "outputs": [],
   "source": [
    "IONO_CORRECTION = True\n",
    "SET_CORRECTION = True\n",
    "weather_model = 'HRRR'"
   ]
  },
  {
   "cell_type": "code",
   "execution_count": 16,
   "id": "5a208312",
   "metadata": {},
   "outputs": [
    {
     "data": {
      "text/plain": [
       "{'reference': 'S1A_IW_SLC__1SDV_20230807T230554_20230807T230621_049776_05FC51_A90F S1A_IW_SLC__1SDV_20230807T230619_20230807T230646_049776_05FC51_59B8',\n",
       " 'secondary': 'S1A_IW_SLC__1SDV_20230714T230553_20230714T230620_049426_05F188_7C0A S1A_IW_SLC__1SDV_20230714T230618_20230714T230645_049426_05F188_7317',\n",
       " 'reference_date': '2023-08-07',\n",
       " 'secondary_date': '2023-07-14',\n",
       " 'frame_id': 492.0,\n",
       " 'track_aoi_key': 'track4',\n",
       " 'aoi_name': 'us_east',\n",
       " 'neighbors': 3.0,\n",
       " 'geometry': <POLYGON Z ((-77.825 34.473 0, -78.064 35.483 0, -78.06 35.484 0, -78.061 35...>}"
      ]
     },
     "execution_count": 16,
     "metadata": {},
     "output_type": "execute_result"
    }
   ],
   "source": [
    "submission_records[0]"
   ]
  },
  {
   "cell_type": "code",
   "execution_count": 17,
   "id": "18a418d5",
   "metadata": {},
   "outputs": [],
   "source": [
    "def generate_job_name(record):\n",
    "    track_key = record['track_aoi_key']\n",
    "    aoi_name = record['aoi_name']\n",
    "    neighbor = str(int(record['neighbors']))\n",
    "    # frame_id = str(int(record['frame_id']))\n",
    "    return f'{track_key}-n{neighbor}'"
   ]
  },
  {
   "cell_type": "code",
   "execution_count": 18,
   "id": "21f8d49e",
   "metadata": {},
   "outputs": [
    {
     "data": {
      "text/plain": [
       "['track4-n3']"
      ]
     },
     "execution_count": 18,
     "metadata": {},
     "output_type": "execute_result"
    }
   ],
   "source": [
    "job_names = list(map(generate_job_name, submission_records))\n",
    "job_names_unique = sorted(list(set(job_names)))\n",
    "job_names_unique[:5]"
   ]
  },
  {
   "cell_type": "code",
   "execution_count": 19,
   "id": "261982df",
   "metadata": {},
   "outputs": [
    {
     "data": {
      "text/plain": [
       "[{'name': 'track4-n3',\n",
       "  'job_type': 'INSAR_ISCE_TEST',\n",
       "  'job_parameters': {'granules': ['S1A_IW_SLC__1SDV_20230807T230554_20230807T230621_049776_05FC51_A90F',\n",
       "    'S1A_IW_SLC__1SDV_20230807T230619_20230807T230646_049776_05FC51_59B8'],\n",
       "   'secondary_granules': ['S1A_IW_SLC__1SDV_20230714T230553_20230714T230620_049426_05F188_7C0A',\n",
       "    'S1A_IW_SLC__1SDV_20230714T230618_20230714T230645_049426_05F188_7317'],\n",
       "   'frame_id': 492,\n",
       "   'weather_model': 'HRRR',\n",
       "   'estimate_ionosphere_delay': True,\n",
       "   'compute_solid_earth_tide': True}},\n",
       " {'name': 'track4-n3',\n",
       "  'job_type': 'INSAR_ISCE_TEST',\n",
       "  'job_parameters': {'granules': ['S1A_IW_SLC__1SDV_20230807T230619_20230807T230646_049776_05FC51_59B8',\n",
       "    'S1A_IW_SLC__1SDV_20230807T230644_20230807T230711_049776_05FC51_52AC'],\n",
       "   'secondary_granules': ['S1A_IW_SLC__1SDV_20230714T230618_20230714T230645_049426_05F188_7317',\n",
       "    'S1A_IW_SLC__1SDV_20230714T230643_20230714T230710_049426_05F188_8808'],\n",
       "   'frame_id': 493,\n",
       "   'weather_model': 'HRRR',\n",
       "   'estimate_ionosphere_delay': True,\n",
       "   'compute_solid_earth_tide': True}}]"
      ]
     },
     "execution_count": 19,
     "metadata": {},
     "output_type": "execute_result"
    }
   ],
   "source": [
    "job_parameters = [{'granules': record['reference'].split(' '),\n",
    "                   'secondary_granules': record['secondary'].split(' '),\n",
    "                   'frame_id': int(record['frame_id']),\n",
    "                   'weather_model': weather_model,\n",
    "                   'estimate_ionosphere_delay': IONO_CORRECTION,\n",
    "                   'compute_solid_earth_tide': SET_CORRECTION,\n",
    "                  } for record in submission_records]\n",
    "\n",
    "job_dicts = [{'name': job_name,\n",
    "              # NOTE: we are still using the `dev` branch. Change this to \"INSAR_ISCE\" to use the `main` branch.\n",
    "              'job_type': 'INSAR_ISCE_TEST',\n",
    "              'job_parameters': parameters\n",
    "             }\n",
    "             for parameters, job_name in zip(job_parameters, job_names) ]\n",
    "job_dicts[:2]"
   ]
  },
  {
   "cell_type": "markdown",
   "id": "7beca279",
   "metadata": {},
   "source": [
    "# Submit Jobs to Hyp3\n",
    "\n",
    "This is where we take the job dictionaries and submit them to Hyp3. Note, we have different AWS accounts associated to different API endpoints i.e. `hyp3-a19-jpl` and `hyp3-tibet-jpl` are different AWS accounts using the same workflow and are separated for accounting purposes."
   ]
  },
  {
   "cell_type": "code",
   "execution_count": 20,
   "id": "7a08fe18",
   "metadata": {},
   "outputs": [],
   "source": [
    "# uses .netrc; add `prompt=True` to prompt for credentials; \n",
    "#hyp3_isce = hyp3_sdk.HyP3('https://hyp3-a19-jpl.asf.alaska.edu')\n",
    "hyp3_isce = hyp3_sdk.HyP3('https://hyp3-tibet-jpl.asf.alaska.edu')"
   ]
  },
  {
   "cell_type": "markdown",
   "id": "91214357",
   "metadata": {},
   "source": [
    "Hyp3 requires us to submit 200 jobs at a time."
   ]
  },
  {
   "cell_type": "code",
   "execution_count": 21,
   "id": "047664aa",
   "metadata": {},
   "outputs": [],
   "source": [
    "N_batches = int(np.ceil(len(job_dicts) / 200))\n",
    "job_dicts_batches = [job_dicts[200 * k : 200 * (k + 1)] for k in range(N_batches)]"
   ]
  },
  {
   "cell_type": "markdown",
   "id": "91646621",
   "metadata": {},
   "source": [
    "Below these are what should be uncommented to actually submit the jobs."
   ]
  },
  {
   "cell_type": "code",
   "execution_count": 22,
   "id": "6d03e599",
   "metadata": {},
   "outputs": [],
   "source": [
    "# # For testing\n",
    "# submitted_jobs = list(hyp3_isce.submit_prepared_jobs(job_dicts_batches[0][:]))"
   ]
  },
  {
   "cell_type": "code",
   "execution_count": 23,
   "id": "2dc02480",
   "metadata": {},
   "outputs": [],
   "source": [
    "# submitted_jobs = []\n",
    "# for job_dict in tqdm(job_dicts_batches[1:]):\n",
    "#     submitted_jobs += list(hyp3_isce.submit_prepared_jobs(job_dict[:]))"
   ]
  },
  {
   "cell_type": "markdown",
   "id": "818689d9",
   "metadata": {},
   "source": [
    "Check status"
   ]
  },
  {
   "cell_type": "code",
   "execution_count": 24,
   "id": "dc96c110",
   "metadata": {
    "scrolled": false
   },
   "outputs": [
    {
     "name": "stdout",
     "output_type": "stream",
     "text": [
      "##########\n",
      "track4-n3\n",
      "9416 HyP3 Jobs: 9181 succeeded, 235 failed, 0 running, 0 pending.\n"
     ]
    }
   ],
   "source": [
    "for job_name in job_names_unique[:5]:\n",
    "    jobs = hyp3_isce.find_jobs(name=job_name)\n",
    "    print('#' * 10)\n",
    "    print(job_name)\n",
    "    print(jobs)"
   ]
  },
  {
   "cell_type": "markdown",
   "id": "249aa11b",
   "metadata": {},
   "source": [
    "# Failed jobs"
   ]
  },
  {
   "cell_type": "code",
   "execution_count": 25,
   "id": "4d52da8b",
   "metadata": {},
   "outputs": [
    {
     "data": {
      "text/plain": [
       "'track4-n3'"
      ]
     },
     "execution_count": 25,
     "metadata": {},
     "output_type": "execute_result"
    }
   ],
   "source": [
    "job_names_unique[0]"
   ]
  },
  {
   "cell_type": "code",
   "execution_count": 26,
   "id": "41076f15",
   "metadata": {},
   "outputs": [
    {
     "data": {
      "text/plain": [
       "[{'job_id': '38934b6c-9770-469f-b3fd-64852193fc75',\n",
       "  'job_type': 'INSAR_ISCE_TEST',\n",
       "  'request_time': '2023-08-17T20:30:41+00:00',\n",
       "  'status_code': 'FAILED',\n",
       "  'user_id': 'cmarshak',\n",
       "  'name': 'track4-n3',\n",
       "  'job_parameters': {'compute_solid_earth_tide': True,\n",
       "   'estimate_ionosphere_delay': True,\n",
       "   'frame_id': 496,\n",
       "   'granules': ['S1A_IW_SLC__1SDV_20230807T230709_20230807T230736_049776_05FC51_0329',\n",
       "    'S1A_IW_SLC__1SDV_20230807T230734_20230807T230801_049776_05FC51_7667'],\n",
       "   'secondary_granules': ['S1A_IW_SLC__1SDV_20230608T230705_20230608T230732_048901_05E173_82F6',\n",
       "    'S1A_IW_SLC__1SDV_20230608T230730_20230608T230757_048901_05E173_21C5'],\n",
       "   'weather_model': 'HRRR'},\n",
       "  'logs': ['https://hyp3-tibet-jpl-contentbucket-81rn23hp7ppf.s3.us-west-2.amazonaws.com/38934b6c-9770-469f-b3fd-64852193fc75/38934b6c-9770-469f-b3fd-64852193fc75.log'],\n",
       "  'expiration_time': '2023-09-02T00:00:00+00:00',\n",
       "  'processing_times': [9362.393, 6.399]},\n",
       " {'job_id': '7d1974bc-b857-4f54-9c9b-5c8756bf4a3d',\n",
       "  'job_type': 'INSAR_ISCE_TEST',\n",
       "  'request_time': '2023-08-17T20:30:41+00:00',\n",
       "  'status_code': 'FAILED',\n",
       "  'user_id': 'cmarshak',\n",
       "  'name': 'track4-n3',\n",
       "  'job_parameters': {'compute_solid_earth_tide': True,\n",
       "   'estimate_ionosphere_delay': True,\n",
       "   'frame_id': 499,\n",
       "   'granules': ['S1A_IW_SLC__1SDV_20230714T230823_20230714T230851_049426_05F188_40C8',\n",
       "    'S1A_IW_SLC__1SDV_20230714T230848_20230714T230915_049426_05F188_3D2C'],\n",
       "   'secondary_granules': ['S1A_IW_SLC__1SDV_20230620T230821_20230620T230849_049076_05E6CC_4BC4',\n",
       "    'S1A_IW_SLC__1SDV_20230620T230847_20230620T230914_049076_05E6CC_63F7'],\n",
       "   'weather_model': 'HRRR'},\n",
       "  'logs': ['https://hyp3-tibet-jpl-contentbucket-81rn23hp7ppf.s3.us-west-2.amazonaws.com/7d1974bc-b857-4f54-9c9b-5c8756bf4a3d/7d1974bc-b857-4f54-9c9b-5c8756bf4a3d.log'],\n",
       "  'expiration_time': '2023-09-01T00:00:00+00:00',\n",
       "  'processing_times': [969.118]},\n",
       " {'job_id': 'ffe34fca-16e6-49b1-a260-2974b62b9236',\n",
       "  'job_type': 'INSAR_ISCE_TEST',\n",
       "  'request_time': '2023-08-17T20:30:41+00:00',\n",
       "  'status_code': 'FAILED',\n",
       "  'user_id': 'cmarshak',\n",
       "  'name': 'track4-n3',\n",
       "  'job_parameters': {'compute_solid_earth_tide': True,\n",
       "   'estimate_ionosphere_delay': True,\n",
       "   'frame_id': 497,\n",
       "   'granules': ['S1A_IW_SLC__1SDV_20230620T230731_20230620T230758_049076_05E6CC_F82A',\n",
       "    'S1A_IW_SLC__1SDV_20230620T230756_20230620T230823_049076_05E6CC_8269'],\n",
       "   'secondary_granules': ['S1A_IW_SLC__1SDV_20230515T230730_20230515T230757_048551_05D700_A87F',\n",
       "    'S1A_IW_SLC__1SDV_20230515T230754_20230515T230821_048551_05D700_2325'],\n",
       "   'weather_model': 'HRRR'},\n",
       "  'logs': ['https://hyp3-tibet-jpl-contentbucket-81rn23hp7ppf.s3.us-west-2.amazonaws.com/ffe34fca-16e6-49b1-a260-2974b62b9236/ffe34fca-16e6-49b1-a260-2974b62b9236.log'],\n",
       "  'expiration_time': '2023-09-01T00:00:00+00:00',\n",
       "  'processing_times': [806.696]}]"
      ]
     },
     "execution_count": 26,
     "metadata": {},
     "output_type": "execute_result"
    }
   ],
   "source": [
    "failed_jobs = hyp3_isce.find_jobs(name=job_names_unique[0], status_code='FAILED')\n",
    "dicts_failed = [j.to_dict() for j in failed_jobs]\n",
    "dicts_failed[-3:]"
   ]
  }
 ],
 "metadata": {
  "kernelspec": {
   "display_name": "aria_hyp3_env",
   "language": "python",
   "name": "aria_hyp3_env"
  },
  "language_info": {
   "codemirror_mode": {
    "name": "ipython",
    "version": 3
   },
   "file_extension": ".py",
   "mimetype": "text/x-python",
   "name": "python",
   "nbconvert_exporter": "python",
   "pygments_lexer": "ipython3",
   "version": "3.11.3"
  }
 },
 "nbformat": 4,
 "nbformat_minor": 5
}
