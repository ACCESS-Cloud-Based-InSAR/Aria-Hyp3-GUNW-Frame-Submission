{
 "cells": [
  {
   "cell_type": "code",
   "execution_count": null,
   "id": "1d1d8587-772a-4d16-9c1a-ebbd60521a7c",
   "metadata": {},
   "outputs": [],
   "source": [
    "import hyp3_sdk"
   ]
  },
  {
   "cell_type": "code",
   "execution_count": null,
   "id": "fc374d79-c657-4915-837f-455a00a5f8b4",
   "metadata": {},
   "outputs": [],
   "source": [
    "USER_NAME = 'access_cloud_based_insar'"
   ]
  },
  {
   "cell_type": "code",
   "execution_count": null,
   "id": "c757a5a8-29e9-4b49-9621-2c758ef15136",
   "metadata": {},
   "outputs": [],
   "source": [
    "# fetch all failed jobs from this campaign\n",
    "hyp3 = hyp3_sdk.HyP3('https://hyp3-tibet-jpl.asf.alaska.edu')\n",
    "jobs = hyp3.find_jobs(user_id=USER_NAME, \n",
    "                      start='2023-08-25T00:00:00Z', \n",
    "                      status_code='FAILED')"
   ]
  },
  {
   "cell_type": "code",
   "execution_count": null,
   "id": "266d024b-d88f-4041-99e8-a4dcfbc9f2e5",
   "metadata": {},
   "outputs": [],
   "source": [
    "# prune the attributes of these jobs to just the job type and parameters needed to re-submit them\n",
    "jobs_to_resubmit = [job.to_dict(for_resubmit=True) for job in jobs]\n",
    "\n",
    "# # some of these were originally INSAR_ISCE_TEST jobs, let's make sure they're all re-submitted as INSAR_ISCE\n",
    "# for job in jobs_to_resubmit:\n",
    "#     job['job_type'] = 'INSAR_ISCE'"
   ]
  },
  {
   "cell_type": "markdown",
   "id": "15636b9a-b5ab-4445-828d-0fc43af67f89",
   "metadata": {},
   "source": [
    "The nice way to resubmit jobs through the `hyp3_sdk`. Need to uncomment to use!"
   ]
  },
  {
   "cell_type": "code",
   "execution_count": null,
   "id": "a9206148-f98b-411f-8203-28ef9f2f3b79",
   "metadata": {},
   "outputs": [],
   "source": [
    "# # submit these jobs in batches of 200\n",
    "# for batch in hyp3_sdk.util.chunk(jobs_to_resubmit, 200):\n",
    "#     hyp3.submit_prepared_jobs(batch)"
   ]
  }
 ],
 "metadata": {
  "kernelspec": {
   "display_name": "aria_hyp3_env",
   "language": "python",
   "name": "aria_hyp3_env"
  },
  "language_info": {
   "codemirror_mode": {
    "name": "ipython",
    "version": 3
   },
   "file_extension": ".py",
   "mimetype": "text/x-python",
   "name": "python",
   "nbconvert_exporter": "python",
   "pygments_lexer": "ipython3",
   "version": "3.12.1"
  }
 },
 "nbformat": 4,
 "nbformat_minor": 5
}
